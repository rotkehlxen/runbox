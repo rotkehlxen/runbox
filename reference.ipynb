{
 "cells": [
  {
   "cell_type": "markdown",
   "metadata": {},
   "source": [
    "# Garth Migration"
   ]
  },
  {
   "cell_type": "code",
   "execution_count": 1,
   "metadata": {},
   "outputs": [],
   "source": [
    "import garminconnect"
   ]
  },
  {
   "cell_type": "markdown",
   "metadata": {},
   "source": [
    "## Login"
   ]
  },
  {
   "cell_type": "markdown",
   "metadata": {},
   "source": [
    "Request email and password.  If MFA is enabled, Garth will request it."
   ]
  },
  {
   "cell_type": "code",
   "execution_count": 2,
   "metadata": {},
   "outputs": [
    {
     "name": "stdin",
     "output_type": "stream",
     "text": [
      "Enter email address:  franziska.witzel@gmail.com\n",
      "Enter password:  ········\n"
     ]
    },
    {
     "data": {
      "text/plain": [
       "'franzlaeuft'"
      ]
     },
     "execution_count": 2,
     "metadata": {},
     "output_type": "execute_result"
    }
   ],
   "source": [
    "from getpass import getpass\n",
    "\n",
    "email = input(\"Enter email address: \")\n",
    "password = getpass(\"Enter password: \")\n",
    "\n",
    "garmin = garminconnect.Garmin(email, password)\n",
    "garmin.login()\n",
    "\n",
    "garmin.display_name"
   ]
  },
  {
   "cell_type": "markdown",
   "metadata": {},
   "source": [
    "Save session"
   ]
  },
  {
   "cell_type": "code",
   "execution_count": 4,
   "metadata": {},
   "outputs": [],
   "source": [
    "import os\n",
    "\n",
    "GARTH_HOME = os.getenv(\"GARTH_HOME\", \"~/.garth\")\n",
    "garmin.garth.dump(GARTH_HOME)\n",
    "\n",
    "# after running this cell, I have a folder .garth in my home directory and it \n",
    "# contains two authentication tokens (their content is quite different also), one of the files contains expiration \n",
    "# timestamps and such (and a refresh token as well)"
   ]
  },
  {
   "cell_type": "markdown",
   "metadata": {},
   "source": [
    "## Get Connect stats"
   ]
  },
  {
   "cell_type": "code",
   "execution_count": 5,
   "metadata": {},
   "outputs": [
    {
     "data": {
      "text/plain": [
       "'2025-07-16'"
      ]
     },
     "execution_count": 5,
     "metadata": {},
     "output_type": "execute_result"
    }
   ],
   "source": [
    "from datetime import date, timedelta\n",
    "\n",
    "yesterday = date.today() - timedelta(days=1)\n",
    "yesterday = yesterday.isoformat()\n",
    "yesterday"
   ]
  },
  {
   "cell_type": "code",
   "execution_count": 6,
   "metadata": {},
   "outputs": [
    {
     "data": {
      "text/plain": [
       "dict_keys(['userProfileId', 'totalKilocalories', 'activeKilocalories', 'bmrKilocalories', 'wellnessKilocalories', 'burnedKilocalories', 'consumedKilocalories', 'remainingKilocalories', 'totalSteps', 'netCalorieGoal', 'totalDistanceMeters', 'wellnessDistanceMeters', 'wellnessActiveKilocalories', 'netRemainingKilocalories', 'userDailySummaryId', 'calendarDate', 'rule', 'uuid', 'dailyStepGoal', 'wellnessStartTimeGmt', 'wellnessStartTimeLocal', 'wellnessEndTimeGmt', 'wellnessEndTimeLocal', 'durationInMilliseconds', 'wellnessDescription', 'highlyActiveSeconds', 'activeSeconds', 'sedentarySeconds', 'sleepingSeconds', 'includesWellnessData', 'includesActivityData', 'includesCalorieConsumedData', 'privacyProtected', 'moderateIntensityMinutes', 'vigorousIntensityMinutes', 'floorsAscendedInMeters', 'floorsDescendedInMeters', 'floorsAscended', 'floorsDescended', 'intensityMinutesGoal', 'userFloorsAscendedGoal', 'minHeartRate', 'maxHeartRate', 'restingHeartRate', 'lastSevenDaysAvgRestingHeartRate', 'source', 'averageStressLevel', 'maxStressLevel', 'stressDuration', 'restStressDuration', 'activityStressDuration', 'uncategorizedStressDuration', 'totalStressDuration', 'lowStressDuration', 'mediumStressDuration', 'highStressDuration', 'stressPercentage', 'restStressPercentage', 'activityStressPercentage', 'uncategorizedStressPercentage', 'lowStressPercentage', 'mediumStressPercentage', 'highStressPercentage', 'stressQualifier', 'measurableAwakeDuration', 'measurableAsleepDuration', 'lastSyncTimestampGMT', 'minAvgHeartRate', 'maxAvgHeartRate', 'bodyBatteryChargedValue', 'bodyBatteryDrainedValue', 'bodyBatteryHighestValue', 'bodyBatteryLowestValue', 'bodyBatteryMostRecentValue', 'bodyBatteryDuringSleep', 'bodyBatteryAtWakeTime', 'bodyBatteryVersion', 'abnormalHeartRateAlertsCount', 'averageSpo2', 'lowestSpo2', 'latestSpo2', 'latestSpo2ReadingTimeGmt', 'latestSpo2ReadingTimeLocal', 'averageMonitoringEnvironmentAltitude', 'restingCaloriesFromActivity', 'bodyBatteryDynamicFeedbackEvent'])"
      ]
     },
     "execution_count": 6,
     "metadata": {},
     "output_type": "execute_result"
    }
   ],
   "source": [
    "garmin.get_stats(yesterday).keys()"
   ]
  },
  {
   "cell_type": "code",
   "execution_count": 7,
   "metadata": {},
   "outputs": [
    {
     "data": {
      "text/plain": [
       "dict_keys(['userProfileId', 'totalKilocalories', 'activeKilocalories', 'bmrKilocalories', 'wellnessKilocalories', 'burnedKilocalories', 'consumedKilocalories', 'remainingKilocalories', 'totalSteps', 'netCalorieGoal', 'totalDistanceMeters', 'wellnessDistanceMeters', 'wellnessActiveKilocalories', 'netRemainingKilocalories', 'userDailySummaryId', 'calendarDate', 'rule', 'uuid', 'dailyStepGoal', 'wellnessStartTimeGmt', 'wellnessStartTimeLocal', 'wellnessEndTimeGmt', 'wellnessEndTimeLocal', 'durationInMilliseconds', 'wellnessDescription', 'highlyActiveSeconds', 'activeSeconds', 'sedentarySeconds', 'sleepingSeconds', 'includesWellnessData', 'includesActivityData', 'includesCalorieConsumedData', 'privacyProtected', 'moderateIntensityMinutes', 'vigorousIntensityMinutes', 'floorsAscendedInMeters', 'floorsDescendedInMeters', 'floorsAscended', 'floorsDescended', 'intensityMinutesGoal', 'userFloorsAscendedGoal', 'minHeartRate', 'maxHeartRate', 'restingHeartRate', 'lastSevenDaysAvgRestingHeartRate', 'source', 'averageStressLevel', 'maxStressLevel', 'stressDuration', 'restStressDuration', 'activityStressDuration', 'uncategorizedStressDuration', 'totalStressDuration', 'lowStressDuration', 'mediumStressDuration', 'highStressDuration', 'stressPercentage', 'restStressPercentage', 'activityStressPercentage', 'uncategorizedStressPercentage', 'lowStressPercentage', 'mediumStressPercentage', 'highStressPercentage', 'stressQualifier', 'measurableAwakeDuration', 'measurableAsleepDuration', 'lastSyncTimestampGMT', 'minAvgHeartRate', 'maxAvgHeartRate', 'bodyBatteryChargedValue', 'bodyBatteryDrainedValue', 'bodyBatteryHighestValue', 'bodyBatteryLowestValue', 'bodyBatteryMostRecentValue', 'bodyBatteryDuringSleep', 'bodyBatteryAtWakeTime', 'bodyBatteryVersion', 'abnormalHeartRateAlertsCount', 'averageSpo2', 'lowestSpo2', 'latestSpo2', 'latestSpo2ReadingTimeGmt', 'latestSpo2ReadingTimeLocal', 'averageMonitoringEnvironmentAltitude', 'restingCaloriesFromActivity', 'bodyBatteryDynamicFeedbackEvent'])"
      ]
     },
     "execution_count": 7,
     "metadata": {},
     "output_type": "execute_result"
    }
   ],
   "source": [
    "garmin.get_user_summary(yesterday).keys()"
   ]
  },
  {
   "cell_type": "code",
   "execution_count": 8,
   "metadata": {},
   "outputs": [
    {
     "data": {
      "text/plain": [
       "[{'startGMT': '2025-07-15T22:00:00.0',\n",
       "  'endGMT': '2025-07-15T22:15:00.0',\n",
       "  'steps': 0,\n",
       "  'pushes': 0,\n",
       "  'primaryActivityLevel': 'sedentary',\n",
       "  'activityLevelConstant': True},\n",
       " {'startGMT': '2025-07-15T22:15:00.0',\n",
       "  'endGMT': '2025-07-15T22:30:00.0',\n",
       "  'steps': 0,\n",
       "  'pushes': 0,\n",
       "  'primaryActivityLevel': 'sedentary',\n",
       "  'activityLevelConstant': True}]"
      ]
     },
     "execution_count": 8,
     "metadata": {},
     "output_type": "execute_result"
    }
   ],
   "source": [
    "garmin.get_steps_data(yesterday)[:2]"
   ]
  },
  {
   "cell_type": "code",
   "execution_count": 9,
   "metadata": {},
   "outputs": [
    {
     "data": {
      "text/plain": [
       "dict_keys(['startTimestampGMT', 'endTimestampGMT', 'startTimestampLocal', 'endTimestampLocal', 'floorsValueDescriptorDTOList', 'floorValuesArray'])"
      ]
     },
     "execution_count": 9,
     "metadata": {},
     "output_type": "execute_result"
    }
   ],
   "source": [
    "garmin.get_floors(yesterday).keys()"
   ]
  },
  {
   "cell_type": "code",
   "execution_count": 10,
   "metadata": {},
   "outputs": [
    {
     "data": {
      "text/plain": [
       "[{'calendarDate': '2025-07-16',\n",
       "  'totalSteps': None,\n",
       "  'totalDistance': None,\n",
       "  'stepGoal': 6600}]"
      ]
     },
     "execution_count": 10,
     "metadata": {},
     "output_type": "execute_result"
    }
   ],
   "source": [
    "garmin.get_daily_steps(yesterday, yesterday)"
   ]
  },
  {
   "cell_type": "code",
   "execution_count": 11,
   "metadata": {},
   "outputs": [
    {
     "data": {
      "text/plain": [
       "dict_keys(['userProfilePK', 'calendarDate', 'startTimestampGMT', 'endTimestampGMT', 'startTimestampLocal', 'endTimestampLocal', 'maxHeartRate', 'minHeartRate', 'restingHeartRate', 'lastSevenDaysAvgRestingHeartRate', 'heartRateValues', 'heartRateValueDescriptors'])"
      ]
     },
     "execution_count": 11,
     "metadata": {},
     "output_type": "execute_result"
    }
   ],
   "source": [
    "garmin.get_heart_rates(yesterday).keys()"
   ]
  },
  {
   "cell_type": "code",
   "execution_count": 12,
   "metadata": {},
   "outputs": [
    {
     "data": {
      "text/plain": [
       "dict_keys(['userProfileId', 'totalKilocalories', 'activeKilocalories', 'bmrKilocalories', 'wellnessKilocalories', 'burnedKilocalories', 'consumedKilocalories', 'remainingKilocalories', 'totalSteps', 'netCalorieGoal', 'totalDistanceMeters', 'wellnessDistanceMeters', 'wellnessActiveKilocalories', 'netRemainingKilocalories', 'userDailySummaryId', 'calendarDate', 'rule', 'uuid', 'dailyStepGoal', 'wellnessStartTimeGmt', 'wellnessStartTimeLocal', 'wellnessEndTimeGmt', 'wellnessEndTimeLocal', 'durationInMilliseconds', 'wellnessDescription', 'highlyActiveSeconds', 'activeSeconds', 'sedentarySeconds', 'sleepingSeconds', 'includesWellnessData', 'includesActivityData', 'includesCalorieConsumedData', 'privacyProtected', 'moderateIntensityMinutes', 'vigorousIntensityMinutes', 'floorsAscendedInMeters', 'floorsDescendedInMeters', 'floorsAscended', 'floorsDescended', 'intensityMinutesGoal', 'userFloorsAscendedGoal', 'minHeartRate', 'maxHeartRate', 'restingHeartRate', 'lastSevenDaysAvgRestingHeartRate', 'source', 'averageStressLevel', 'maxStressLevel', 'stressDuration', 'restStressDuration', 'activityStressDuration', 'uncategorizedStressDuration', 'totalStressDuration', 'lowStressDuration', 'mediumStressDuration', 'highStressDuration', 'stressPercentage', 'restStressPercentage', 'activityStressPercentage', 'uncategorizedStressPercentage', 'lowStressPercentage', 'mediumStressPercentage', 'highStressPercentage', 'stressQualifier', 'measurableAwakeDuration', 'measurableAsleepDuration', 'lastSyncTimestampGMT', 'minAvgHeartRate', 'maxAvgHeartRate', 'bodyBatteryChargedValue', 'bodyBatteryDrainedValue', 'bodyBatteryHighestValue', 'bodyBatteryLowestValue', 'bodyBatteryMostRecentValue', 'bodyBatteryDuringSleep', 'bodyBatteryAtWakeTime', 'bodyBatteryVersion', 'abnormalHeartRateAlertsCount', 'averageSpo2', 'lowestSpo2', 'latestSpo2', 'latestSpo2ReadingTimeGmt', 'latestSpo2ReadingTimeLocal', 'averageMonitoringEnvironmentAltitude', 'restingCaloriesFromActivity', 'bodyBatteryDynamicFeedbackEvent', 'from', 'until', 'weight', 'bmi', 'bodyFat', 'bodyWater', 'boneMass', 'muscleMass', 'physiqueRating', 'visceralFat', 'metabolicAge'])"
      ]
     },
     "execution_count": 12,
     "metadata": {},
     "output_type": "execute_result"
    }
   ],
   "source": [
    "garmin.get_stats_and_body(yesterday).keys()"
   ]
  },
  {
   "cell_type": "code",
   "execution_count": 13,
   "metadata": {},
   "outputs": [
    {
     "data": {
      "text/plain": [
       "{'startDate': '2025-07-16',\n",
       " 'endDate': '2025-07-16',\n",
       " 'dateWeightList': [],\n",
       " 'totalAverage': {'from': 1752624000000,\n",
       "  'until': 1752710399999,\n",
       "  'weight': None,\n",
       "  'bmi': None,\n",
       "  'bodyFat': None,\n",
       "  'bodyWater': None,\n",
       "  'boneMass': None,\n",
       "  'muscleMass': None,\n",
       "  'physiqueRating': None,\n",
       "  'visceralFat': None,\n",
       "  'metabolicAge': None}}"
      ]
     },
     "execution_count": 13,
     "metadata": {},
     "output_type": "execute_result"
    }
   ],
   "source": [
    "garmin.get_body_composition(yesterday)"
   ]
  },
  {
   "cell_type": "code",
   "execution_count": 14,
   "metadata": {},
   "outputs": [
    {
     "data": {
      "text/plain": [
       "dict_keys(['date', 'charged', 'drained', 'startTimestampGMT', 'endTimestampGMT', 'startTimestampLocal', 'endTimestampLocal', 'bodyBatteryValuesArray', 'bodyBatteryValueDescriptorDTOList', 'bodyBatteryDynamicFeedbackEvent'])"
      ]
     },
     "execution_count": 14,
     "metadata": {},
     "output_type": "execute_result"
    }
   ],
   "source": [
    "garmin.get_body_battery(yesterday)[0].keys()"
   ]
  },
  {
   "cell_type": "code",
   "execution_count": 15,
   "metadata": {},
   "outputs": [
    {
     "data": {
      "text/plain": [
       "{'from': '2025-07-16',\n",
       " 'until': '2025-07-16',\n",
       " 'measurementSummaries': [],\n",
       " 'categoryStats': None}"
      ]
     },
     "execution_count": 15,
     "metadata": {},
     "output_type": "execute_result"
    }
   ],
   "source": [
    "garmin.get_blood_pressure(yesterday)"
   ]
  },
  {
   "cell_type": "code",
   "execution_count": 16,
   "metadata": {},
   "outputs": [
    {
     "data": {
      "text/plain": [
       "[]"
      ]
     },
     "execution_count": 16,
     "metadata": {},
     "output_type": "execute_result"
    }
   ],
   "source": [
    "garmin.get_max_metrics(yesterday)"
   ]
  },
  {
   "cell_type": "code",
   "execution_count": 17,
   "metadata": {},
   "outputs": [
    {
     "data": {
      "text/plain": [
       "{'userId': 27447418,\n",
       " 'calendarDate': '2025-07-16',\n",
       " 'valueInML': None,\n",
       " 'goalInML': 2100.0,\n",
       " 'dailyAverageinML': None,\n",
       " 'lastEntryTimestampLocal': None,\n",
       " 'sweatLossInML': None,\n",
       " 'activityIntakeInML': None}"
      ]
     },
     "execution_count": 17,
     "metadata": {},
     "output_type": "execute_result"
    }
   ],
   "source": [
    "garmin.get_hydration_data(yesterday)"
   ]
  },
  {
   "cell_type": "code",
   "execution_count": 18,
   "metadata": {},
   "outputs": [
    {
     "data": {
      "text/plain": [
       "dict_keys(['userProfilePK', 'calendarDate', 'startTimestampGMT', 'endTimestampGMT', 'startTimestampLocal', 'endTimestampLocal', 'sleepStartTimestampGMT', 'sleepEndTimestampGMT', 'sleepStartTimestampLocal', 'sleepEndTimestampLocal', 'tomorrowSleepStartTimestampGMT', 'tomorrowSleepEndTimestampGMT', 'tomorrowSleepStartTimestampLocal', 'tomorrowSleepEndTimestampLocal', 'lowestRespirationValue', 'highestRespirationValue', 'avgWakingRespirationValue', 'avgSleepRespirationValue', 'avgTomorrowSleepRespirationValue', 'respirationValueDescriptorsDTOList', 'respirationValuesArray', 'respirationAveragesValueDescriptorDTOList', 'respirationAveragesValuesArray', 'respirationVersion'])"
      ]
     },
     "execution_count": 18,
     "metadata": {},
     "output_type": "execute_result"
    }
   ],
   "source": [
    "garmin.get_respiration_data(yesterday).keys()"
   ]
  },
  {
   "cell_type": "code",
   "execution_count": 19,
   "metadata": {},
   "outputs": [
    {
     "data": {
      "text/plain": [
       "dict_keys(['userProfilePK', 'calendarDate', 'startTimestampGMT', 'endTimestampGMT', 'startTimestampLocal', 'endTimestampLocal', 'sleepStartTimestampGMT', 'sleepEndTimestampGMT', 'sleepStartTimestampLocal', 'sleepEndTimestampLocal', 'tomorrowSleepStartTimestampGMT', 'tomorrowSleepEndTimestampGMT', 'tomorrowSleepStartTimestampLocal', 'tomorrowSleepEndTimestampLocal', 'averageSpO2', 'lowestSpO2', 'lastSevenDaysAvgSpO2', 'latestSpO2', 'latestSpO2TimestampGMT', 'latestSpO2TimestampLocal', 'avgSleepSpO2', 'avgTomorrowSleepSpO2', 'spO2ValueDescriptorsDTOList', 'spO2SingleValues', 'continuousReadingDTOList', 'spO2HourlyAverages'])"
      ]
     },
     "execution_count": 19,
     "metadata": {},
     "output_type": "execute_result"
    }
   ],
   "source": [
    "garmin.get_spo2_data(yesterday).keys()"
   ]
  },
  {
   "cell_type": "code",
   "execution_count": 20,
   "metadata": {},
   "outputs": [
    {
     "data": {
      "text/plain": [
       "[{'id': 2189448738,\n",
       "  'typeId': 1,\n",
       "  'status': 'ACCEPTED',\n",
       "  'activityId': 10207655058,\n",
       "  'activityName': 'Berlin Laufen',\n",
       "  'activityType': 'running',\n",
       "  'activityStartDateTimeInGMT': 1672327347000,\n",
       "  'actStartDateTimeInGMTFormatted': '2022-12-29T15:22:27.0',\n",
       "  'activityStartDateTimeLocal': 1672330947000,\n",
       "  'activityStartDateTimeLocalFormatted': '2022-12-29T16:22:27.0',\n",
       "  'value': 317.9219970703125,\n",
       "  'prStartTimeGmt': 1672327941000,\n",
       "  'prStartTimeGmtFormatted': '2022-12-29T15:32:21.0',\n",
       "  'prStartTimeLocal': None,\n",
       "  'prStartTimeLocalFormatted': None,\n",
       "  'prTypeLabelKey': None,\n",
       "  'poolLengthUnit': None},\n",
       " {'id': 2527638163,\n",
       "  'typeId': 3,\n",
       "  'status': 'ACCEPTED',\n",
       "  'activityId': 17274208269,\n",
       "  'activityName': 'Berlin Running',\n",
       "  'activityType': 'running',\n",
       "  'activityStartDateTimeInGMT': 1728814135000,\n",
       "  'actStartDateTimeInGMTFormatted': '2024-10-13T10:08:55.0',\n",
       "  'activityStartDateTimeLocal': 1728821335000,\n",
       "  'activityStartDateTimeLocalFormatted': '2024-10-13T12:08:55.0',\n",
       "  'value': 1979.779052734375,\n",
       "  'prStartTimeGmt': 1728814135000,\n",
       "  'prStartTimeGmtFormatted': '2024-10-13T10:08:55.0',\n",
       "  'prStartTimeLocal': None,\n",
       "  'prStartTimeLocalFormatted': None,\n",
       "  'prTypeLabelKey': None,\n",
       "  'poolLengthUnit': None}]"
      ]
     },
     "execution_count": 20,
     "metadata": {},
     "output_type": "execute_result"
    }
   ],
   "source": [
    "garmin.get_personal_record()[:2]"
   ]
  },
  {
   "cell_type": "code",
   "execution_count": 21,
   "metadata": {},
   "outputs": [
    {
     "data": {
      "text/plain": [
       "[[1752616800000, None, None, 3.0],\n",
       " [1752616980000, None, None, 3.0],\n",
       " [1752617160000, None, None, 3.0],\n",
       " [1752617340000, None, None, 3.0],\n",
       " [1752617520000, None, None, 3.0],\n",
       " [1752617700000, None, None, 3.0],\n",
       " [1752617880000, None, None, 3.0],\n",
       " [1752618060000, None, None, 3.0],\n",
       " [1752618240000, None, None, 3.0],\n",
       " [1752618420000, None, None, 3.0]]"
      ]
     },
     "execution_count": 21,
     "metadata": {},
     "output_type": "execute_result"
    }
   ],
   "source": [
    "garmin.get_all_day_stress(yesterday)['bodyBatteryValuesArray'][:10]"
   ]
  },
  {
   "cell_type": "markdown",
   "metadata": {},
   "source": [
    "## Get the distance of my last run"
   ]
  },
  {
   "cell_type": "code",
   "execution_count": 55,
   "metadata": {},
   "outputs": [],
   "source": [
    "today = date.today()\n",
    "one_week_ago = today -  timedelta(days=7)\n",
    "activities_last_week = garmin.get_activities_by_date(one_week_ago.isoformat(), today.isoformat())"
   ]
  },
  {
   "cell_type": "code",
   "execution_count": 56,
   "metadata": {},
   "outputs": [
    {
     "data": {
      "text/plain": [
       "list"
      ]
     },
     "execution_count": 56,
     "metadata": {},
     "output_type": "execute_result"
    }
   ],
   "source": [
    "type(activities_last_week)"
   ]
  },
  {
   "cell_type": "code",
   "execution_count": 57,
   "metadata": {},
   "outputs": [
    {
     "data": {
      "text/plain": [
       "6"
      ]
     },
     "execution_count": 57,
     "metadata": {},
     "output_type": "execute_result"
    }
   ],
   "source": [
    "len(activities_last_week)"
   ]
  },
  {
   "cell_type": "code",
   "execution_count": 58,
   "metadata": {},
   "outputs": [],
   "source": [
    "example_activity = activities_last_week[0]"
   ]
  },
  {
   "cell_type": "code",
   "execution_count": 59,
   "metadata": {},
   "outputs": [
    {
     "data": {
      "text/plain": [
       "dict"
      ]
     },
     "execution_count": 59,
     "metadata": {},
     "output_type": "execute_result"
    }
   ],
   "source": [
    "type(example_activity)"
   ]
  },
  {
   "cell_type": "code",
   "execution_count": 60,
   "metadata": {},
   "outputs": [
    {
     "data": {
      "text/plain": [
       "dict_keys(['activityId', 'activityName', 'startTimeLocal', 'startTimeGMT', 'activityType', 'eventType', 'distance', 'duration', 'elapsedDuration', 'movingDuration', 'elevationGain', 'elevationLoss', 'averageSpeed', 'maxSpeed', 'startLatitude', 'startLongitude', 'hasPolyline', 'hasImages', 'ownerId', 'ownerDisplayName', 'ownerFullName', 'ownerProfileImageUrlSmall', 'ownerProfileImageUrlMedium', 'ownerProfileImageUrlLarge', 'calories', 'bmrCalories', 'averageHR', 'maxHR', 'averageRunningCadenceInStepsPerMinute', 'maxRunningCadenceInStepsPerMinute', 'steps', 'userRoles', 'privacy', 'userPro', 'hasVideo', 'timeZoneId', 'beginTimestamp', 'sportTypeId', 'avgPower', 'maxPower', 'aerobicTrainingEffect', 'anaerobicTrainingEffect', 'normPower', 'avgVerticalOscillation', 'avgGroundContactTime', 'avgStrideLength', 'vO2MaxValue', 'avgVerticalRatio', 'avgGroundContactBalance', 'workoutId', 'deviceId', 'minElevation', 'maxElevation', 'maxDoubleCadence', 'summarizedDiveInfo', 'maxVerticalSpeed', 'manufacturer', 'locationName', 'lapCount', 'endLatitude', 'endLongitude', 'waterEstimated', 'minRespirationRate', 'maxRespirationRate', 'avgRespirationRate', 'trainingEffectLabel', 'activityTrainingLoad', 'minActivityLapDuration', 'aerobicTrainingEffectMessage', 'anaerobicTrainingEffectMessage', 'splitSummaries', 'hasSplits', 'moderateIntensityMinutes', 'vigorousIntensityMinutes', 'avgGradeAdjustedSpeed', 'differenceBodyBattery', 'hasHeatMap', 'fastestSplit_1000', 'fastestSplit_1609', 'hrTimeInZone_1', 'hrTimeInZone_2', 'hrTimeInZone_3', 'hrTimeInZone_4', 'hrTimeInZone_5', 'powerTimeInZone_1', 'powerTimeInZone_2', 'powerTimeInZone_3', 'powerTimeInZone_4', 'powerTimeInZone_5', 'endTimeGMT', 'qualifyingDive', 'favorite', 'elevationCorrected', 'purposeful', 'decoDive', 'manualActivity', 'autoCalcCalories', 'parent', 'pr', 'atpActivity'])"
      ]
     },
     "execution_count": 60,
     "metadata": {},
     "output_type": "execute_result"
    }
   ],
   "source": [
    "example_activity.keys()"
   ]
  },
  {
   "cell_type": "code",
   "execution_count": 61,
   "metadata": {},
   "outputs": [
    {
     "data": {
      "text/plain": [
       "'Berlin - easy run 30 min'"
      ]
     },
     "execution_count": 61,
     "metadata": {},
     "output_type": "execute_result"
    }
   ],
   "source": [
    "example_activity['activityName']"
   ]
  },
  {
   "cell_type": "code",
   "execution_count": 62,
   "metadata": {},
   "outputs": [
    {
     "data": {
      "text/plain": [
       "'2025-07-17 11:50:16'"
      ]
     },
     "execution_count": 62,
     "metadata": {},
     "output_type": "execute_result"
    }
   ],
   "source": [
    "example_activity['startTimeLocal']"
   ]
  },
  {
   "cell_type": "code",
   "execution_count": 63,
   "metadata": {},
   "outputs": [
    {
     "data": {
      "text/plain": [
       "'2025-07-17 09:50:16'"
      ]
     },
     "execution_count": 63,
     "metadata": {},
     "output_type": "execute_result"
    }
   ],
   "source": [
    "# Greenwich mean time\n",
    "example_activity['startTimeGMT']"
   ]
  },
  {
   "cell_type": "code",
   "execution_count": 64,
   "metadata": {},
   "outputs": [
    {
     "data": {
      "text/plain": [
       "{'typeId': 1,\n",
       " 'typeKey': 'running',\n",
       " 'parentTypeId': 17,\n",
       " 'isHidden': False,\n",
       " 'restricted': False,\n",
       " 'trimmable': True}"
      ]
     },
     "execution_count": 64,
     "metadata": {},
     "output_type": "execute_result"
    }
   ],
   "source": [
    "example_activity['activityType']"
   ]
  },
  {
   "cell_type": "code",
   "execution_count": 65,
   "metadata": {},
   "outputs": [],
   "source": [
    "# ok, filter for running activities\n",
    "runs_last_week = [activity for activity in activities_last_week if activity['activityType']['typeKey'] == 'running']"
   ]
  },
  {
   "cell_type": "code",
   "execution_count": 66,
   "metadata": {},
   "outputs": [
    {
     "data": {
      "text/plain": [
       "3"
      ]
     },
     "execution_count": 66,
     "metadata": {},
     "output_type": "execute_result"
    }
   ],
   "source": [
    "len(runs_last_week)"
   ]
  },
  {
   "cell_type": "code",
   "execution_count": 67,
   "metadata": {},
   "outputs": [
    {
     "data": {
      "text/plain": [
       "4015.139892578125"
      ]
     },
     "execution_count": 67,
     "metadata": {},
     "output_type": "execute_result"
    }
   ],
   "source": [
    "# distance in m - this is what I want!\n",
    "example_activity['distance']"
   ]
  },
  {
   "cell_type": "code",
   "execution_count": 68,
   "metadata": {},
   "outputs": [
    {
     "data": {
      "text/plain": [
       "1914.083984375"
      ]
     },
     "execution_count": 68,
     "metadata": {},
     "output_type": "execute_result"
    }
   ],
   "source": [
    "# duration in seconds\n",
    "example_activity['duration']"
   ]
  },
  {
   "cell_type": "code",
   "execution_count": 69,
   "metadata": {},
   "outputs": [
    {
     "data": {
      "text/plain": [
       "2.0980000495910645"
      ]
     },
     "execution_count": 69,
     "metadata": {},
     "output_type": "execute_result"
    }
   ],
   "source": [
    "# in m/s\n",
    "example_activity['averageSpeed']"
   ]
  },
  {
   "cell_type": "code",
   "execution_count": 70,
   "metadata": {},
   "outputs": [
    {
     "data": {
      "text/plain": [
       "145.0"
      ]
     },
     "execution_count": 70,
     "metadata": {},
     "output_type": "execute_result"
    }
   ],
   "source": [
    "example_activity['averageHR']"
   ]
  },
  {
   "cell_type": "code",
   "execution_count": 71,
   "metadata": {},
   "outputs": [
    {
     "data": {
      "text/plain": [
       "177.0"
      ]
     },
     "execution_count": 71,
     "metadata": {},
     "output_type": "execute_result"
    }
   ],
   "source": [
    "example_activity['maxHR']"
   ]
  },
  {
   "cell_type": "code",
   "execution_count": 72,
   "metadata": {},
   "outputs": [
    {
     "data": {
      "text/plain": [
       "653.184"
      ]
     },
     "execution_count": 72,
     "metadata": {},
     "output_type": "execute_result"
    }
   ],
   "source": [
    "example_activity['hrTimeInZone_2']"
   ]
  },
  {
   "cell_type": "code",
   "execution_count": 73,
   "metadata": {},
   "outputs": [
    {
     "data": {
      "text/plain": [
       "477"
      ]
     },
     "execution_count": 73,
     "metadata": {},
     "output_type": "execute_result"
    }
   ],
   "source": [
    "# avg pace 7:57/km = 7*60+57, 477s/km\n",
    "7*60+57"
   ]
  },
  {
   "cell_type": "code",
   "execution_count": 74,
   "metadata": {},
   "outputs": [
    {
     "data": {
      "text/plain": [
       "7.547169811320754"
      ]
     },
     "execution_count": 74,
     "metadata": {},
     "output_type": "execute_result"
    }
   ],
   "source": [
    "# km/h\n",
    "1/(477/3600)"
   ]
  },
  {
   "cell_type": "code",
   "execution_count": 75,
   "metadata": {},
   "outputs": [
    {
     "data": {
      "text/plain": [
       "2.0964360587002093"
      ]
     },
     "execution_count": 75,
     "metadata": {},
     "output_type": "execute_result"
    }
   ],
   "source": [
    "# in m/s\n",
    "1/(477/3600)*1000/3600"
   ]
  },
  {
   "cell_type": "code",
   "execution_count": 97,
   "metadata": {},
   "outputs": [],
   "source": [
    "import datetime as dt\n",
    "import numpy as np\n",
    "import pandas as pd"
   ]
  },
  {
   "cell_type": "code",
   "execution_count": 95,
   "metadata": {},
   "outputs": [],
   "source": [
    "# filter out the stats that I want\n",
    "tformat = '%Y-%m-%d %H:%M:%S'\n",
    "run_stats = [{'id': run['activityId'],\n",
    "  'distance_km': run['distance']/1000, \n",
    "  'date': dt.datetime.strptime(run['startTimeLocal'], tformat).date(),\n",
    "  'duration_min': run['duration']/60} for run in runs_last_week]"
   ]
  },
  {
   "cell_type": "code",
   "execution_count": 112,
   "metadata": {},
   "outputs": [
    {
     "data": {
      "text/html": [
       "<div>\n",
       "<style scoped>\n",
       "    .dataframe tbody tr th:only-of-type {\n",
       "        vertical-align: middle;\n",
       "    }\n",
       "\n",
       "    .dataframe tbody tr th {\n",
       "        vertical-align: top;\n",
       "    }\n",
       "\n",
       "    .dataframe thead th {\n",
       "        text-align: right;\n",
       "    }\n",
       "</style>\n",
       "<table border=\"1\" class=\"dataframe\">\n",
       "  <thead>\n",
       "    <tr style=\"text-align: right;\">\n",
       "      <th></th>\n",
       "      <th>id</th>\n",
       "      <th>distance_km</th>\n",
       "      <th>date</th>\n",
       "      <th>duration_min</th>\n",
       "    </tr>\n",
       "  </thead>\n",
       "  <tbody>\n",
       "    <tr>\n",
       "      <th>0</th>\n",
       "      <td>19760082314</td>\n",
       "      <td>4.01514</td>\n",
       "      <td>2025-07-17</td>\n",
       "      <td>31.901400</td>\n",
       "    </tr>\n",
       "    <tr>\n",
       "      <th>1</th>\n",
       "      <td>19741265821</td>\n",
       "      <td>7.01528</td>\n",
       "      <td>2025-07-15</td>\n",
       "      <td>59.148067</td>\n",
       "    </tr>\n",
       "    <tr>\n",
       "      <th>2</th>\n",
       "      <td>19700187285</td>\n",
       "      <td>3.01154</td>\n",
       "      <td>2025-07-11</td>\n",
       "      <td>23.872717</td>\n",
       "    </tr>\n",
       "  </tbody>\n",
       "</table>\n",
       "</div>"
      ],
      "text/plain": [
       "            id  distance_km        date  duration_min\n",
       "0  19760082314      4.01514  2025-07-17     31.901400\n",
       "1  19741265821      7.01528  2025-07-15     59.148067\n",
       "2  19700187285      3.01154  2025-07-11     23.872717"
      ]
     },
     "execution_count": 112,
     "metadata": {},
     "output_type": "execute_result"
    }
   ],
   "source": [
    "pd.DataFrame(run_stats)"
   ]
  },
  {
   "cell_type": "code",
   "execution_count": 103,
   "metadata": {},
   "outputs": [],
   "source": [
    "# in case we have multiple runs per day, sum up distance and duration - get rid of id id column!\n",
    "# to test this, lets create a copy of this frame with an extra row\n",
    "test = pd.DataFrame(run_stats)\n",
    "test.loc[len(test)] = [1, 2, dt.date(2025, 7, 11), 18 ]"
   ]
  },
  {
   "cell_type": "code",
   "execution_count": 104,
   "metadata": {},
   "outputs": [
    {
     "data": {
      "text/html": [
       "<div>\n",
       "<style scoped>\n",
       "    .dataframe tbody tr th:only-of-type {\n",
       "        vertical-align: middle;\n",
       "    }\n",
       "\n",
       "    .dataframe tbody tr th {\n",
       "        vertical-align: top;\n",
       "    }\n",
       "\n",
       "    .dataframe thead th {\n",
       "        text-align: right;\n",
       "    }\n",
       "</style>\n",
       "<table border=\"1\" class=\"dataframe\">\n",
       "  <thead>\n",
       "    <tr style=\"text-align: right;\">\n",
       "      <th></th>\n",
       "      <th>id</th>\n",
       "      <th>distance_km</th>\n",
       "      <th>date</th>\n",
       "      <th>duration_min</th>\n",
       "    </tr>\n",
       "  </thead>\n",
       "  <tbody>\n",
       "    <tr>\n",
       "      <th>0</th>\n",
       "      <td>19760082314</td>\n",
       "      <td>4.01514</td>\n",
       "      <td>2025-07-17</td>\n",
       "      <td>31.901400</td>\n",
       "    </tr>\n",
       "    <tr>\n",
       "      <th>1</th>\n",
       "      <td>19741265821</td>\n",
       "      <td>7.01528</td>\n",
       "      <td>2025-07-15</td>\n",
       "      <td>59.148067</td>\n",
       "    </tr>\n",
       "    <tr>\n",
       "      <th>2</th>\n",
       "      <td>19700187285</td>\n",
       "      <td>3.01154</td>\n",
       "      <td>2025-07-11</td>\n",
       "      <td>23.872717</td>\n",
       "    </tr>\n",
       "    <tr>\n",
       "      <th>3</th>\n",
       "      <td>1</td>\n",
       "      <td>2.00000</td>\n",
       "      <td>2025-07-11</td>\n",
       "      <td>18.000000</td>\n",
       "    </tr>\n",
       "  </tbody>\n",
       "</table>\n",
       "</div>"
      ],
      "text/plain": [
       "            id  distance_km        date  duration_min\n",
       "0  19760082314      4.01514  2025-07-17     31.901400\n",
       "1  19741265821      7.01528  2025-07-15     59.148067\n",
       "2  19700187285      3.01154  2025-07-11     23.872717\n",
       "3            1      2.00000  2025-07-11     18.000000"
      ]
     },
     "execution_count": 104,
     "metadata": {},
     "output_type": "execute_result"
    }
   ],
   "source": [
    "test"
   ]
  },
  {
   "cell_type": "code",
   "execution_count": 108,
   "metadata": {},
   "outputs": [
    {
     "data": {
      "text/html": [
       "<div>\n",
       "<style scoped>\n",
       "    .dataframe tbody tr th:only-of-type {\n",
       "        vertical-align: middle;\n",
       "    }\n",
       "\n",
       "    .dataframe tbody tr th {\n",
       "        vertical-align: top;\n",
       "    }\n",
       "\n",
       "    .dataframe thead th {\n",
       "        text-align: right;\n",
       "    }\n",
       "</style>\n",
       "<table border=\"1\" class=\"dataframe\">\n",
       "  <thead>\n",
       "    <tr style=\"text-align: right;\">\n",
       "      <th></th>\n",
       "      <th>date</th>\n",
       "      <th>tot_distance_km</th>\n",
       "      <th>tot_duration_min</th>\n",
       "    </tr>\n",
       "  </thead>\n",
       "  <tbody>\n",
       "    <tr>\n",
       "      <th>0</th>\n",
       "      <td>2025-07-11</td>\n",
       "      <td>5.01154</td>\n",
       "      <td>41.872717</td>\n",
       "    </tr>\n",
       "    <tr>\n",
       "      <th>1</th>\n",
       "      <td>2025-07-15</td>\n",
       "      <td>7.01528</td>\n",
       "      <td>59.148067</td>\n",
       "    </tr>\n",
       "    <tr>\n",
       "      <th>2</th>\n",
       "      <td>2025-07-17</td>\n",
       "      <td>4.01514</td>\n",
       "      <td>31.901400</td>\n",
       "    </tr>\n",
       "  </tbody>\n",
       "</table>\n",
       "</div>"
      ],
      "text/plain": [
       "         date  tot_distance_km  tot_duration_min\n",
       "0  2025-07-11          5.01154         41.872717\n",
       "1  2025-07-15          7.01528         59.148067\n",
       "2  2025-07-17          4.01514         31.901400"
      ]
     },
     "execution_count": 108,
     "metadata": {},
     "output_type": "execute_result"
    }
   ],
   "source": [
    "test.groupby(\"date\")[[\"distance_km\", \"duration_min\"]].sum().reset_index().\\\n",
    "    rename(columns={\"distance_km\": \"tot_distance_km\", \"duration_min\": \"tot_duration_min\"})"
   ]
  },
  {
   "cell_type": "code",
   "execution_count": 109,
   "metadata": {},
   "outputs": [],
   "source": [
    "# ok, now we have all pieces for extracting the data that we want\n",
    "# we could also build an incremental pipeline (pull data from dates >= the max date in the table that we store)\n",
    "# in this case a txt file would suffice (ok, add that later!)"
   ]
  },
  {
   "cell_type": "code",
   "execution_count": 284,
   "metadata": {},
   "outputs": [],
   "source": [
    "# actually we need more! we have to fill in data from the whole year(s), indicating a zero value \n",
    "# for days without a run!\n",
    "def date_range(date_from: dt.date, date_to: dt.date) -> list[dt.date]:\n",
    "    \"\"\"\n",
    "    Create list of dates from [date_from] to [date_to] including the\n",
    "    from and to dates.\n",
    "    \"\"\"\n",
    "    return [\n",
    "        date_from + dt.timedelta(days=i)\n",
    "        for i in range((date_to - date_from).days + 1)\n",
    "    ]\n",
    "def github_weekday(date: dt.date) -> int:\n",
    "    \"\"\"\n",
    "    return 0 for Sunday, 1 for Monday etc\n",
    "    \"\"\"\n",
    "    return date.isoweekday() % 7\n",
    "\n",
    "def week_of_year(date: dt.date, year: int) -> int:\n",
    "    \"\"\"\n",
    "    to do it right, we need to know what day the year in question starts with)\n",
    "    \"\"\"\n",
    "    # tm_yday provides the number of the day in the year\n",
    "    return (date.timetuple().tm_yday + github_weekday(dt.date(year,1,1)) - 1) // 7"
   ]
  },
  {
   "cell_type": "code",
   "execution_count": 137,
   "metadata": {},
   "outputs": [],
   "source": [
    "base = pd.DataFrame({'date': date_range(dt.date(2025,1,1), dt.date(2025,12,31))})"
   ]
  },
  {
   "cell_type": "code",
   "execution_count": 140,
   "metadata": {},
   "outputs": [],
   "source": [
    "new = pd.merge(base, pd.DataFrame(run_stats), on='date', how='left').fillna(0)"
   ]
  },
  {
   "cell_type": "code",
   "execution_count": 141,
   "metadata": {},
   "outputs": [
    {
     "data": {
      "text/html": [
       "<div>\n",
       "<style scoped>\n",
       "    .dataframe tbody tr th:only-of-type {\n",
       "        vertical-align: middle;\n",
       "    }\n",
       "\n",
       "    .dataframe tbody tr th {\n",
       "        vertical-align: top;\n",
       "    }\n",
       "\n",
       "    .dataframe thead th {\n",
       "        text-align: right;\n",
       "    }\n",
       "</style>\n",
       "<table border=\"1\" class=\"dataframe\">\n",
       "  <thead>\n",
       "    <tr style=\"text-align: right;\">\n",
       "      <th></th>\n",
       "      <th>date</th>\n",
       "      <th>id</th>\n",
       "      <th>distance_km</th>\n",
       "      <th>duration_min</th>\n",
       "    </tr>\n",
       "  </thead>\n",
       "  <tbody>\n",
       "    <tr>\n",
       "      <th>191</th>\n",
       "      <td>2025-07-11</td>\n",
       "      <td>1.970019e+10</td>\n",
       "      <td>3.01154</td>\n",
       "      <td>23.872717</td>\n",
       "    </tr>\n",
       "    <tr>\n",
       "      <th>195</th>\n",
       "      <td>2025-07-15</td>\n",
       "      <td>1.974127e+10</td>\n",
       "      <td>7.01528</td>\n",
       "      <td>59.148067</td>\n",
       "    </tr>\n",
       "    <tr>\n",
       "      <th>197</th>\n",
       "      <td>2025-07-17</td>\n",
       "      <td>1.976008e+10</td>\n",
       "      <td>4.01514</td>\n",
       "      <td>31.901400</td>\n",
       "    </tr>\n",
       "  </tbody>\n",
       "</table>\n",
       "</div>"
      ],
      "text/plain": [
       "           date            id  distance_km  duration_min\n",
       "191  2025-07-11  1.970019e+10      3.01154     23.872717\n",
       "195  2025-07-15  1.974127e+10      7.01528     59.148067\n",
       "197  2025-07-17  1.976008e+10      4.01514     31.901400"
      ]
     },
     "execution_count": 141,
     "metadata": {},
     "output_type": "execute_result"
    }
   ],
   "source": [
    "new[new.distance_km != 0]"
   ]
  },
  {
   "cell_type": "code",
   "execution_count": 296,
   "metadata": {},
   "outputs": [],
   "source": [
    "# add weekday and week for plotting stuff correctly\n",
    "# note that we cannot use the iso week of the year, because the last days in the year already belong to week 1 of the next year, \n",
    "# which gives us non-unique identifiers down the line\n",
    "new['github_weekday'] = new.date.apply(lambda x: github_weekday(x))\n",
    "new['calendar_week'] = new.date.apply(lambda x: week_of_year(x, 2025))\n",
    "new[\"day\"] = new.date.apply(lambda x: x.strftime(\"%Y-%m-%d\"))\n",
    "new['month'] = new.date.apply(lambda x: x.strftime(\"%b\"))"
   ]
  },
  {
   "cell_type": "code",
   "execution_count": 297,
   "metadata": {},
   "outputs": [
    {
     "data": {
      "text/html": [
       "<div>\n",
       "<style scoped>\n",
       "    .dataframe tbody tr th:only-of-type {\n",
       "        vertical-align: middle;\n",
       "    }\n",
       "\n",
       "    .dataframe tbody tr th {\n",
       "        vertical-align: top;\n",
       "    }\n",
       "\n",
       "    .dataframe thead th {\n",
       "        text-align: right;\n",
       "    }\n",
       "</style>\n",
       "<table border=\"1\" class=\"dataframe\">\n",
       "  <thead>\n",
       "    <tr style=\"text-align: right;\">\n",
       "      <th></th>\n",
       "      <th>date</th>\n",
       "      <th>id</th>\n",
       "      <th>distance_km</th>\n",
       "      <th>duration_min</th>\n",
       "      <th>github_weekday</th>\n",
       "      <th>calendar_week</th>\n",
       "      <th>day</th>\n",
       "      <th>month</th>\n",
       "    </tr>\n",
       "  </thead>\n",
       "  <tbody>\n",
       "    <tr>\n",
       "      <th>0</th>\n",
       "      <td>2025-01-01</td>\n",
       "      <td>0.0</td>\n",
       "      <td>0.0</td>\n",
       "      <td>0.0</td>\n",
       "      <td>3</td>\n",
       "      <td>0</td>\n",
       "      <td>2025-01-01</td>\n",
       "      <td>Jan</td>\n",
       "    </tr>\n",
       "    <tr>\n",
       "      <th>1</th>\n",
       "      <td>2025-01-02</td>\n",
       "      <td>0.0</td>\n",
       "      <td>0.0</td>\n",
       "      <td>0.0</td>\n",
       "      <td>4</td>\n",
       "      <td>0</td>\n",
       "      <td>2025-01-02</td>\n",
       "      <td>Jan</td>\n",
       "    </tr>\n",
       "    <tr>\n",
       "      <th>2</th>\n",
       "      <td>2025-01-03</td>\n",
       "      <td>0.0</td>\n",
       "      <td>0.0</td>\n",
       "      <td>0.0</td>\n",
       "      <td>5</td>\n",
       "      <td>0</td>\n",
       "      <td>2025-01-03</td>\n",
       "      <td>Jan</td>\n",
       "    </tr>\n",
       "    <tr>\n",
       "      <th>3</th>\n",
       "      <td>2025-01-04</td>\n",
       "      <td>0.0</td>\n",
       "      <td>0.0</td>\n",
       "      <td>0.0</td>\n",
       "      <td>6</td>\n",
       "      <td>0</td>\n",
       "      <td>2025-01-04</td>\n",
       "      <td>Jan</td>\n",
       "    </tr>\n",
       "    <tr>\n",
       "      <th>4</th>\n",
       "      <td>2025-01-05</td>\n",
       "      <td>0.0</td>\n",
       "      <td>0.0</td>\n",
       "      <td>0.0</td>\n",
       "      <td>0</td>\n",
       "      <td>1</td>\n",
       "      <td>2025-01-05</td>\n",
       "      <td>Jan</td>\n",
       "    </tr>\n",
       "  </tbody>\n",
       "</table>\n",
       "</div>"
      ],
      "text/plain": [
       "         date   id  distance_km  duration_min  github_weekday  calendar_week  \\\n",
       "0  2025-01-01  0.0          0.0           0.0               3              0   \n",
       "1  2025-01-02  0.0          0.0           0.0               4              0   \n",
       "2  2025-01-03  0.0          0.0           0.0               5              0   \n",
       "3  2025-01-04  0.0          0.0           0.0               6              0   \n",
       "4  2025-01-05  0.0          0.0           0.0               0              1   \n",
       "\n",
       "          day month  \n",
       "0  2025-01-01   Jan  \n",
       "1  2025-01-02   Jan  \n",
       "2  2025-01-03   Jan  \n",
       "3  2025-01-04   Jan  \n",
       "4  2025-01-05   Jan  "
      ]
     },
     "execution_count": 297,
     "metadata": {},
     "output_type": "execute_result"
    }
   ],
   "source": [
    "new.head()"
   ]
  },
  {
   "cell_type": "code",
   "execution_count": 287,
   "metadata": {},
   "outputs": [
    {
     "data": {
      "text/html": [
       "<div>\n",
       "<style scoped>\n",
       "    .dataframe tbody tr th:only-of-type {\n",
       "        vertical-align: middle;\n",
       "    }\n",
       "\n",
       "    .dataframe tbody tr th {\n",
       "        vertical-align: top;\n",
       "    }\n",
       "\n",
       "    .dataframe thead th {\n",
       "        text-align: right;\n",
       "    }\n",
       "</style>\n",
       "<table border=\"1\" class=\"dataframe\">\n",
       "  <thead>\n",
       "    <tr style=\"text-align: right;\">\n",
       "      <th></th>\n",
       "      <th>date</th>\n",
       "      <th>id</th>\n",
       "      <th>distance_km</th>\n",
       "      <th>duration_min</th>\n",
       "      <th>github_weekday</th>\n",
       "      <th>calendar_week</th>\n",
       "      <th>day</th>\n",
       "    </tr>\n",
       "  </thead>\n",
       "  <tbody>\n",
       "    <tr>\n",
       "      <th>360</th>\n",
       "      <td>2025-12-27</td>\n",
       "      <td>0.0</td>\n",
       "      <td>0.0</td>\n",
       "      <td>0.0</td>\n",
       "      <td>6</td>\n",
       "      <td>51</td>\n",
       "      <td>2025-12-27</td>\n",
       "    </tr>\n",
       "    <tr>\n",
       "      <th>361</th>\n",
       "      <td>2025-12-28</td>\n",
       "      <td>0.0</td>\n",
       "      <td>0.0</td>\n",
       "      <td>0.0</td>\n",
       "      <td>0</td>\n",
       "      <td>52</td>\n",
       "      <td>2025-12-28</td>\n",
       "    </tr>\n",
       "    <tr>\n",
       "      <th>362</th>\n",
       "      <td>2025-12-29</td>\n",
       "      <td>0.0</td>\n",
       "      <td>0.0</td>\n",
       "      <td>0.0</td>\n",
       "      <td>1</td>\n",
       "      <td>52</td>\n",
       "      <td>2025-12-29</td>\n",
       "    </tr>\n",
       "    <tr>\n",
       "      <th>363</th>\n",
       "      <td>2025-12-30</td>\n",
       "      <td>0.0</td>\n",
       "      <td>0.0</td>\n",
       "      <td>0.0</td>\n",
       "      <td>2</td>\n",
       "      <td>52</td>\n",
       "      <td>2025-12-30</td>\n",
       "    </tr>\n",
       "    <tr>\n",
       "      <th>364</th>\n",
       "      <td>2025-12-31</td>\n",
       "      <td>0.0</td>\n",
       "      <td>0.0</td>\n",
       "      <td>0.0</td>\n",
       "      <td>3</td>\n",
       "      <td>52</td>\n",
       "      <td>2025-12-31</td>\n",
       "    </tr>\n",
       "  </tbody>\n",
       "</table>\n",
       "</div>"
      ],
      "text/plain": [
       "           date   id  distance_km  duration_min  github_weekday  \\\n",
       "360  2025-12-27  0.0          0.0           0.0               6   \n",
       "361  2025-12-28  0.0          0.0           0.0               0   \n",
       "362  2025-12-29  0.0          0.0           0.0               1   \n",
       "363  2025-12-30  0.0          0.0           0.0               2   \n",
       "364  2025-12-31  0.0          0.0           0.0               3   \n",
       "\n",
       "     calendar_week         day  \n",
       "360             51  2025-12-27  \n",
       "361             52  2025-12-28  \n",
       "362             52  2025-12-29  \n",
       "363             52  2025-12-30  \n",
       "364             52  2025-12-31  "
      ]
     },
     "execution_count": 287,
     "metadata": {},
     "output_type": "execute_result"
    }
   ],
   "source": [
    "new.tail()"
   ]
  },
  {
   "cell_type": "code",
   "execution_count": 170,
   "metadata": {},
   "outputs": [],
   "source": [
    "import plotly.express as px\n",
    "import plotly.graph_objects as go"
   ]
  },
  {
   "cell_type": "code",
   "execution_count": 181,
   "metadata": {},
   "outputs": [
    {
     "data": {
      "text/html": [
       "<div>\n",
       "<style scoped>\n",
       "    .dataframe tbody tr th:only-of-type {\n",
       "        vertical-align: middle;\n",
       "    }\n",
       "\n",
       "    .dataframe tbody tr th {\n",
       "        vertical-align: top;\n",
       "    }\n",
       "\n",
       "    .dataframe thead th {\n",
       "        text-align: right;\n",
       "    }\n",
       "</style>\n",
       "<table border=\"1\" class=\"dataframe\">\n",
       "  <thead>\n",
       "    <tr style=\"text-align: right;\">\n",
       "      <th></th>\n",
       "      <th>date</th>\n",
       "      <th>id</th>\n",
       "      <th>distance_km</th>\n",
       "      <th>duration_min</th>\n",
       "      <th>github_weekday</th>\n",
       "      <th>calendar_week</th>\n",
       "      <th>day</th>\n",
       "    </tr>\n",
       "  </thead>\n",
       "  <tbody>\n",
       "    <tr>\n",
       "      <th>0</th>\n",
       "      <td>2025-01-01</td>\n",
       "      <td>0.0</td>\n",
       "      <td>0.0</td>\n",
       "      <td>0.0</td>\n",
       "      <td>3</td>\n",
       "      <td>1</td>\n",
       "      <td>2025-01-01</td>\n",
       "    </tr>\n",
       "    <tr>\n",
       "      <th>1</th>\n",
       "      <td>2025-01-02</td>\n",
       "      <td>0.0</td>\n",
       "      <td>0.0</td>\n",
       "      <td>0.0</td>\n",
       "      <td>4</td>\n",
       "      <td>1</td>\n",
       "      <td>2025-01-02</td>\n",
       "    </tr>\n",
       "    <tr>\n",
       "      <th>2</th>\n",
       "      <td>2025-01-03</td>\n",
       "      <td>0.0</td>\n",
       "      <td>0.0</td>\n",
       "      <td>0.0</td>\n",
       "      <td>5</td>\n",
       "      <td>1</td>\n",
       "      <td>2025-01-03</td>\n",
       "    </tr>\n",
       "    <tr>\n",
       "      <th>3</th>\n",
       "      <td>2025-01-04</td>\n",
       "      <td>0.0</td>\n",
       "      <td>0.0</td>\n",
       "      <td>0.0</td>\n",
       "      <td>6</td>\n",
       "      <td>1</td>\n",
       "      <td>2025-01-04</td>\n",
       "    </tr>\n",
       "    <tr>\n",
       "      <th>4</th>\n",
       "      <td>2025-01-05</td>\n",
       "      <td>0.0</td>\n",
       "      <td>0.0</td>\n",
       "      <td>0.0</td>\n",
       "      <td>0</td>\n",
       "      <td>1</td>\n",
       "      <td>2025-01-05</td>\n",
       "    </tr>\n",
       "  </tbody>\n",
       "</table>\n",
       "</div>"
      ],
      "text/plain": [
       "         date   id  distance_km  duration_min  github_weekday  calendar_week  \\\n",
       "0  2025-01-01  0.0          0.0           0.0               3              1   \n",
       "1  2025-01-02  0.0          0.0           0.0               4              1   \n",
       "2  2025-01-03  0.0          0.0           0.0               5              1   \n",
       "3  2025-01-04  0.0          0.0           0.0               6              1   \n",
       "4  2025-01-05  0.0          0.0           0.0               0              1   \n",
       "\n",
       "          day  \n",
       "0  2025-01-01  \n",
       "1  2025-01-02  \n",
       "2  2025-01-03  \n",
       "3  2025-01-04  \n",
       "4  2025-01-05  "
      ]
     },
     "execution_count": 181,
     "metadata": {},
     "output_type": "execute_result"
    }
   ],
   "source": [
    "new.head()"
   ]
  },
  {
   "cell_type": "markdown",
   "metadata": {},
   "source": [
    "## Approach with Scatter"
   ]
  },
  {
   "cell_type": "code",
   "execution_count": 496,
   "metadata": {},
   "outputs": [
    {
     "data": {
      "application/vnd.plotly.v1+json": {
       "config": {
        "plotlyServerURL": "https://plot.ly"
       },
       "data": [
        {
         "hoverinfo": "text",
         "marker": {
          "color": {
           "bdata": "AAAAAAAAAAAAAAAAAAAAAAAAAAAAAAAAAAAAAAAAAAAAAAAAAAAAAAAAAAAAAAAAAAAAAAAAAAAAAAAAAAAAAAAAAAAAAAAAAAAAAAAAAAAAAAAAAAAAAAAAAAAAAAAAAAAAAAAAAAAAAAAAAAAAAAAAAAAAAAAAAAAAAAAAAAAAAAAAAAAAAAAAAAAAAAAAAAAAAAAAAAAAAAAAAAAAAAAAAAAAAAAAAAAAAAAAAAAAAAAAAAAAAAAAAAAAAAAAAAAAAAAAAAAAAAAAAAAAAAAAAAAAAAAAAAAAAAAAAAAAAAAAAAAAAAAAAAAAAAAAAAAAAAAAAAAAAAAAAAAAAAAAAAAAAAAAAAAAAAAAAAAAAAAAAAAAAAAAAAAAAAAAAAAAAAAAAAAAAAAAAAAAAAAAAAAAAAAAAAAAAAAAAAAAAAAAAAAAAAAAAAAAAAAAAAAAAAAAAAAAAAAAAAAAAAAAAAAAAAAAAAAAAAAAAAAAAAAAAAAAAAAAAAAAAAAAAAAAAAAAAAAAAAAAAAAAAAAAAAAAAAAAAAAAAAAAAAAAAAAAAAAAAAAAAAAAAAAAAAAAAAAAAAAAAAAAAAAAAAAAAAAAAAAAAAAAAAAAAAAAAAAAAAAAAAAAAAAAAAAAAAAAAAAAAAAAAAAAAAAAAAAAAAAAAAAAAAAAAAAAAAAAAAAAAAAAAAAAAAAAAAAAAAAAAAAAAAAAAAAAAAAAAAAAAAAAAAAAAAAAAAAAAAAAAAAAAAAAAAAAAAAAAAAAAAAAAAAAAAAAAAAAAAAAAAAAAAAAAAAAAAAAAAAAAAAAAAAAAAAAAAAAAAAAAAAAAAAAAAAAAAAAAAAAAAAAAAAAAAAAAAAAAAAAAAAAAAAAAAAAAAAAAAAAAAAAAAAAAAAAAAAAAAAAAAAAAAAAAAAAAAAAAAAAAAAAAAAAAAAAAAAAAAAAAAAAAAAAAAAAAAAAAAAAAAAAAAAAAAAAAAAAAAAAAAAAAAAAAAAAAAAAAAAAAAAAAAAAAAAAAAAAAAAAAAAAAAAAAAAAAAAAAAAAAAAAAAAAAAAAAAAAAAAAAAAAAAAAAAAAAAAAAAAAAAAAAAAAAAAAAAAAAAAAAAAAAAAAAAAAAAAAAAAAAAAAAAAAAAAAAAAAAAAAAAAAAAAAAAAAAAAAAAAAAAAAAAAAAAAAAAAAAAAAAAAAAAAAAAAAAAAAAAAAAAAAAAAAAAAAAAAAAAAAAAAAAAAAAAAAAAAAAAAAAAAAAAAAAAAAAAAAAAAAAAAAAAAAAAAAAAAAAAAAAAAAAAAAAAAAAAAAAAAAAAAAAAAAAAAAAAAAAAAAAAAAAAAAAAAAAAAAAAAAAAAAAAAAAAAAAAAAAAAAAAAAAAAAAAAAAAAAAAAAAAAAAAAAAAAAAAAAAAAAAAAAAAAAAAAAAAAAAAAAAAAAAAAAAAAAAAAAAAAAAAAAAAAAAAAAAAAAAAAAAAAAAAAAAAAAAAAAAAAAAAAAAAAAAAAAAAAAAAAAAAAAAAAAAAAAAAAAAAAAAAAAAAAAAAAAAAAAAAAAAAAAAAAAAAAAAAAAAAAAAAAAAAAAAAAAAAAAAAAAAAAAAAAAAAAAAAAAAAAAAAAAAAAAAAAAAAAAAAAAAAAAAAAAAAAAAAAAAAAAAAAAAAAAAAAAAAAAAAAAAAAAAAAAAAAAAAAAAAAAAAAAAAAAAAAAAAAAAAAAAAAAAAAAAAAAAAAAAAAAAAAAAAAAAAAAAAAAAAAAAAAAAAAAAAAAAAAAAAAAAAAAAAAAAAAAAAAAAAAAAAAAAAAAAAAAAAAAAAAAAAAAAAAAAAAAAAAAAAAAAAAAAAAAAAAAAAAAAAAAAAAAAAAAAAAAAAAAAAAAAAAAAAAAAAAAAAAAAAAAAAAAAAAAAAAAAAAAAAAAAAAAAAAAAAAAAAAAAAAAAAAAAAAAAAAAAAAAAAAAAAAAAAAAAAAAAAAAAAAAAAAAAAAAAAAAAAAAAAAAAAAAAAAAAAAAAAAAAAAAAAAAAAAAAAAAAAAAAAAAAAAAAAAAAKrx0k2iFwhAAAAAAAAAAAAAAAAAAAAAAAAAAAAAAAAA3SQGgaUPHEAAAAAAAAAAALbz/dSADxBAAAAAAAAAAAAAAAAAAAAAAAAAAAAAAAAAAAAAAAAAAAAAAAAAAAAAAAAAAAAAAAAAAAAAAAAAAAAAAAAAAAAAAAAAAAAAAAAAAAAAAAAAAAAAAAAAAAAAAAAAAAAAAAAAAAAAAAAAAAAAAAAAAAAAAAAAAAAAAAAAAAAAAAAAAAAAAAAAAAAAAAAAAAAAAAAAAAAAAAAAAAAAAAAAAAAAAAAAAAAAAAAAAAAAAAAAAAAAAAAAAAAAAAAAAAAAAAAAAAAAAAAAAAAAAAAAAAAAAAAAAAAAAAAAAAAAAAAAAAAAAAAAAAAAAAAAAAAAAAAAAAAAAAAAAAAAAAAAAAAAAAAAAAAAAAAAAAAAAAAAAAAAAAAAAAAAAAAAAAAAAAAAAAAAAAAAAAAAAAAAAAAAAAAAAAAAAAAAAAAAAAAAAAAAAAAAAAAAAAAAAAAAAAAAAAAAAAAAAAAAAAAAAAAAAAAAAAAAAAAAAAAAAAAAAAAAAAAAAAAAAAAAAAAAAAAAAAAAAAAAAAAAAAAAAAAAAAAAAAAAAAAAAAAAAAAAAAAAAAAAAAAAAAAAAAAAAAAAAAAAAAAAAAAAAAAAAAAAAAAAAAAAAAAAAAAAAAAAAAAAAAAAAAAAAAAAAAAAAAAAAAAAAAAAAAAAAAAAAAAAAAAAAAAAAAAAAAAAAAAAAAAAAAAAAAAAAAAAAAAAAAAAAAAAAAAAAAAAAAAAAAAAAAAAAAAAAAAAAAAAAAAAAAAAAAAAAAAAAAAAAAAAAAAAAAAAAAAAAAAAAAAAAAAAAAAAAAAAAAAAAAAAAAAAAAAAAAAAAAAAAAAAAAAAAAAAAAAAAAAAAAAAAAAAAAAAAAAAAAAAAAAAAAAAAAAAAAAAAAAAAAAAAAAAAAAAAAAAAAAAAAAAAAAAAAAAAAAAAAAAAAAAAAAAAAAAAAAAAAAAAAAAAAAAAAAAAAAAAAAAAAAAAAAAAAAAAAAAAAAAAAAAAAAAAAAAAAAAAAAAAAAAAAAAAAAAAAAAAAAAAAAAAAAAAAAAAAAAAAAAAAAAAAAAAAAAAAAAAAAAAAAAAAAAAAAAAAAAAAAAAAAAAAAAAAAAAAAAAAAAAAAAAAAAAAAAAAAAAAAAAAAAAAAAAAAAAAAAAAAAAAAAAAAAAAAAAAAAAAAAAAAAAAAAAAAAAAAAAAAAAAAAAAAAAAAAAAAAAAAAAAAAAAAAAAAAAAAAAAAAAAAAAAAAAAAAAAAAAAAAAAAAAAAAAAAAAAAAAAAAAAAAAAAAAAAAAAAAAAAAAAAAAAAAAAAAAAAAAAAAAAAAAAAAAAAAAAAAAAAAAAAAAAAAAAAAAAAAAAAAAAAAAAAAAAAAAAAAAAAAAAAAAAAAAAAAAAAAAAAAAAAAAAAAAAAAAAAAAAAAAAAAAAAAAAAAAAAAAAAAAAAAAAAAAAAAAAAAAAAAAAAAAAAAAAAAAAAAAAAAAAAAAAAAAAAAAAAAAAAAAAAAAAAAAAAAAAAAAAAAAAAAAAAAAAAAAAAAAAAAAAAAAAAAAAAAAAAAAAAAAAAAAAAAAAAAAAAAAAAAAAAAAAAAAAAAAAAAAAAAAAAAAAAAAAAAAAAAAAAAAAAAAAAAAAAAAAAAAAAAAAAAAAAAAAAAAAAAAAAAAAAAAAAAAAAAAAAAAAAAAAAAAAAAAAAAAAAAAAAAAAAAAAAAAAAAAAAAAAAAAAAAAAAAAAAAAAAAAAAAAAAAAAAAAAAAAAAAAAAAAAAAAAAAAAAAAAAAAAAAAAAAAAAAAAAAAAAAAAAAAA==",
           "dtype": "f8"
          },
          "colorscale": [
           [
            0,
            "rgb(247,252,245)"
           ],
           [
            0.125,
            "rgb(229,245,224)"
           ],
           [
            0.25,
            "rgb(199,233,192)"
           ],
           [
            0.375,
            "rgb(161,217,155)"
           ],
           [
            0.5,
            "rgb(116,196,118)"
           ],
           [
            0.625,
            "rgb(65,171,93)"
           ],
           [
            0.75,
            "rgb(35,139,69)"
           ],
           [
            0.875,
            "rgb(0,109,44)"
           ],
           [
            1,
            "rgb(0,68,27)"
           ]
          ],
          "line": {
           "color": "white",
           "width": 2
          },
          "size": 20,
          "symbol": "square"
         },
         "mode": "markers",
         "text": [
          "2025-01-01<br>0.0 km",
          "2025-01-02<br>0.0 km",
          "2025-01-03<br>0.0 km",
          "2025-01-04<br>0.0 km",
          "2025-01-05<br>0.0 km",
          "2025-01-06<br>0.0 km",
          "2025-01-07<br>0.0 km",
          "2025-01-08<br>0.0 km",
          "2025-01-09<br>0.0 km",
          "2025-01-10<br>0.0 km",
          "2025-01-11<br>0.0 km",
          "2025-01-12<br>0.0 km",
          "2025-01-13<br>0.0 km",
          "2025-01-14<br>0.0 km",
          "2025-01-15<br>0.0 km",
          "2025-01-16<br>0.0 km",
          "2025-01-17<br>0.0 km",
          "2025-01-18<br>0.0 km",
          "2025-01-19<br>0.0 km",
          "2025-01-20<br>0.0 km",
          "2025-01-21<br>0.0 km",
          "2025-01-22<br>0.0 km",
          "2025-01-23<br>0.0 km",
          "2025-01-24<br>0.0 km",
          "2025-01-25<br>0.0 km",
          "2025-01-26<br>0.0 km",
          "2025-01-27<br>0.0 km",
          "2025-01-28<br>0.0 km",
          "2025-01-29<br>0.0 km",
          "2025-01-30<br>0.0 km",
          "2025-01-31<br>0.0 km",
          "2025-02-01<br>0.0 km",
          "2025-02-02<br>0.0 km",
          "2025-02-03<br>0.0 km",
          "2025-02-04<br>0.0 km",
          "2025-02-05<br>0.0 km",
          "2025-02-06<br>0.0 km",
          "2025-02-07<br>0.0 km",
          "2025-02-08<br>0.0 km",
          "2025-02-09<br>0.0 km",
          "2025-02-10<br>0.0 km",
          "2025-02-11<br>0.0 km",
          "2025-02-12<br>0.0 km",
          "2025-02-13<br>0.0 km",
          "2025-02-14<br>0.0 km",
          "2025-02-15<br>0.0 km",
          "2025-02-16<br>0.0 km",
          "2025-02-17<br>0.0 km",
          "2025-02-18<br>0.0 km",
          "2025-02-19<br>0.0 km",
          "2025-02-20<br>0.0 km",
          "2025-02-21<br>0.0 km",
          "2025-02-22<br>0.0 km",
          "2025-02-23<br>0.0 km",
          "2025-02-24<br>0.0 km",
          "2025-02-25<br>0.0 km",
          "2025-02-26<br>0.0 km",
          "2025-02-27<br>0.0 km",
          "2025-02-28<br>0.0 km",
          "2025-03-01<br>0.0 km",
          "2025-03-02<br>0.0 km",
          "2025-03-03<br>0.0 km",
          "2025-03-04<br>0.0 km",
          "2025-03-05<br>0.0 km",
          "2025-03-06<br>0.0 km",
          "2025-03-07<br>0.0 km",
          "2025-03-08<br>0.0 km",
          "2025-03-09<br>0.0 km",
          "2025-03-10<br>0.0 km",
          "2025-03-11<br>0.0 km",
          "2025-03-12<br>0.0 km",
          "2025-03-13<br>0.0 km",
          "2025-03-14<br>0.0 km",
          "2025-03-15<br>0.0 km",
          "2025-03-16<br>0.0 km",
          "2025-03-17<br>0.0 km",
          "2025-03-18<br>0.0 km",
          "2025-03-19<br>0.0 km",
          "2025-03-20<br>0.0 km",
          "2025-03-21<br>0.0 km",
          "2025-03-22<br>0.0 km",
          "2025-03-23<br>0.0 km",
          "2025-03-24<br>0.0 km",
          "2025-03-25<br>0.0 km",
          "2025-03-26<br>0.0 km",
          "2025-03-27<br>0.0 km",
          "2025-03-28<br>0.0 km",
          "2025-03-29<br>0.0 km",
          "2025-03-30<br>0.0 km",
          "2025-03-31<br>0.0 km",
          "2025-04-01<br>0.0 km",
          "2025-04-02<br>0.0 km",
          "2025-04-03<br>0.0 km",
          "2025-04-04<br>0.0 km",
          "2025-04-05<br>0.0 km",
          "2025-04-06<br>0.0 km",
          "2025-04-07<br>0.0 km",
          "2025-04-08<br>0.0 km",
          "2025-04-09<br>0.0 km",
          "2025-04-10<br>0.0 km",
          "2025-04-11<br>0.0 km",
          "2025-04-12<br>0.0 km",
          "2025-04-13<br>0.0 km",
          "2025-04-14<br>0.0 km",
          "2025-04-15<br>0.0 km",
          "2025-04-16<br>0.0 km",
          "2025-04-17<br>0.0 km",
          "2025-04-18<br>0.0 km",
          "2025-04-19<br>0.0 km",
          "2025-04-20<br>0.0 km",
          "2025-04-21<br>0.0 km",
          "2025-04-22<br>0.0 km",
          "2025-04-23<br>0.0 km",
          "2025-04-24<br>0.0 km",
          "2025-04-25<br>0.0 km",
          "2025-04-26<br>0.0 km",
          "2025-04-27<br>0.0 km",
          "2025-04-28<br>0.0 km",
          "2025-04-29<br>0.0 km",
          "2025-04-30<br>0.0 km",
          "2025-05-01<br>0.0 km",
          "2025-05-02<br>0.0 km",
          "2025-05-03<br>0.0 km",
          "2025-05-04<br>0.0 km",
          "2025-05-05<br>0.0 km",
          "2025-05-06<br>0.0 km",
          "2025-05-07<br>0.0 km",
          "2025-05-08<br>0.0 km",
          "2025-05-09<br>0.0 km",
          "2025-05-10<br>0.0 km",
          "2025-05-11<br>0.0 km",
          "2025-05-12<br>0.0 km",
          "2025-05-13<br>0.0 km",
          "2025-05-14<br>0.0 km",
          "2025-05-15<br>0.0 km",
          "2025-05-16<br>0.0 km",
          "2025-05-17<br>0.0 km",
          "2025-05-18<br>0.0 km",
          "2025-05-19<br>0.0 km",
          "2025-05-20<br>0.0 km",
          "2025-05-21<br>0.0 km",
          "2025-05-22<br>0.0 km",
          "2025-05-23<br>0.0 km",
          "2025-05-24<br>0.0 km",
          "2025-05-25<br>0.0 km",
          "2025-05-26<br>0.0 km",
          "2025-05-27<br>0.0 km",
          "2025-05-28<br>0.0 km",
          "2025-05-29<br>0.0 km",
          "2025-05-30<br>0.0 km",
          "2025-05-31<br>0.0 km",
          "2025-06-01<br>0.0 km",
          "2025-06-02<br>0.0 km",
          "2025-06-03<br>0.0 km",
          "2025-06-04<br>0.0 km",
          "2025-06-05<br>0.0 km",
          "2025-06-06<br>0.0 km",
          "2025-06-07<br>0.0 km",
          "2025-06-08<br>0.0 km",
          "2025-06-09<br>0.0 km",
          "2025-06-10<br>0.0 km",
          "2025-06-11<br>0.0 km",
          "2025-06-12<br>0.0 km",
          "2025-06-13<br>0.0 km",
          "2025-06-14<br>0.0 km",
          "2025-06-15<br>0.0 km",
          "2025-06-16<br>0.0 km",
          "2025-06-17<br>0.0 km",
          "2025-06-18<br>0.0 km",
          "2025-06-19<br>0.0 km",
          "2025-06-20<br>0.0 km",
          "2025-06-21<br>0.0 km",
          "2025-06-22<br>0.0 km",
          "2025-06-23<br>0.0 km",
          "2025-06-24<br>0.0 km",
          "2025-06-25<br>0.0 km",
          "2025-06-26<br>0.0 km",
          "2025-06-27<br>0.0 km",
          "2025-06-28<br>0.0 km",
          "2025-06-29<br>0.0 km",
          "2025-06-30<br>0.0 km",
          "2025-07-01<br>0.0 km",
          "2025-07-02<br>0.0 km",
          "2025-07-03<br>0.0 km",
          "2025-07-04<br>0.0 km",
          "2025-07-05<br>0.0 km",
          "2025-07-06<br>0.0 km",
          "2025-07-07<br>0.0 km",
          "2025-07-08<br>0.0 km",
          "2025-07-09<br>0.0 km",
          "2025-07-10<br>0.0 km",
          "2025-07-11<br>3.012 km",
          "2025-07-12<br>0.0 km",
          "2025-07-13<br>0.0 km",
          "2025-07-14<br>0.0 km",
          "2025-07-15<br>7.015 km",
          "2025-07-16<br>0.0 km",
          "2025-07-17<br>4.015 km",
          "2025-07-18<br>0.0 km",
          "2025-07-19<br>0.0 km",
          "2025-07-20<br>0.0 km",
          "2025-07-21<br>0.0 km",
          "2025-07-22<br>0.0 km",
          "2025-07-23<br>0.0 km",
          "2025-07-24<br>0.0 km",
          "2025-07-25<br>0.0 km",
          "2025-07-26<br>0.0 km",
          "2025-07-27<br>0.0 km",
          "2025-07-28<br>0.0 km",
          "2025-07-29<br>0.0 km",
          "2025-07-30<br>0.0 km",
          "2025-07-31<br>0.0 km",
          "2025-08-01<br>0.0 km",
          "2025-08-02<br>0.0 km",
          "2025-08-03<br>0.0 km",
          "2025-08-04<br>0.0 km",
          "2025-08-05<br>0.0 km",
          "2025-08-06<br>0.0 km",
          "2025-08-07<br>0.0 km",
          "2025-08-08<br>0.0 km",
          "2025-08-09<br>0.0 km",
          "2025-08-10<br>0.0 km",
          "2025-08-11<br>0.0 km",
          "2025-08-12<br>0.0 km",
          "2025-08-13<br>0.0 km",
          "2025-08-14<br>0.0 km",
          "2025-08-15<br>0.0 km",
          "2025-08-16<br>0.0 km",
          "2025-08-17<br>0.0 km",
          "2025-08-18<br>0.0 km",
          "2025-08-19<br>0.0 km",
          "2025-08-20<br>0.0 km",
          "2025-08-21<br>0.0 km",
          "2025-08-22<br>0.0 km",
          "2025-08-23<br>0.0 km",
          "2025-08-24<br>0.0 km",
          "2025-08-25<br>0.0 km",
          "2025-08-26<br>0.0 km",
          "2025-08-27<br>0.0 km",
          "2025-08-28<br>0.0 km",
          "2025-08-29<br>0.0 km",
          "2025-08-30<br>0.0 km",
          "2025-08-31<br>0.0 km",
          "2025-09-01<br>0.0 km",
          "2025-09-02<br>0.0 km",
          "2025-09-03<br>0.0 km",
          "2025-09-04<br>0.0 km",
          "2025-09-05<br>0.0 km",
          "2025-09-06<br>0.0 km",
          "2025-09-07<br>0.0 km",
          "2025-09-08<br>0.0 km",
          "2025-09-09<br>0.0 km",
          "2025-09-10<br>0.0 km",
          "2025-09-11<br>0.0 km",
          "2025-09-12<br>0.0 km",
          "2025-09-13<br>0.0 km",
          "2025-09-14<br>0.0 km",
          "2025-09-15<br>0.0 km",
          "2025-09-16<br>0.0 km",
          "2025-09-17<br>0.0 km",
          "2025-09-18<br>0.0 km",
          "2025-09-19<br>0.0 km",
          "2025-09-20<br>0.0 km",
          "2025-09-21<br>0.0 km",
          "2025-09-22<br>0.0 km",
          "2025-09-23<br>0.0 km",
          "2025-09-24<br>0.0 km",
          "2025-09-25<br>0.0 km",
          "2025-09-26<br>0.0 km",
          "2025-09-27<br>0.0 km",
          "2025-09-28<br>0.0 km",
          "2025-09-29<br>0.0 km",
          "2025-09-30<br>0.0 km",
          "2025-10-01<br>0.0 km",
          "2025-10-02<br>0.0 km",
          "2025-10-03<br>0.0 km",
          "2025-10-04<br>0.0 km",
          "2025-10-05<br>0.0 km",
          "2025-10-06<br>0.0 km",
          "2025-10-07<br>0.0 km",
          "2025-10-08<br>0.0 km",
          "2025-10-09<br>0.0 km",
          "2025-10-10<br>0.0 km",
          "2025-10-11<br>0.0 km",
          "2025-10-12<br>0.0 km",
          "2025-10-13<br>0.0 km",
          "2025-10-14<br>0.0 km",
          "2025-10-15<br>0.0 km",
          "2025-10-16<br>0.0 km",
          "2025-10-17<br>0.0 km",
          "2025-10-18<br>0.0 km",
          "2025-10-19<br>0.0 km",
          "2025-10-20<br>0.0 km",
          "2025-10-21<br>0.0 km",
          "2025-10-22<br>0.0 km",
          "2025-10-23<br>0.0 km",
          "2025-10-24<br>0.0 km",
          "2025-10-25<br>0.0 km",
          "2025-10-26<br>0.0 km",
          "2025-10-27<br>0.0 km",
          "2025-10-28<br>0.0 km",
          "2025-10-29<br>0.0 km",
          "2025-10-30<br>0.0 km",
          "2025-10-31<br>0.0 km",
          "2025-11-01<br>0.0 km",
          "2025-11-02<br>0.0 km",
          "2025-11-03<br>0.0 km",
          "2025-11-04<br>0.0 km",
          "2025-11-05<br>0.0 km",
          "2025-11-06<br>0.0 km",
          "2025-11-07<br>0.0 km",
          "2025-11-08<br>0.0 km",
          "2025-11-09<br>0.0 km",
          "2025-11-10<br>0.0 km",
          "2025-11-11<br>0.0 km",
          "2025-11-12<br>0.0 km",
          "2025-11-13<br>0.0 km",
          "2025-11-14<br>0.0 km",
          "2025-11-15<br>0.0 km",
          "2025-11-16<br>0.0 km",
          "2025-11-17<br>0.0 km",
          "2025-11-18<br>0.0 km",
          "2025-11-19<br>0.0 km",
          "2025-11-20<br>0.0 km",
          "2025-11-21<br>0.0 km",
          "2025-11-22<br>0.0 km",
          "2025-11-23<br>0.0 km",
          "2025-11-24<br>0.0 km",
          "2025-11-25<br>0.0 km",
          "2025-11-26<br>0.0 km",
          "2025-11-27<br>0.0 km",
          "2025-11-28<br>0.0 km",
          "2025-11-29<br>0.0 km",
          "2025-11-30<br>0.0 km",
          "2025-12-01<br>0.0 km",
          "2025-12-02<br>0.0 km",
          "2025-12-03<br>0.0 km",
          "2025-12-04<br>0.0 km",
          "2025-12-05<br>0.0 km",
          "2025-12-06<br>0.0 km",
          "2025-12-07<br>0.0 km",
          "2025-12-08<br>0.0 km",
          "2025-12-09<br>0.0 km",
          "2025-12-10<br>0.0 km",
          "2025-12-11<br>0.0 km",
          "2025-12-12<br>0.0 km",
          "2025-12-13<br>0.0 km",
          "2025-12-14<br>0.0 km",
          "2025-12-15<br>0.0 km",
          "2025-12-16<br>0.0 km",
          "2025-12-17<br>0.0 km",
          "2025-12-18<br>0.0 km",
          "2025-12-19<br>0.0 km",
          "2025-12-20<br>0.0 km",
          "2025-12-21<br>0.0 km",
          "2025-12-22<br>0.0 km",
          "2025-12-23<br>0.0 km",
          "2025-12-24<br>0.0 km",
          "2025-12-25<br>0.0 km",
          "2025-12-26<br>0.0 km",
          "2025-12-27<br>0.0 km",
          "2025-12-28<br>0.0 km",
          "2025-12-29<br>0.0 km",
          "2025-12-30<br>0.0 km",
          "2025-12-31<br>0.0 km"
         ],
         "type": "scatter",
         "x": {
          "bdata": "AAAAAAEBAQEBAQECAgICAgICAwMDAwMDAwQEBAQEBAQFBQUFBQUFBgYGBgYGBgcHBwcHBwcICAgICAgICQkJCQkJCQoKCgoKCgoLCwsLCwsLDAwMDAwMDA0NDQ0NDQ0ODg4ODg4ODw8PDw8PDxAQEBAQEBAREREREREREhISEhISEhMTExMTExMUFBQUFBQUFRUVFRUVFRYWFhYWFhYXFxcXFxcXGBgYGBgYGBkZGRkZGRkaGhoaGhoaGxsbGxsbGxwcHBwcHBwdHR0dHR0dHh4eHh4eHh8fHx8fHx8gICAgICAgISEhISEhISIiIiIiIiIjIyMjIyMjJCQkJCQkJCUlJSUlJSUmJiYmJiYmJycnJycnJygoKCgoKCgpKSkpKSkpKioqKioqKisrKysrKyssLCwsLCwsLS0tLS0tLS4uLi4uLi4vLy8vLy8vMDAwMDAwMDExMTExMTEyMjIyMjIyMzMzMzMzMzQ0NDQ=",
          "dtype": "i1"
         },
         "y": {
          "bdata": "AwQFBgABAgMEBQYAAQIDBAUGAAECAwQFBgABAgMEBQYAAQIDBAUGAAECAwQFBgABAgMEBQYAAQIDBAUGAAECAwQFBgABAgMEBQYAAQIDBAUGAAECAwQFBgABAgMEBQYAAQIDBAUGAAECAwQFBgABAgMEBQYAAQIDBAUGAAECAwQFBgABAgMEBQYAAQIDBAUGAAECAwQFBgABAgMEBQYAAQIDBAUGAAECAwQFBgABAgMEBQYAAQIDBAUGAAECAwQFBgABAgMEBQYAAQIDBAUGAAECAwQFBgABAgMEBQYAAQIDBAUGAAECAwQFBgABAgMEBQYAAQIDBAUGAAECAwQFBgABAgMEBQYAAQIDBAUGAAECAwQFBgABAgMEBQYAAQIDBAUGAAECAwQFBgABAgMEBQYAAQIDBAUGAAECAwQFBgABAgMEBQYAAQIDBAUGAAECAwQFBgABAgMEBQYAAQIDBAUGAAECAwQFBgABAgM=",
          "dtype": "i1"
         }
        }
       ],
       "layout": {
        "height": 300,
        "plot_bgcolor": "white",
        "template": {
         "data": {
          "bar": [
           {
            "error_x": {
             "color": "#2a3f5f"
            },
            "error_y": {
             "color": "#2a3f5f"
            },
            "marker": {
             "line": {
              "color": "#E5ECF6",
              "width": 0.5
             },
             "pattern": {
              "fillmode": "overlay",
              "size": 10,
              "solidity": 0.2
             }
            },
            "type": "bar"
           }
          ],
          "barpolar": [
           {
            "marker": {
             "line": {
              "color": "#E5ECF6",
              "width": 0.5
             },
             "pattern": {
              "fillmode": "overlay",
              "size": 10,
              "solidity": 0.2
             }
            },
            "type": "barpolar"
           }
          ],
          "carpet": [
           {
            "aaxis": {
             "endlinecolor": "#2a3f5f",
             "gridcolor": "white",
             "linecolor": "white",
             "minorgridcolor": "white",
             "startlinecolor": "#2a3f5f"
            },
            "baxis": {
             "endlinecolor": "#2a3f5f",
             "gridcolor": "white",
             "linecolor": "white",
             "minorgridcolor": "white",
             "startlinecolor": "#2a3f5f"
            },
            "type": "carpet"
           }
          ],
          "choropleth": [
           {
            "colorbar": {
             "outlinewidth": 0,
             "ticks": ""
            },
            "type": "choropleth"
           }
          ],
          "contour": [
           {
            "colorbar": {
             "outlinewidth": 0,
             "ticks": ""
            },
            "colorscale": [
             [
              0,
              "#0d0887"
             ],
             [
              0.1111111111111111,
              "#46039f"
             ],
             [
              0.2222222222222222,
              "#7201a8"
             ],
             [
              0.3333333333333333,
              "#9c179e"
             ],
             [
              0.4444444444444444,
              "#bd3786"
             ],
             [
              0.5555555555555556,
              "#d8576b"
             ],
             [
              0.6666666666666666,
              "#ed7953"
             ],
             [
              0.7777777777777778,
              "#fb9f3a"
             ],
             [
              0.8888888888888888,
              "#fdca26"
             ],
             [
              1,
              "#f0f921"
             ]
            ],
            "type": "contour"
           }
          ],
          "contourcarpet": [
           {
            "colorbar": {
             "outlinewidth": 0,
             "ticks": ""
            },
            "type": "contourcarpet"
           }
          ],
          "heatmap": [
           {
            "colorbar": {
             "outlinewidth": 0,
             "ticks": ""
            },
            "colorscale": [
             [
              0,
              "#0d0887"
             ],
             [
              0.1111111111111111,
              "#46039f"
             ],
             [
              0.2222222222222222,
              "#7201a8"
             ],
             [
              0.3333333333333333,
              "#9c179e"
             ],
             [
              0.4444444444444444,
              "#bd3786"
             ],
             [
              0.5555555555555556,
              "#d8576b"
             ],
             [
              0.6666666666666666,
              "#ed7953"
             ],
             [
              0.7777777777777778,
              "#fb9f3a"
             ],
             [
              0.8888888888888888,
              "#fdca26"
             ],
             [
              1,
              "#f0f921"
             ]
            ],
            "type": "heatmap"
           }
          ],
          "histogram": [
           {
            "marker": {
             "pattern": {
              "fillmode": "overlay",
              "size": 10,
              "solidity": 0.2
             }
            },
            "type": "histogram"
           }
          ],
          "histogram2d": [
           {
            "colorbar": {
             "outlinewidth": 0,
             "ticks": ""
            },
            "colorscale": [
             [
              0,
              "#0d0887"
             ],
             [
              0.1111111111111111,
              "#46039f"
             ],
             [
              0.2222222222222222,
              "#7201a8"
             ],
             [
              0.3333333333333333,
              "#9c179e"
             ],
             [
              0.4444444444444444,
              "#bd3786"
             ],
             [
              0.5555555555555556,
              "#d8576b"
             ],
             [
              0.6666666666666666,
              "#ed7953"
             ],
             [
              0.7777777777777778,
              "#fb9f3a"
             ],
             [
              0.8888888888888888,
              "#fdca26"
             ],
             [
              1,
              "#f0f921"
             ]
            ],
            "type": "histogram2d"
           }
          ],
          "histogram2dcontour": [
           {
            "colorbar": {
             "outlinewidth": 0,
             "ticks": ""
            },
            "colorscale": [
             [
              0,
              "#0d0887"
             ],
             [
              0.1111111111111111,
              "#46039f"
             ],
             [
              0.2222222222222222,
              "#7201a8"
             ],
             [
              0.3333333333333333,
              "#9c179e"
             ],
             [
              0.4444444444444444,
              "#bd3786"
             ],
             [
              0.5555555555555556,
              "#d8576b"
             ],
             [
              0.6666666666666666,
              "#ed7953"
             ],
             [
              0.7777777777777778,
              "#fb9f3a"
             ],
             [
              0.8888888888888888,
              "#fdca26"
             ],
             [
              1,
              "#f0f921"
             ]
            ],
            "type": "histogram2dcontour"
           }
          ],
          "mesh3d": [
           {
            "colorbar": {
             "outlinewidth": 0,
             "ticks": ""
            },
            "type": "mesh3d"
           }
          ],
          "parcoords": [
           {
            "line": {
             "colorbar": {
              "outlinewidth": 0,
              "ticks": ""
             }
            },
            "type": "parcoords"
           }
          ],
          "pie": [
           {
            "automargin": true,
            "type": "pie"
           }
          ],
          "scatter": [
           {
            "fillpattern": {
             "fillmode": "overlay",
             "size": 10,
             "solidity": 0.2
            },
            "type": "scatter"
           }
          ],
          "scatter3d": [
           {
            "line": {
             "colorbar": {
              "outlinewidth": 0,
              "ticks": ""
             }
            },
            "marker": {
             "colorbar": {
              "outlinewidth": 0,
              "ticks": ""
             }
            },
            "type": "scatter3d"
           }
          ],
          "scattercarpet": [
           {
            "marker": {
             "colorbar": {
              "outlinewidth": 0,
              "ticks": ""
             }
            },
            "type": "scattercarpet"
           }
          ],
          "scattergeo": [
           {
            "marker": {
             "colorbar": {
              "outlinewidth": 0,
              "ticks": ""
             }
            },
            "type": "scattergeo"
           }
          ],
          "scattergl": [
           {
            "marker": {
             "colorbar": {
              "outlinewidth": 0,
              "ticks": ""
             }
            },
            "type": "scattergl"
           }
          ],
          "scattermap": [
           {
            "marker": {
             "colorbar": {
              "outlinewidth": 0,
              "ticks": ""
             }
            },
            "type": "scattermap"
           }
          ],
          "scattermapbox": [
           {
            "marker": {
             "colorbar": {
              "outlinewidth": 0,
              "ticks": ""
             }
            },
            "type": "scattermapbox"
           }
          ],
          "scatterpolar": [
           {
            "marker": {
             "colorbar": {
              "outlinewidth": 0,
              "ticks": ""
             }
            },
            "type": "scatterpolar"
           }
          ],
          "scatterpolargl": [
           {
            "marker": {
             "colorbar": {
              "outlinewidth": 0,
              "ticks": ""
             }
            },
            "type": "scatterpolargl"
           }
          ],
          "scatterternary": [
           {
            "marker": {
             "colorbar": {
              "outlinewidth": 0,
              "ticks": ""
             }
            },
            "type": "scatterternary"
           }
          ],
          "surface": [
           {
            "colorbar": {
             "outlinewidth": 0,
             "ticks": ""
            },
            "colorscale": [
             [
              0,
              "#0d0887"
             ],
             [
              0.1111111111111111,
              "#46039f"
             ],
             [
              0.2222222222222222,
              "#7201a8"
             ],
             [
              0.3333333333333333,
              "#9c179e"
             ],
             [
              0.4444444444444444,
              "#bd3786"
             ],
             [
              0.5555555555555556,
              "#d8576b"
             ],
             [
              0.6666666666666666,
              "#ed7953"
             ],
             [
              0.7777777777777778,
              "#fb9f3a"
             ],
             [
              0.8888888888888888,
              "#fdca26"
             ],
             [
              1,
              "#f0f921"
             ]
            ],
            "type": "surface"
           }
          ],
          "table": [
           {
            "cells": {
             "fill": {
              "color": "#EBF0F8"
             },
             "line": {
              "color": "white"
             }
            },
            "header": {
             "fill": {
              "color": "#C8D4E3"
             },
             "line": {
              "color": "white"
             }
            },
            "type": "table"
           }
          ]
         },
         "layout": {
          "annotationdefaults": {
           "arrowcolor": "#2a3f5f",
           "arrowhead": 0,
           "arrowwidth": 1
          },
          "autotypenumbers": "strict",
          "coloraxis": {
           "colorbar": {
            "outlinewidth": 0,
            "ticks": ""
           }
          },
          "colorscale": {
           "diverging": [
            [
             0,
             "#8e0152"
            ],
            [
             0.1,
             "#c51b7d"
            ],
            [
             0.2,
             "#de77ae"
            ],
            [
             0.3,
             "#f1b6da"
            ],
            [
             0.4,
             "#fde0ef"
            ],
            [
             0.5,
             "#f7f7f7"
            ],
            [
             0.6,
             "#e6f5d0"
            ],
            [
             0.7,
             "#b8e186"
            ],
            [
             0.8,
             "#7fbc41"
            ],
            [
             0.9,
             "#4d9221"
            ],
            [
             1,
             "#276419"
            ]
           ],
           "sequential": [
            [
             0,
             "#0d0887"
            ],
            [
             0.1111111111111111,
             "#46039f"
            ],
            [
             0.2222222222222222,
             "#7201a8"
            ],
            [
             0.3333333333333333,
             "#9c179e"
            ],
            [
             0.4444444444444444,
             "#bd3786"
            ],
            [
             0.5555555555555556,
             "#d8576b"
            ],
            [
             0.6666666666666666,
             "#ed7953"
            ],
            [
             0.7777777777777778,
             "#fb9f3a"
            ],
            [
             0.8888888888888888,
             "#fdca26"
            ],
            [
             1,
             "#f0f921"
            ]
           ],
           "sequentialminus": [
            [
             0,
             "#0d0887"
            ],
            [
             0.1111111111111111,
             "#46039f"
            ],
            [
             0.2222222222222222,
             "#7201a8"
            ],
            [
             0.3333333333333333,
             "#9c179e"
            ],
            [
             0.4444444444444444,
             "#bd3786"
            ],
            [
             0.5555555555555556,
             "#d8576b"
            ],
            [
             0.6666666666666666,
             "#ed7953"
            ],
            [
             0.7777777777777778,
             "#fb9f3a"
            ],
            [
             0.8888888888888888,
             "#fdca26"
            ],
            [
             1,
             "#f0f921"
            ]
           ]
          },
          "colorway": [
           "#636efa",
           "#EF553B",
           "#00cc96",
           "#ab63fa",
           "#FFA15A",
           "#19d3f3",
           "#FF6692",
           "#B6E880",
           "#FF97FF",
           "#FECB52"
          ],
          "font": {
           "color": "#2a3f5f"
          },
          "geo": {
           "bgcolor": "white",
           "lakecolor": "white",
           "landcolor": "#E5ECF6",
           "showlakes": true,
           "showland": true,
           "subunitcolor": "white"
          },
          "hoverlabel": {
           "align": "left"
          },
          "hovermode": "closest",
          "mapbox": {
           "style": "light"
          },
          "paper_bgcolor": "white",
          "plot_bgcolor": "#E5ECF6",
          "polar": {
           "angularaxis": {
            "gridcolor": "white",
            "linecolor": "white",
            "ticks": ""
           },
           "bgcolor": "#E5ECF6",
           "radialaxis": {
            "gridcolor": "white",
            "linecolor": "white",
            "ticks": ""
           }
          },
          "scene": {
           "xaxis": {
            "backgroundcolor": "#E5ECF6",
            "gridcolor": "white",
            "gridwidth": 2,
            "linecolor": "white",
            "showbackground": true,
            "ticks": "",
            "zerolinecolor": "white"
           },
           "yaxis": {
            "backgroundcolor": "#E5ECF6",
            "gridcolor": "white",
            "gridwidth": 2,
            "linecolor": "white",
            "showbackground": true,
            "ticks": "",
            "zerolinecolor": "white"
           },
           "zaxis": {
            "backgroundcolor": "#E5ECF6",
            "gridcolor": "white",
            "gridwidth": 2,
            "linecolor": "white",
            "showbackground": true,
            "ticks": "",
            "zerolinecolor": "white"
           }
          },
          "shapedefaults": {
           "line": {
            "color": "#2a3f5f"
           }
          },
          "ternary": {
           "aaxis": {
            "gridcolor": "white",
            "linecolor": "white",
            "ticks": ""
           },
           "baxis": {
            "gridcolor": "white",
            "linecolor": "white",
            "ticks": ""
           },
           "bgcolor": "#E5ECF6",
           "caxis": {
            "gridcolor": "white",
            "linecolor": "white",
            "ticks": ""
           }
          },
          "title": {
           "x": 0.05
          },
          "xaxis": {
           "automargin": true,
           "gridcolor": "white",
           "linecolor": "white",
           "ticks": "",
           "title": {
            "standoff": 15
           },
           "zerolinecolor": "white",
           "zerolinewidth": 2
          },
          "yaxis": {
           "automargin": true,
           "gridcolor": "white",
           "linecolor": "white",
           "ticks": "",
           "title": {
            "standoff": 15
           },
           "zerolinecolor": "white",
           "zerolinewidth": 2
          }
         }
        },
        "width": 1000,
        "xaxis": {
         "dtick": 1,
         "range": [
          -0.5,
          52.5
         ],
         "ticktext": [
          "Jan",
          "Feb",
          "Mar",
          "Apr",
          "May",
          "Jun",
          "Jul",
          "Aug",
          "Sep",
          "Oct",
          "Nov",
          "Dec"
         ],
         "tickvals": [
          0,
          5,
          9,
          13,
          18,
          22,
          26,
          31,
          35,
          39,
          44,
          48
         ]
        },
        "yaxis": {
         "autorange": "reversed",
         "range": [
          -0.5,
          6.5
         ],
         "scaleanchor": "x",
         "tickmode": "array",
         "ticktext": [
          "",
          "Mon",
          "",
          "Wed",
          "",
          "Fri",
          ""
         ],
         "tickvals": [
          0,
          1,
          2,
          3,
          4,
          5,
          6
         ]
        }
       }
      },
      "image/png": "[encoded data removed]"
     },
     "metadata": {},
     "output_type": "display_data"
    }
   ],
   "source": [
    "fig = go.Figure(go.Scatter(\n",
    "    x=new[\"calendar_week\"], \n",
    "    y=new[\"github_weekday\"], \n",
    "    mode=\"markers\",\n",
    "    marker=dict(\n",
    "        size=20,\n",
    "        symbol=\"square\",\n",
    "        color=new[\"distance_km\"],\n",
    "        colorscale=\"Greens\",\n",
    "        line=dict(width=2, color=\"white\")  # gap between cells\n",
    "    ),\n",
    "    text=new[\"day\"].astype(str) + \"<br>\" + np.round(new[\"distance_km\"], 3).astype(str) + \" km\",\n",
    "    hoverinfo=\"text\"\n",
    "))\n",
    "\n",
    "# Get full week range\n",
    "min_week = new[\"calendar_week\"].min()\n",
    "max_week = new[\"calendar_week\"].max()\n",
    "\n",
    "# calculate y-axis labels\n",
    "days_per_month_week = new.groupby(['calendar_week', 'month']).size().reset_index(name='count_days').\\\n",
    "    sort_values(['calendar_week','count_days'])\n",
    "dedup = days_per_month_week.drop_duplicates(subset=['calendar_week'], keep='last')[['calendar_week','month']]\n",
    "labels = dedup.drop_duplicates(subset=['month'], keep='first')\n",
    "\n",
    "# ✅ Lock axes so edges don’t stretch\n",
    "fig.update_xaxes(\n",
    "    range=[min_week - 0.5, max_week + 0.5],  # no stretched edges\n",
    "    dtick=1,\n",
    "    tickvals=list(labels.calendar_week),\n",
    "    ticktext=list(labels.month)\n",
    ")\n",
    "\n",
    "fig.update_yaxes(\n",
    "    range=[-0.5, 6.5],  # exactly 7 rows\n",
    "    tickmode=\"array\",\n",
    "    tickvals=[0,1,2,3,4,5,6],\n",
    "    ticktext=[\"\",\"Mon\",\"\",\"Wed\",\"\",\"Fri\",\"\"],\n",
    "    scaleanchor=\"x\",  # keep square ratio\n",
    "    autorange='reversed',\n",
    ")\n",
    "\n",
    "fig.update_layout(\n",
    "    plot_bgcolor=\"white\",\n",
    "    #margin=dict(l=60, r=20, t=40, b=180),\n",
    "    width = 1000,\n",
    "    height = 300\n",
    ")\n",
    "\n",
    "fig.show()"
   ]
  },
  {
   "cell_type": "markdown",
   "metadata": {},
   "source": [
    "## Approach with Heatmap"
   ]
  },
  {
   "cell_type": "code",
   "execution_count": 498,
   "metadata": {},
   "outputs": [
    {
     "data": {
      "application/vnd.plotly.v1+json": {
       "config": {
        "plotlyServerURL": "https://plot.ly"
       },
       "data": [
        {
         "colorbar": {
          "title": {
           "text": "km"
          }
         },
         "colorscale": [
          [
           0,
           "#f0f0f0"
          ],
          [
           1e-05,
           "#d4f4dd"
          ],
          [
           0.2,
           "#a4d4a5"
          ],
          [
           0.5,
           "#70b86a"
          ],
          [
           0.8,
           "#3b9d32"
          ],
          [
           1,
           "#1b6700"
          ]
         ],
         "hoverongaps": false,
         "hovertemplate": " %{z:.3f} km on %{text}<br><extra></extra>",
         "text": [
          [
           "nan",
           "2025-01-05",
           "2025-01-12",
           "2025-01-19",
           "2025-01-26",
           "2025-02-02",
           "2025-02-09",
           "2025-02-16",
           "2025-02-23",
           "2025-03-02",
           "2025-03-09",
           "2025-03-16",
           "2025-03-23",
           "2025-03-30",
           "2025-04-06",
           "2025-04-13",
           "2025-04-20",
           "2025-04-27",
           "2025-05-04",
           "2025-05-11",
           "2025-05-18",
           "2025-05-25",
           "2025-06-01",
           "2025-06-08",
           "2025-06-15",
           "2025-06-22",
           "2025-06-29",
           "2025-07-06",
           "2025-07-13",
           "2025-07-20",
           "2025-07-27",
           "2025-08-03",
           "2025-08-10",
           "2025-08-17",
           "2025-08-24",
           "2025-08-31",
           "2025-09-07",
           "2025-09-14",
           "2025-09-21",
           "2025-09-28",
           "2025-10-05",
           "2025-10-12",
           "2025-10-19",
           "2025-10-26",
           "2025-11-02",
           "2025-11-09",
           "2025-11-16",
           "2025-11-23",
           "2025-11-30",
           "2025-12-07",
           "2025-12-14",
           "2025-12-21",
           "2025-12-28"
          ],
          [
           "nan",
           "2025-01-06",
           "2025-01-13",
           "2025-01-20",
           "2025-01-27",
           "2025-02-03",
           "2025-02-10",
           "2025-02-17",
           "2025-02-24",
           "2025-03-03",
           "2025-03-10",
           "2025-03-17",
           "2025-03-24",
           "2025-03-31",
           "2025-04-07",
           "2025-04-14",
           "2025-04-21",
           "2025-04-28",
           "2025-05-05",
           "2025-05-12",
           "2025-05-19",
           "2025-05-26",
           "2025-06-02",
           "2025-06-09",
           "2025-06-16",
           "2025-06-23",
           "2025-06-30",
           "2025-07-07",
           "2025-07-14",
           "2025-07-21",
           "2025-07-28",
           "2025-08-04",
           "2025-08-11",
           "2025-08-18",
           "2025-08-25",
           "2025-09-01",
           "2025-09-08",
           "2025-09-15",
           "2025-09-22",
           "2025-09-29",
           "2025-10-06",
           "2025-10-13",
           "2025-10-20",
           "2025-10-27",
           "2025-11-03",
           "2025-11-10",
           "2025-11-17",
           "2025-11-24",
           "2025-12-01",
           "2025-12-08",
           "2025-12-15",
           "2025-12-22",
           "2025-12-29"
          ],
          [
           "nan",
           "2025-01-07",
           "2025-01-14",
           "2025-01-21",
           "2025-01-28",
           "2025-02-04",
           "2025-02-11",
           "2025-02-18",
           "2025-02-25",
           "2025-03-04",
           "2025-03-11",
           "2025-03-18",
           "2025-03-25",
           "2025-04-01",
           "2025-04-08",
           "2025-04-15",
           "2025-04-22",
           "2025-04-29",
           "2025-05-06",
           "2025-05-13",
           "2025-05-20",
           "2025-05-27",
           "2025-06-03",
           "2025-06-10",
           "2025-06-17",
           "2025-06-24",
           "2025-07-01",
           "2025-07-08",
           "2025-07-15",
           "2025-07-22",
           "2025-07-29",
           "2025-08-05",
           "2025-08-12",
           "2025-08-19",
           "2025-08-26",
           "2025-09-02",
           "2025-09-09",
           "2025-09-16",
           "2025-09-23",
           "2025-09-30",
           "2025-10-07",
           "2025-10-14",
           "2025-10-21",
           "2025-10-28",
           "2025-11-04",
           "2025-11-11",
           "2025-11-18",
           "2025-11-25",
           "2025-12-02",
           "2025-12-09",
           "2025-12-16",
           "2025-12-23",
           "2025-12-30"
          ],
          [
           "2025-01-01",
           "2025-01-08",
           "2025-01-15",
           "2025-01-22",
           "2025-01-29",
           "2025-02-05",
           "2025-02-12",
           "2025-02-19",
           "2025-02-26",
           "2025-03-05",
           "2025-03-12",
           "2025-03-19",
           "2025-03-26",
           "2025-04-02",
           "2025-04-09",
           "2025-04-16",
           "2025-04-23",
           "2025-04-30",
           "2025-05-07",
           "2025-05-14",
           "2025-05-21",
           "2025-05-28",
           "2025-06-04",
           "2025-06-11",
           "2025-06-18",
           "2025-06-25",
           "2025-07-02",
           "2025-07-09",
           "2025-07-16",
           "2025-07-23",
           "2025-07-30",
           "2025-08-06",
           "2025-08-13",
           "2025-08-20",
           "2025-08-27",
           "2025-09-03",
           "2025-09-10",
           "2025-09-17",
           "2025-09-24",
           "2025-10-01",
           "2025-10-08",
           "2025-10-15",
           "2025-10-22",
           "2025-10-29",
           "2025-11-05",
           "2025-11-12",
           "2025-11-19",
           "2025-11-26",
           "2025-12-03",
           "2025-12-10",
           "2025-12-17",
           "2025-12-24",
           "2025-12-31"
          ],
          [
           "2025-01-02",
           "2025-01-09",
           "2025-01-16",
           "2025-01-23",
           "2025-01-30",
           "2025-02-06",
           "2025-02-13",
           "2025-02-20",
           "2025-02-27",
           "2025-03-06",
           "2025-03-13",
           "2025-03-20",
           "2025-03-27",
           "2025-04-03",
           "2025-04-10",
           "2025-04-17",
           "2025-04-24",
           "2025-05-01",
           "2025-05-08",
           "2025-05-15",
           "2025-05-22",
           "2025-05-29",
           "2025-06-05",
           "2025-06-12",
           "2025-06-19",
           "2025-06-26",
           "2025-07-03",
           "2025-07-10",
           "2025-07-17",
           "2025-07-24",
           "2025-07-31",
           "2025-08-07",
           "2025-08-14",
           "2025-08-21",
           "2025-08-28",
           "2025-09-04",
           "2025-09-11",
           "2025-09-18",
           "2025-09-25",
           "2025-10-02",
           "2025-10-09",
           "2025-10-16",
           "2025-10-23",
           "2025-10-30",
           "2025-11-06",
           "2025-11-13",
           "2025-11-20",
           "2025-11-27",
           "2025-12-04",
           "2025-12-11",
           "2025-12-18",
           "2025-12-25",
           "nan"
          ],
          [
           "2025-01-03",
           "2025-01-10",
           "2025-01-17",
           "2025-01-24",
           "2025-01-31",
           "2025-02-07",
           "2025-02-14",
           "2025-02-21",
           "2025-02-28",
           "2025-03-07",
           "2025-03-14",
           "2025-03-21",
           "2025-03-28",
           "2025-04-04",
           "2025-04-11",
           "2025-04-18",
           "2025-04-25",
           "2025-05-02",
           "2025-05-09",
           "2025-05-16",
           "2025-05-23",
           "2025-05-30",
           "2025-06-06",
           "2025-06-13",
           "2025-06-20",
           "2025-06-27",
           "2025-07-04",
           "2025-07-11",
           "2025-07-18",
           "2025-07-25",
           "2025-08-01",
           "2025-08-08",
           "2025-08-15",
           "2025-08-22",
           "2025-08-29",
           "2025-09-05",
           "2025-09-12",
           "2025-09-19",
           "2025-09-26",
           "2025-10-03",
           "2025-10-10",
           "2025-10-17",
           "2025-10-24",
           "2025-10-31",
           "2025-11-07",
           "2025-11-14",
           "2025-11-21",
           "2025-11-28",
           "2025-12-05",
           "2025-12-12",
           "2025-12-19",
           "2025-12-26",
           "nan"
          ],
          [
           "2025-01-04",
           "2025-01-11",
           "2025-01-18",
           "2025-01-25",
           "2025-02-01",
           "2025-02-08",
           "2025-02-15",
           "2025-02-22",
           "2025-03-01",
           "2025-03-08",
           "2025-03-15",
           "2025-03-22",
           "2025-03-29",
           "2025-04-05",
           "2025-04-12",
           "2025-04-19",
           "2025-04-26",
           "2025-05-03",
           "2025-05-10",
           "2025-05-17",
           "2025-05-24",
           "2025-05-31",
           "2025-06-07",
           "2025-06-14",
           "2025-06-21",
           "2025-06-28",
           "2025-07-05",
           "2025-07-12",
           "2025-07-19",
           "2025-07-26",
           "2025-08-02",
           "2025-08-09",
           "2025-08-16",
           "2025-08-23",
           "2025-08-30",
           "2025-09-06",
           "2025-09-13",
           "2025-09-20",
           "2025-09-27",
           "2025-10-04",
           "2025-10-11",
           "2025-10-18",
           "2025-10-25",
           "2025-11-01",
           "2025-11-08",
           "2025-11-15",
           "2025-11-22",
           "2025-11-29",
           "2025-12-06",
           "2025-12-13",
           "2025-12-20",
           "2025-12-27",
           "nan"
          ]
         ],
         "type": "heatmap",
         "x": {
          "bdata": "AAECAwQFBgcICQoLDA0ODxAREhMUFRYXGBkaGxwdHh8gISIjJCUmJygpKissLS4vMDEyMzQ=",
          "dtype": "i1"
         },
         "xgap": 2,
         "y": {
          "bdata": "AAECAwQFBg==",
          "dtype": "i1"
         },
         "ygap": 2,
         "z": {
          "bdata": "AAAAAAAA+H8AAAAAAAAAAAAAAAAAAAAAAAAAAAAAAAAAAAAAAAAAAAAAAAAAAAAAAAAAAAAAAAAAAAAAAAAAAAAAAAAAAAAAAAAAAAAAAAAAAAAAAAAAAAAAAAAAAAAAAAAAAAAAAAAAAAAAAAAAAAAAAAAAAAAAAAAAAAAAAAAAAAAAAAAAAAAAAAAAAAAAAAAAAAAAAAAAAAAAAAAAAAAAAAAAAAAAAAAAAAAAAAAAAAAAAAAAAAAAAAAAAAAAAAAAAAAAAAAAAAAAAAAAAAAAAAAAAAAAAAAAAAAAAAAAAAAAAAAAAAAAAAAAAAAAAAAAAAAAAAAAAAAAAAAAAAAAAAAAAAAAAAAAAAAAAAAAAAAAAAAAAAAAAAAAAAAAAAAAAAAAAAAAAAAAAAAAAAAAAAAAAAAAAAAAAAAAAAAAAAAAAAAAAAAAAAAAAAAAAAAAAAAAAAAAAAAAAAAAAAAAAAAAAAAAAAAAAAAAAAAAAAAAAAAAAAAAAAAAAAAAAAAAAAAAAAAAAAAAAAAAAAAAAAAAAAAAAAAAAAAAAAAAAAAAAAAAAAAAAAAAAPh/AAAAAAAAAAAAAAAAAAAAAAAAAAAAAAAAAAAAAAAAAAAAAAAAAAAAAAAAAAAAAAAAAAAAAAAAAAAAAAAAAAAAAAAAAAAAAAAAAAAAAAAAAAAAAAAAAAAAAAAAAAAAAAAAAAAAAAAAAAAAAAAAAAAAAAAAAAAAAAAAAAAAAAAAAAAAAAAAAAAAAAAAAAAAAAAAAAAAAAAAAAAAAAAAAAAAAAAAAAAAAAAAAAAAAAAAAAAAAAAAAAAAAAAAAAAAAAAAAAAAAAAAAAAAAAAAAAAAAAAAAAAAAAAAAAAAAAAAAAAAAAAAAAAAAAAAAAAAAAAAAAAAAAAAAAAAAAAAAAAAAAAAAAAAAAAAAAAAAAAAAAAAAAAAAAAAAAAAAAAAAAAAAAAAAAAAAAAAAAAAAAAAAAAAAAAAAAAAAAAAAAAAAAAAAAAAAAAAAAAAAAAAAAAAAAAAAAAAAAAAAAAAAAAAAAAAAAAAAAAAAAAAAAAAAAAAAAAAAAAAAAAAAAAAAAAAAAAAAAAAAAAAAAAAAAAAAAAAAAAAAAAAAAAAAAAAAAAAAAAAAAD4fwAAAAAAAAAAAAAAAAAAAAAAAAAAAAAAAAAAAAAAAAAAAAAAAAAAAAAAAAAAAAAAAAAAAAAAAAAAAAAAAAAAAAAAAAAAAAAAAAAAAAAAAAAAAAAAAAAAAAAAAAAAAAAAAAAAAAAAAAAAAAAAAAAAAAAAAAAAAAAAAAAAAAAAAAAAAAAAAAAAAAAAAAAAAAAAAAAAAAAAAAAAAAAAAAAAAAAAAAAAAAAAAAAAAAAAAAAAAAAAAAAAAAAAAAAAAAAAAAAAAAAAAAAAAAAAAAAAAAAAAAAAAAAAAN0kBoGlDxxAAAAAAAAAAAAAAAAAAAAAAAAAAAAAAAAAAAAAAAAAAAAAAAAAAAAAAAAAAAAAAAAAAAAAAAAAAAAAAAAAAAAAAAAAAAAAAAAAAAAAAAAAAAAAAAAAAAAAAAAAAAAAAAAAAAAAAAAAAAAAAAAAAAAAAAAAAAAAAAAAAAAAAAAAAAAAAAAAAAAAAAAAAAAAAAAAAAAAAAAAAAAAAAAAAAAAAAAAAAAAAAAAAAAAAAAAAAAAAAAAAAAAAAAAAAAAAAAAAAAAAAAAAAAAAAAAAAAAAAAAAAAAAAAAAAAAAAAAAAAAAAAAAAAAAAAAAAAAAAAAAAAAAAAAAAAAAAAAAAAAAAAAAAAAAAAAAAAAAAAAAAAAAAAAAAAAAAAAAAAAAAAAAAAAAAAAAAAAAAAAAAAAAAAAAAAAAAAAAAAAAAAAAAAAAAAAAAAAAAAAAAAAAAAAAAAAAAAAAAAAAAAAAAAAAAAAAAAAAAAAAAAAAAAAAAAAAAAAAAAAAAAAAAAAAAAAAAAAAAAAAAAAAAAAAAAAAAAAAAAAAAAAAAAAAAAAAAAAAAAAAAAAAAAAAAAAAAAAAAAAAAAAAAAAAAAAAAAAAAAAAAAAAAAAAAAAAAAAAAAAAAAAAAAAAAAAAAAAAAAAAAAAAAAAAAAAAAAAAAAAAAAAAAAAAAAAAAAAAAAAAAAAAAAAAAAAAAAAAAAAAAAAAAAAAAAAAAAAAAAAAAAAAAAAAAAAAAAAAAAAAAAAAAAAAAAAAAAAAAAAAAAAAAAAAAAAAAAAAAAAAAAAAAAAAAAAAAAAAAAAAAAAAAAAAAAAAAAAAAAAAAAAAAAAAAAAAAAAAAAAAAAAAAAAAAAAAAAAAAAAAAAAAAAAAAAAAAAAAAAAAAAAAAAAAAAAAAAAAAAAAAAAAAAAAAAAAAAAAAAAAAAAAAAAAAAAAAAAAAAAAAAAAAAAAAAAAAAAAAAAAAAAAAAAAAAAAAAAAAAAAAAAAAAAAAAAAAAAAAAAAAAAAAAAAAAAAAAAAAAAAAAAAAAAAAAAAAAAAAAAAAAAAAAAAAAAAAAAAAAAAAAAAAAAAAAAAAAAAAAAAAAAAAAAAAAAAAAAAAAAAAAAAAAAAAAAAAAAAAAAtvP91IAPEEAAAAAAAAAAAAAAAAAAAAAAAAAAAAAAAAAAAAAAAAAAAAAAAAAAAAAAAAAAAAAAAAAAAAAAAAAAAAAAAAAAAAAAAAAAAAAAAAAAAAAAAAAAAAAAAAAAAAAAAAAAAAAAAAAAAAAAAAAAAAAAAAAAAAAAAAAAAAAAAAAAAAAAAAAAAAAAAAAAAAAAAAAAAAAAAAAAAAAAAAAAAAAAAAAAAAAAAAAAAAAAAAAAAAAAAAAAAAAAAAAAAAAAAAAAAAAA+H8AAAAAAAAAAAAAAAAAAAAAAAAAAAAAAAAAAAAAAAAAAAAAAAAAAAAAAAAAAAAAAAAAAAAAAAAAAAAAAAAAAAAAAAAAAAAAAAAAAAAAAAAAAAAAAAAAAAAAAAAAAAAAAAAAAAAAAAAAAAAAAAAAAAAAAAAAAAAAAAAAAAAAAAAAAAAAAAAAAAAAAAAAAAAAAAAAAAAAAAAAAAAAAAAAAAAAAAAAAAAAAAAAAAAAAAAAAAAAAAAAAAAAAAAAAAAAAAAAAAAAAAAAAAAAAAAAAAAAAAAAAAAAAACq8dJNohcIQAAAAAAAAAAAAAAAAAAAAAAAAAAAAAAAAAAAAAAAAAAAAAAAAAAAAAAAAAAAAAAAAAAAAAAAAAAAAAAAAAAAAAAAAAAAAAAAAAAAAAAAAAAAAAAAAAAAAAAAAAAAAAAAAAAAAAAAAAAAAAAAAAAAAAAAAAAAAAAAAAAAAAAAAAAAAAAAAAAAAAAAAAAAAAAAAAAAAAAAAAAAAAAAAAAAAAAAAAAAAAAAAAAAAAAAAAAAAAAAAAAAAAAAAAAAAAAAAAAAAAAAAPh/AAAAAAAAAAAAAAAAAAAAAAAAAAAAAAAAAAAAAAAAAAAAAAAAAAAAAAAAAAAAAAAAAAAAAAAAAAAAAAAAAAAAAAAAAAAAAAAAAAAAAAAAAAAAAAAAAAAAAAAAAAAAAAAAAAAAAAAAAAAAAAAAAAAAAAAAAAAAAAAAAAAAAAAAAAAAAAAAAAAAAAAAAAAAAAAAAAAAAAAAAAAAAAAAAAAAAAAAAAAAAAAAAAAAAAAAAAAAAAAAAAAAAAAAAAAAAAAAAAAAAAAAAAAAAAAAAAAAAAAAAAAAAAAAAAAAAAAAAAAAAAAAAAAAAAAAAAAAAAAAAAAAAAAAAAAAAAAAAAAAAAAAAAAAAAAAAAAAAAAAAAAAAAAAAAAAAAAAAAAAAAAAAAAAAAAAAAAAAAAAAAAAAAAAAAAAAAAAAAAAAAAAAAAAAAAAAAAAAAAAAAAAAAAAAAAAAAAAAAAAAAAAAAAAAAAAAAAAAAAAAAAAAAAAAAAAAAAAAAAAAAAAAAAAAAAAAAAAAAAAAAAAAAAAAAAAAAAAAAAAAAAAAAAAAAAAAAAAAAAAAAD4fw==",
          "dtype": "f8",
          "shape": "7, 53"
         }
        }
       ],
       "layout": {
        "height": 300,
        "plot_bgcolor": "white",
        "template": {
         "data": {
          "bar": [
           {
            "error_x": {
             "color": "#2a3f5f"
            },
            "error_y": {
             "color": "#2a3f5f"
            },
            "marker": {
             "line": {
              "color": "#E5ECF6",
              "width": 0.5
             },
             "pattern": {
              "fillmode": "overlay",
              "size": 10,
              "solidity": 0.2
             }
            },
            "type": "bar"
           }
          ],
          "barpolar": [
           {
            "marker": {
             "line": {
              "color": "#E5ECF6",
              "width": 0.5
             },
             "pattern": {
              "fillmode": "overlay",
              "size": 10,
              "solidity": 0.2
             }
            },
            "type": "barpolar"
           }
          ],
          "carpet": [
           {
            "aaxis": {
             "endlinecolor": "#2a3f5f",
             "gridcolor": "white",
             "linecolor": "white",
             "minorgridcolor": "white",
             "startlinecolor": "#2a3f5f"
            },
            "baxis": {
             "endlinecolor": "#2a3f5f",
             "gridcolor": "white",
             "linecolor": "white",
             "minorgridcolor": "white",
             "startlinecolor": "#2a3f5f"
            },
            "type": "carpet"
           }
          ],
          "choropleth": [
           {
            "colorbar": {
             "outlinewidth": 0,
             "ticks": ""
            },
            "type": "choropleth"
           }
          ],
          "contour": [
           {
            "colorbar": {
             "outlinewidth": 0,
             "ticks": ""
            },
            "colorscale": [
             [
              0,
              "#0d0887"
             ],
             [
              0.1111111111111111,
              "#46039f"
             ],
             [
              0.2222222222222222,
              "#7201a8"
             ],
             [
              0.3333333333333333,
              "#9c179e"
             ],
             [
              0.4444444444444444,
              "#bd3786"
             ],
             [
              0.5555555555555556,
              "#d8576b"
             ],
             [
              0.6666666666666666,
              "#ed7953"
             ],
             [
              0.7777777777777778,
              "#fb9f3a"
             ],
             [
              0.8888888888888888,
              "#fdca26"
             ],
             [
              1,
              "#f0f921"
             ]
            ],
            "type": "contour"
           }
          ],
          "contourcarpet": [
           {
            "colorbar": {
             "outlinewidth": 0,
             "ticks": ""
            },
            "type": "contourcarpet"
           }
          ],
          "heatmap": [
           {
            "colorbar": {
             "outlinewidth": 0,
             "ticks": ""
            },
            "colorscale": [
             [
              0,
              "#0d0887"
             ],
             [
              0.1111111111111111,
              "#46039f"
             ],
             [
              0.2222222222222222,
              "#7201a8"
             ],
             [
              0.3333333333333333,
              "#9c179e"
             ],
             [
              0.4444444444444444,
              "#bd3786"
             ],
             [
              0.5555555555555556,
              "#d8576b"
             ],
             [
              0.6666666666666666,
              "#ed7953"
             ],
             [
              0.7777777777777778,
              "#fb9f3a"
             ],
             [
              0.8888888888888888,
              "#fdca26"
             ],
             [
              1,
              "#f0f921"
             ]
            ],
            "type": "heatmap"
           }
          ],
          "histogram": [
           {
            "marker": {
             "pattern": {
              "fillmode": "overlay",
              "size": 10,
              "solidity": 0.2
             }
            },
            "type": "histogram"
           }
          ],
          "histogram2d": [
           {
            "colorbar": {
             "outlinewidth": 0,
             "ticks": ""
            },
            "colorscale": [
             [
              0,
              "#0d0887"
             ],
             [
              0.1111111111111111,
              "#46039f"
             ],
             [
              0.2222222222222222,
              "#7201a8"
             ],
             [
              0.3333333333333333,
              "#9c179e"
             ],
             [
              0.4444444444444444,
              "#bd3786"
             ],
             [
              0.5555555555555556,
              "#d8576b"
             ],
             [
              0.6666666666666666,
              "#ed7953"
             ],
             [
              0.7777777777777778,
              "#fb9f3a"
             ],
             [
              0.8888888888888888,
              "#fdca26"
             ],
             [
              1,
              "#f0f921"
             ]
            ],
            "type": "histogram2d"
           }
          ],
          "histogram2dcontour": [
           {
            "colorbar": {
             "outlinewidth": 0,
             "ticks": ""
            },
            "colorscale": [
             [
              0,
              "#0d0887"
             ],
             [
              0.1111111111111111,
              "#46039f"
             ],
             [
              0.2222222222222222,
              "#7201a8"
             ],
             [
              0.3333333333333333,
              "#9c179e"
             ],
             [
              0.4444444444444444,
              "#bd3786"
             ],
             [
              0.5555555555555556,
              "#d8576b"
             ],
             [
              0.6666666666666666,
              "#ed7953"
             ],
             [
              0.7777777777777778,
              "#fb9f3a"
             ],
             [
              0.8888888888888888,
              "#fdca26"
             ],
             [
              1,
              "#f0f921"
             ]
            ],
            "type": "histogram2dcontour"
           }
          ],
          "mesh3d": [
           {
            "colorbar": {
             "outlinewidth": 0,
             "ticks": ""
            },
            "type": "mesh3d"
           }
          ],
          "parcoords": [
           {
            "line": {
             "colorbar": {
              "outlinewidth": 0,
              "ticks": ""
             }
            },
            "type": "parcoords"
           }
          ],
          "pie": [
           {
            "automargin": true,
            "type": "pie"
           }
          ],
          "scatter": [
           {
            "fillpattern": {
             "fillmode": "overlay",
             "size": 10,
             "solidity": 0.2
            },
            "type": "scatter"
           }
          ],
          "scatter3d": [
           {
            "line": {
             "colorbar": {
              "outlinewidth": 0,
              "ticks": ""
             }
            },
            "marker": {
             "colorbar": {
              "outlinewidth": 0,
              "ticks": ""
             }
            },
            "type": "scatter3d"
           }
          ],
          "scattercarpet": [
           {
            "marker": {
             "colorbar": {
              "outlinewidth": 0,
              "ticks": ""
             }
            },
            "type": "scattercarpet"
           }
          ],
          "scattergeo": [
           {
            "marker": {
             "colorbar": {
              "outlinewidth": 0,
              "ticks": ""
             }
            },
            "type": "scattergeo"
           }
          ],
          "scattergl": [
           {
            "marker": {
             "colorbar": {
              "outlinewidth": 0,
              "ticks": ""
             }
            },
            "type": "scattergl"
           }
          ],
          "scattermap": [
           {
            "marker": {
             "colorbar": {
              "outlinewidth": 0,
              "ticks": ""
             }
            },
            "type": "scattermap"
           }
          ],
          "scattermapbox": [
           {
            "marker": {
             "colorbar": {
              "outlinewidth": 0,
              "ticks": ""
             }
            },
            "type": "scattermapbox"
           }
          ],
          "scatterpolar": [
           {
            "marker": {
             "colorbar": {
              "outlinewidth": 0,
              "ticks": ""
             }
            },
            "type": "scatterpolar"
           }
          ],
          "scatterpolargl": [
           {
            "marker": {
             "colorbar": {
              "outlinewidth": 0,
              "ticks": ""
             }
            },
            "type": "scatterpolargl"
           }
          ],
          "scatterternary": [
           {
            "marker": {
             "colorbar": {
              "outlinewidth": 0,
              "ticks": ""
             }
            },
            "type": "scatterternary"
           }
          ],
          "surface": [
           {
            "colorbar": {
             "outlinewidth": 0,
             "ticks": ""
            },
            "colorscale": [
             [
              0,
              "#0d0887"
             ],
             [
              0.1111111111111111,
              "#46039f"
             ],
             [
              0.2222222222222222,
              "#7201a8"
             ],
             [
              0.3333333333333333,
              "#9c179e"
             ],
             [
              0.4444444444444444,
              "#bd3786"
             ],
             [
              0.5555555555555556,
              "#d8576b"
             ],
             [
              0.6666666666666666,
              "#ed7953"
             ],
             [
              0.7777777777777778,
              "#fb9f3a"
             ],
             [
              0.8888888888888888,
              "#fdca26"
             ],
             [
              1,
              "#f0f921"
             ]
            ],
            "type": "surface"
           }
          ],
          "table": [
           {
            "cells": {
             "fill": {
              "color": "#EBF0F8"
             },
             "line": {
              "color": "white"
             }
            },
            "header": {
             "fill": {
              "color": "#C8D4E3"
             },
             "line": {
              "color": "white"
             }
            },
            "type": "table"
           }
          ]
         },
         "layout": {
          "annotationdefaults": {
           "arrowcolor": "#2a3f5f",
           "arrowhead": 0,
           "arrowwidth": 1
          },
          "autotypenumbers": "strict",
          "coloraxis": {
           "colorbar": {
            "outlinewidth": 0,
            "ticks": ""
           }
          },
          "colorscale": {
           "diverging": [
            [
             0,
             "#8e0152"
            ],
            [
             0.1,
             "#c51b7d"
            ],
            [
             0.2,
             "#de77ae"
            ],
            [
             0.3,
             "#f1b6da"
            ],
            [
             0.4,
             "#fde0ef"
            ],
            [
             0.5,
             "#f7f7f7"
            ],
            [
             0.6,
             "#e6f5d0"
            ],
            [
             0.7,
             "#b8e186"
            ],
            [
             0.8,
             "#7fbc41"
            ],
            [
             0.9,
             "#4d9221"
            ],
            [
             1,
             "#276419"
            ]
           ],
           "sequential": [
            [
             0,
             "#0d0887"
            ],
            [
             0.1111111111111111,
             "#46039f"
            ],
            [
             0.2222222222222222,
             "#7201a8"
            ],
            [
             0.3333333333333333,
             "#9c179e"
            ],
            [
             0.4444444444444444,
             "#bd3786"
            ],
            [
             0.5555555555555556,
             "#d8576b"
            ],
            [
             0.6666666666666666,
             "#ed7953"
            ],
            [
             0.7777777777777778,
             "#fb9f3a"
            ],
            [
             0.8888888888888888,
             "#fdca26"
            ],
            [
             1,
             "#f0f921"
            ]
           ],
           "sequentialminus": [
            [
             0,
             "#0d0887"
            ],
            [
             0.1111111111111111,
             "#46039f"
            ],
            [
             0.2222222222222222,
             "#7201a8"
            ],
            [
             0.3333333333333333,
             "#9c179e"
            ],
            [
             0.4444444444444444,
             "#bd3786"
            ],
            [
             0.5555555555555556,
             "#d8576b"
            ],
            [
             0.6666666666666666,
             "#ed7953"
            ],
            [
             0.7777777777777778,
             "#fb9f3a"
            ],
            [
             0.8888888888888888,
             "#fdca26"
            ],
            [
             1,
             "#f0f921"
            ]
           ]
          },
          "colorway": [
           "#636efa",
           "#EF553B",
           "#00cc96",
           "#ab63fa",
           "#FFA15A",
           "#19d3f3",
           "#FF6692",
           "#B6E880",
           "#FF97FF",
           "#FECB52"
          ],
          "font": {
           "color": "#2a3f5f"
          },
          "geo": {
           "bgcolor": "white",
           "lakecolor": "white",
           "landcolor": "#E5ECF6",
           "showlakes": true,
           "showland": true,
           "subunitcolor": "white"
          },
          "hoverlabel": {
           "align": "left"
          },
          "hovermode": "closest",
          "mapbox": {
           "style": "light"
          },
          "paper_bgcolor": "white",
          "plot_bgcolor": "#E5ECF6",
          "polar": {
           "angularaxis": {
            "gridcolor": "white",
            "linecolor": "white",
            "ticks": ""
           },
           "bgcolor": "#E5ECF6",
           "radialaxis": {
            "gridcolor": "white",
            "linecolor": "white",
            "ticks": ""
           }
          },
          "scene": {
           "xaxis": {
            "backgroundcolor": "#E5ECF6",
            "gridcolor": "white",
            "gridwidth": 2,
            "linecolor": "white",
            "showbackground": true,
            "ticks": "",
            "zerolinecolor": "white"
           },
           "yaxis": {
            "backgroundcolor": "#E5ECF6",
            "gridcolor": "white",
            "gridwidth": 2,
            "linecolor": "white",
            "showbackground": true,
            "ticks": "",
            "zerolinecolor": "white"
           },
           "zaxis": {
            "backgroundcolor": "#E5ECF6",
            "gridcolor": "white",
            "gridwidth": 2,
            "linecolor": "white",
            "showbackground": true,
            "ticks": "",
            "zerolinecolor": "white"
           }
          },
          "shapedefaults": {
           "line": {
            "color": "#2a3f5f"
           }
          },
          "ternary": {
           "aaxis": {
            "gridcolor": "white",
            "linecolor": "white",
            "ticks": ""
           },
           "baxis": {
            "gridcolor": "white",
            "linecolor": "white",
            "ticks": ""
           },
           "bgcolor": "#E5ECF6",
           "caxis": {
            "gridcolor": "white",
            "linecolor": "white",
            "ticks": ""
           }
          },
          "title": {
           "x": 0.05
          },
          "xaxis": {
           "automargin": true,
           "gridcolor": "white",
           "linecolor": "white",
           "ticks": "",
           "title": {
            "standoff": 15
           },
           "zerolinecolor": "white",
           "zerolinewidth": 2
          },
          "yaxis": {
           "automargin": true,
           "gridcolor": "white",
           "linecolor": "white",
           "ticks": "",
           "title": {
            "standoff": 15
           },
           "zerolinecolor": "white",
           "zerolinewidth": 2
          }
         }
        },
        "width": 1000,
        "xaxis": {
         "ticktext": [
          "Jan",
          "Feb",
          "Mar",
          "Apr",
          "May",
          "Jun",
          "Jul",
          "Aug",
          "Sep",
          "Oct",
          "Nov",
          "Dec"
         ],
         "tickvals": [
          0,
          5,
          9,
          13,
          18,
          22,
          26,
          31,
          35,
          39,
          44,
          48
         ]
        },
        "yaxis": {
         "autorange": "reversed",
         "range": [
          -0.5,
          6.5
         ],
         "scaleanchor": "x",
         "tickmode": "array",
         "ticktext": [
          "",
          "Mon  ",
          "",
          "Wed  ",
          "",
          "Fri  ",
          ""
         ],
         "tickvals": [
          0,
          1,
          2,
          3,
          4,
          5,
          6
         ]
        }
       }
      },
      "image/png": "[encoded data removed]"
     },
     "metadata": {},
     "output_type": "display_data"
    }
   ],
   "source": [
    "# for the values we want to show\n",
    "z_matrix = new.pivot(index=\"github_weekday\", columns=\"calendar_week\", values=\"distance_km\")\n",
    "# for the date that we need for the labels when hovering\n",
    "date_matrix = new.pivot(index=\"github_weekday\", columns=\"calendar_week\", values=\"day\")\n",
    "date_matrix_str = date_matrix.astype(str).values \n",
    "\n",
    "# Weekday labels\n",
    "weekday_labels = [\"\",\"Mon  \",\"\",\"Wed  \",\"\",\"Fri  \",\"\"] # add whitespacd\n",
    "\n",
    "custom_colorscale = [\n",
    "    [0.0, \"#f0f0f0\"],      # zero mapped to light gray\n",
    "    [0.00001, \"#d4f4dd\"],    # just above zero, very light green\n",
    "    [0.2, \"#a4d4a5\"],\n",
    "    [0.5, \"#70b86a\"],\n",
    "    [0.8, \"#3b9d32\"],\n",
    "    [1.0, \"#1b6700\"]\n",
    "]\n",
    "\n",
    "fig = go.Figure(go.Heatmap(\n",
    "    z=z_matrix.values,                   # 2D data matrix\n",
    "    x=z_matrix.columns,                  # weeks on x-axis\n",
    "    y=z_matrix.index,                    # fixed weekday labels\n",
    "    colorscale=custom_colorscale,\n",
    "    xgap=2, ygap=2,                      # add spacing between cells\n",
    "    colorbar=dict(title=\"km\"),\n",
    "    hoverongaps=False,\n",
    "    text=date_matrix_str,    \n",
    "    hovertemplate=(\" %{z:.3f} km on %{text}<br>\" +          # use the date string here\n",
    "                   \"<extra></extra>\"  # hides trace name box\n",
    ")))\n",
    "\n",
    "# Make cells square\n",
    "fig.update_yaxes(\n",
    "    scaleanchor=\"x\",     # enforce square aspect ratio\n",
    "    autorange='reversed', # reverse to match GitHub style\n",
    "    tickmode=\"array\",\n",
    "    tickvals=list(range(7)),\n",
    "    range=[-0.5, 6.5],                      # always show 7 rows\n",
    "    ticktext=weekday_labels,\n",
    ")\n",
    "\n",
    "\n",
    "# Label only some weeks with months\n",
    "tickvals = list(labels.calendar_week)\n",
    "ticktext = list(labels.month)\n",
    "\n",
    "fig.update_xaxes(\n",
    "    tickvals=tickvals,\n",
    "    ticktext=ticktext\n",
    ")\n",
    "\n",
    "fig.update_layout(\n",
    "    plot_bgcolor='white',        # inside plot area\n",
    "    #paper_bgcolor='lightgray',\n",
    "    #margin=dict(l=60, r=20, t=40, b=10),\n",
    "    width = 1000,\n",
    "    height = 300\n",
    ")\n",
    "\n",
    "fig.show()"
   ]
  },
  {
   "cell_type": "code",
   "execution_count": null,
   "metadata": {},
   "outputs": [],
   "source": []
  }
 ],
 "metadata": {
  "kernelspec": {
   "display_name": "Python 3 (ipykernel)",
   "language": "python",
   "name": "python3"
  },
  "language_info": {
   "codemirror_mode": {
    "name": "ipython",
    "version": 3
   },
   "file_extension": ".py",
   "mimetype": "text/x-python",
   "name": "python",
   "nbconvert_exporter": "python",
   "pygments_lexer": "ipython3",
   "version": "3.12.11"
  }
 },
 "nbformat": 4,
 "nbformat_minor": 4
}
