{
 "cells": [
  {
   "cell_type": "markdown",
   "metadata": {},
   "source": [
    "# Garth Migration"
   ]
  },
  {
   "cell_type": "code",
   "execution_count": 1,
   "metadata": {},
   "outputs": [],
   "source": [
    "import garminconnect"
   ]
  },
  {
   "cell_type": "markdown",
   "metadata": {},
   "source": [
    "## Login"
   ]
  },
  {
   "cell_type": "markdown",
   "metadata": {},
   "source": [
    "Request email and password.  If MFA is enabled, Garth will request it."
   ]
  },
  {
   "cell_type": "code",
   "execution_count": 2,
   "metadata": {},
   "outputs": [
    {
     "name": "stdin",
     "output_type": "stream",
     "text": [
      "Enter email address:  franziska.witzel@gmail.com\n",
      "Enter password:  ········\n"
     ]
    },
    {
     "data": {
      "text/plain": [
       "'franzlaeuft'"
      ]
     },
     "execution_count": 2,
     "metadata": {},
     "output_type": "execute_result"
    }
   ],
   "source": [
    "from getpass import getpass\n",
    "\n",
    "email = input(\"Enter email address: \")\n",
    "password = getpass(\"Enter password: \")\n",
    "\n",
    "garmin = garminconnect.Garmin(email, password)\n",
    "garmin.login()\n",
    "\n",
    "garmin.display_name"
   ]
  },
  {
   "cell_type": "markdown",
   "metadata": {},
   "source": [
    "Save session"
   ]
  },
  {
   "cell_type": "code",
   "execution_count": 3,
   "metadata": {},
   "outputs": [],
   "source": [
    "import os\n",
    "\n",
    "GARTH_HOME = os.getenv(\"GARTH_HOME\", \"~/.garth\")\n",
    "garmin.garth.dump(GARTH_HOME)\n",
    "\n",
    "# after running this cell, I have a folder .garth in my home directory and it \n",
    "# contains two authentication tokens (their content is quite different also), one of the files contains expiration \n",
    "# timestamps and such (and a refresh token as well)"
   ]
  },
  {
   "cell_type": "markdown",
   "metadata": {},
   "source": [
    "## Get Connect stats"
   ]
  },
  {
   "cell_type": "code",
   "execution_count": 4,
   "metadata": {},
   "outputs": [
    {
     "data": {
      "text/plain": [
       "'2025-07-19'"
      ]
     },
     "execution_count": 4,
     "metadata": {},
     "output_type": "execute_result"
    }
   ],
   "source": [
    "from datetime import date, timedelta\n",
    "\n",
    "yesterday = date.today() - timedelta(days=1)\n",
    "yesterday = yesterday.isoformat()\n",
    "yesterday"
   ]
  },
  {
   "cell_type": "code",
   "execution_count": 11,
   "metadata": {},
   "outputs": [
    {
     "data": {
      "text/plain": [
       "dict_keys(['userProfileId', 'totalKilocalories', 'activeKilocalories', 'bmrKilocalories', 'wellnessKilocalories', 'burnedKilocalories', 'consumedKilocalories', 'remainingKilocalories', 'totalSteps', 'netCalorieGoal', 'totalDistanceMeters', 'wellnessDistanceMeters', 'wellnessActiveKilocalories', 'netRemainingKilocalories', 'userDailySummaryId', 'calendarDate', 'rule', 'uuid', 'dailyStepGoal', 'wellnessStartTimeGmt', 'wellnessStartTimeLocal', 'wellnessEndTimeGmt', 'wellnessEndTimeLocal', 'durationInMilliseconds', 'wellnessDescription', 'highlyActiveSeconds', 'activeSeconds', 'sedentarySeconds', 'sleepingSeconds', 'includesWellnessData', 'includesActivityData', 'includesCalorieConsumedData', 'privacyProtected', 'moderateIntensityMinutes', 'vigorousIntensityMinutes', 'floorsAscendedInMeters', 'floorsDescendedInMeters', 'floorsAscended', 'floorsDescended', 'intensityMinutesGoal', 'userFloorsAscendedGoal', 'minHeartRate', 'maxHeartRate', 'restingHeartRate', 'lastSevenDaysAvgRestingHeartRate', 'source', 'averageStressLevel', 'maxStressLevel', 'stressDuration', 'restStressDuration', 'activityStressDuration', 'uncategorizedStressDuration', 'totalStressDuration', 'lowStressDuration', 'mediumStressDuration', 'highStressDuration', 'stressPercentage', 'restStressPercentage', 'activityStressPercentage', 'uncategorizedStressPercentage', 'lowStressPercentage', 'mediumStressPercentage', 'highStressPercentage', 'stressQualifier', 'measurableAwakeDuration', 'measurableAsleepDuration', 'lastSyncTimestampGMT', 'minAvgHeartRate', 'maxAvgHeartRate', 'bodyBatteryChargedValue', 'bodyBatteryDrainedValue', 'bodyBatteryHighestValue', 'bodyBatteryLowestValue', 'bodyBatteryMostRecentValue', 'bodyBatteryDuringSleep', 'bodyBatteryAtWakeTime', 'bodyBatteryVersion', 'abnormalHeartRateAlertsCount', 'averageSpo2', 'lowestSpo2', 'latestSpo2', 'latestSpo2ReadingTimeGmt', 'latestSpo2ReadingTimeLocal', 'averageMonitoringEnvironmentAltitude', 'restingCaloriesFromActivity', 'bodyBatteryDynamicFeedbackEvent', 'bodyBatteryActivityEventList', 'avgWakingRespirationValue', 'highestRespirationValue', 'lowestRespirationValue', 'latestRespirationValue', 'latestRespirationTimeGMT', 'respirationAlgorithmVersion'])"
      ]
     },
     "execution_count": 11,
     "metadata": {},
     "output_type": "execute_result"
    }
   ],
   "source": [
    "garmin.get_stats(yesterday).keys()"
   ]
  },
  {
   "cell_type": "code",
   "execution_count": 558,
   "metadata": {},
   "outputs": [
    {
     "data": {
      "text/plain": [
       "dict_keys(['userProfileId', 'totalKilocalories', 'activeKilocalories', 'bmrKilocalories', 'wellnessKilocalories', 'burnedKilocalories', 'consumedKilocalories', 'remainingKilocalories', 'totalSteps', 'netCalorieGoal', 'totalDistanceMeters', 'wellnessDistanceMeters', 'wellnessActiveKilocalories', 'netRemainingKilocalories', 'userDailySummaryId', 'calendarDate', 'rule', 'uuid', 'dailyStepGoal', 'wellnessStartTimeGmt', 'wellnessStartTimeLocal', 'wellnessEndTimeGmt', 'wellnessEndTimeLocal', 'durationInMilliseconds', 'wellnessDescription', 'highlyActiveSeconds', 'activeSeconds', 'sedentarySeconds', 'sleepingSeconds', 'includesWellnessData', 'includesActivityData', 'includesCalorieConsumedData', 'privacyProtected', 'moderateIntensityMinutes', 'vigorousIntensityMinutes', 'floorsAscendedInMeters', 'floorsDescendedInMeters', 'floorsAscended', 'floorsDescended', 'intensityMinutesGoal', 'userFloorsAscendedGoal', 'minHeartRate', 'maxHeartRate', 'restingHeartRate', 'lastSevenDaysAvgRestingHeartRate', 'source', 'averageStressLevel', 'maxStressLevel', 'stressDuration', 'restStressDuration', 'activityStressDuration', 'uncategorizedStressDuration', 'totalStressDuration', 'lowStressDuration', 'mediumStressDuration', 'highStressDuration', 'stressPercentage', 'restStressPercentage', 'activityStressPercentage', 'uncategorizedStressPercentage', 'lowStressPercentage', 'mediumStressPercentage', 'highStressPercentage', 'stressQualifier', 'measurableAwakeDuration', 'measurableAsleepDuration', 'lastSyncTimestampGMT', 'minAvgHeartRate', 'maxAvgHeartRate', 'bodyBatteryChargedValue', 'bodyBatteryDrainedValue', 'bodyBatteryHighestValue', 'bodyBatteryLowestValue', 'bodyBatteryMostRecentValue', 'bodyBatteryDuringSleep', 'bodyBatteryAtWakeTime', 'bodyBatteryVersion', 'abnormalHeartRateAlertsCount', 'averageSpo2', 'lowestSpo2', 'latestSpo2', 'latestSpo2ReadingTimeGmt', 'latestSpo2ReadingTimeLocal', 'averageMonitoringEnvironmentAltitude', 'restingCaloriesFromActivity', 'bodyBatteryDynamicFeedbackEvent', 'bodyBatteryActivityEventList', 'avgWakingRespirationValue', 'highestRespirationValue', 'lowestRespirationValue', 'latestRespirationValue', 'latestRespirationTimeGMT', 'respirationAlgorithmVersion'])"
      ]
     },
     "execution_count": 558,
     "metadata": {},
     "output_type": "execute_result"
    }
   ],
   "source": [
    "garmin.get_user_summary(yesterday).keys()"
   ]
  },
  {
   "cell_type": "code",
   "execution_count": 559,
   "metadata": {},
   "outputs": [
    {
     "data": {
      "text/plain": [
       "[{'startGMT': '2025-07-16T22:00:00.0',\n",
       "  'endGMT': '2025-07-16T22:15:00.0',\n",
       "  'steps': 0,\n",
       "  'pushes': 0,\n",
       "  'primaryActivityLevel': 'sedentary',\n",
       "  'activityLevelConstant': True},\n",
       " {'startGMT': '2025-07-16T22:15:00.0',\n",
       "  'endGMT': '2025-07-16T22:30:00.0',\n",
       "  'steps': 0,\n",
       "  'pushes': 0,\n",
       "  'primaryActivityLevel': 'sedentary',\n",
       "  'activityLevelConstant': True}]"
      ]
     },
     "execution_count": 559,
     "metadata": {},
     "output_type": "execute_result"
    }
   ],
   "source": [
    "garmin.get_steps_data(yesterday)[:2]"
   ]
  },
  {
   "cell_type": "code",
   "execution_count": 560,
   "metadata": {},
   "outputs": [
    {
     "data": {
      "text/plain": [
       "dict_keys(['startTimestampGMT', 'endTimestampGMT', 'startTimestampLocal', 'endTimestampLocal', 'floorsValueDescriptorDTOList', 'floorValuesArray'])"
      ]
     },
     "execution_count": 560,
     "metadata": {},
     "output_type": "execute_result"
    }
   ],
   "source": [
    "garmin.get_floors(yesterday).keys()"
   ]
  },
  {
   "cell_type": "code",
   "execution_count": 561,
   "metadata": {},
   "outputs": [
    {
     "data": {
      "text/plain": [
       "[{'calendarDate': '2025-07-17',\n",
       "  'totalSteps': 5536,\n",
       "  'totalDistance': 4505,\n",
       "  'stepGoal': 6600}]"
      ]
     },
     "execution_count": 561,
     "metadata": {},
     "output_type": "execute_result"
    }
   ],
   "source": [
    "garmin.get_daily_steps(yesterday, yesterday)"
   ]
  },
  {
   "cell_type": "code",
   "execution_count": 562,
   "metadata": {},
   "outputs": [
    {
     "data": {
      "text/plain": [
       "dict_keys(['userProfilePK', 'calendarDate', 'startTimestampGMT', 'endTimestampGMT', 'startTimestampLocal', 'endTimestampLocal', 'maxHeartRate', 'minHeartRate', 'restingHeartRate', 'lastSevenDaysAvgRestingHeartRate', 'heartRateValueDescriptors', 'heartRateValues'])"
      ]
     },
     "execution_count": 562,
     "metadata": {},
     "output_type": "execute_result"
    }
   ],
   "source": [
    "garmin.get_heart_rates(yesterday).keys()"
   ]
  },
  {
   "cell_type": "code",
   "execution_count": 563,
   "metadata": {},
   "outputs": [
    {
     "data": {
      "text/plain": [
       "dict_keys(['userProfileId', 'totalKilocalories', 'activeKilocalories', 'bmrKilocalories', 'wellnessKilocalories', 'burnedKilocalories', 'consumedKilocalories', 'remainingKilocalories', 'totalSteps', 'netCalorieGoal', 'totalDistanceMeters', 'wellnessDistanceMeters', 'wellnessActiveKilocalories', 'netRemainingKilocalories', 'userDailySummaryId', 'calendarDate', 'rule', 'uuid', 'dailyStepGoal', 'wellnessStartTimeGmt', 'wellnessStartTimeLocal', 'wellnessEndTimeGmt', 'wellnessEndTimeLocal', 'durationInMilliseconds', 'wellnessDescription', 'highlyActiveSeconds', 'activeSeconds', 'sedentarySeconds', 'sleepingSeconds', 'includesWellnessData', 'includesActivityData', 'includesCalorieConsumedData', 'privacyProtected', 'moderateIntensityMinutes', 'vigorousIntensityMinutes', 'floorsAscendedInMeters', 'floorsDescendedInMeters', 'floorsAscended', 'floorsDescended', 'intensityMinutesGoal', 'userFloorsAscendedGoal', 'minHeartRate', 'maxHeartRate', 'restingHeartRate', 'lastSevenDaysAvgRestingHeartRate', 'source', 'averageStressLevel', 'maxStressLevel', 'stressDuration', 'restStressDuration', 'activityStressDuration', 'uncategorizedStressDuration', 'totalStressDuration', 'lowStressDuration', 'mediumStressDuration', 'highStressDuration', 'stressPercentage', 'restStressPercentage', 'activityStressPercentage', 'uncategorizedStressPercentage', 'lowStressPercentage', 'mediumStressPercentage', 'highStressPercentage', 'stressQualifier', 'measurableAwakeDuration', 'measurableAsleepDuration', 'lastSyncTimestampGMT', 'minAvgHeartRate', 'maxAvgHeartRate', 'bodyBatteryChargedValue', 'bodyBatteryDrainedValue', 'bodyBatteryHighestValue', 'bodyBatteryLowestValue', 'bodyBatteryMostRecentValue', 'bodyBatteryDuringSleep', 'bodyBatteryAtWakeTime', 'bodyBatteryVersion', 'abnormalHeartRateAlertsCount', 'averageSpo2', 'lowestSpo2', 'latestSpo2', 'latestSpo2ReadingTimeGmt', 'latestSpo2ReadingTimeLocal', 'averageMonitoringEnvironmentAltitude', 'restingCaloriesFromActivity', 'bodyBatteryDynamicFeedbackEvent', 'bodyBatteryActivityEventList', 'avgWakingRespirationValue', 'highestRespirationValue', 'lowestRespirationValue', 'latestRespirationValue', 'latestRespirationTimeGMT', 'respirationAlgorithmVersion', 'from', 'until', 'weight', 'bmi', 'bodyFat', 'bodyWater', 'boneMass', 'muscleMass', 'physiqueRating', 'visceralFat', 'metabolicAge'])"
      ]
     },
     "execution_count": 563,
     "metadata": {},
     "output_type": "execute_result"
    }
   ],
   "source": [
    "garmin.get_stats_and_body(yesterday).keys()"
   ]
  },
  {
   "cell_type": "code",
   "execution_count": 564,
   "metadata": {},
   "outputs": [
    {
     "data": {
      "text/plain": [
       "{'startDate': '2025-07-17',\n",
       " 'endDate': '2025-07-17',\n",
       " 'dateWeightList': [],\n",
       " 'totalAverage': {'from': 1752710400000,\n",
       "  'until': 1752796799999,\n",
       "  'weight': None,\n",
       "  'bmi': None,\n",
       "  'bodyFat': None,\n",
       "  'bodyWater': None,\n",
       "  'boneMass': None,\n",
       "  'muscleMass': None,\n",
       "  'physiqueRating': None,\n",
       "  'visceralFat': None,\n",
       "  'metabolicAge': None}}"
      ]
     },
     "execution_count": 564,
     "metadata": {},
     "output_type": "execute_result"
    }
   ],
   "source": [
    "garmin.get_body_composition(yesterday)"
   ]
  },
  {
   "cell_type": "code",
   "execution_count": 565,
   "metadata": {},
   "outputs": [
    {
     "data": {
      "text/plain": [
       "dict_keys(['date', 'charged', 'drained', 'startTimestampGMT', 'endTimestampGMT', 'startTimestampLocal', 'endTimestampLocal', 'bodyBatteryValuesArray', 'bodyBatteryValueDescriptorDTOList', 'bodyBatteryDynamicFeedbackEvent', 'bodyBatteryActivityEvent'])"
      ]
     },
     "execution_count": 565,
     "metadata": {},
     "output_type": "execute_result"
    }
   ],
   "source": [
    "garmin.get_body_battery(yesterday)[0].keys()"
   ]
  },
  {
   "cell_type": "code",
   "execution_count": 566,
   "metadata": {},
   "outputs": [
    {
     "data": {
      "text/plain": [
       "{'from': '2025-07-17',\n",
       " 'until': '2025-07-17',\n",
       " 'measurementSummaries': [],\n",
       " 'categoryStats': None}"
      ]
     },
     "execution_count": 566,
     "metadata": {},
     "output_type": "execute_result"
    }
   ],
   "source": [
    "garmin.get_blood_pressure(yesterday)"
   ]
  },
  {
   "cell_type": "code",
   "execution_count": 567,
   "metadata": {},
   "outputs": [
    {
     "data": {
      "text/plain": [
       "[{'userId': 27447418,\n",
       "  'generic': {'calendarDate': '2025-07-17',\n",
       "   'vo2MaxPreciseValue': 40.5,\n",
       "   'vo2MaxValue': 41.0,\n",
       "   'fitnessAge': None,\n",
       "   'fitnessAgeDescription': None,\n",
       "   'maxMetCategory': 0},\n",
       "  'cycling': None,\n",
       "  'heatAltitudeAcclimation': {'calendarDate': '2025-07-17',\n",
       "   'altitudeAcclimationDate': '2025-07-17',\n",
       "   'previousAltitudeAcclimationDate': '2025-07-17',\n",
       "   'heatAcclimationDate': '2025-07-17',\n",
       "   'previousHeatAcclimationDate': '2025-07-17',\n",
       "   'altitudeAcclimation': 0,\n",
       "   'previousAltitudeAcclimation': 0,\n",
       "   'heatAcclimationPercentage': 0,\n",
       "   'previousHeatAcclimationPercentage': 0,\n",
       "   'heatTrend': None,\n",
       "   'altitudeTrend': None,\n",
       "   'currentAltitude': 0,\n",
       "   'previousAltitude': 0,\n",
       "   'acclimationPercentage': 0,\n",
       "   'previousAcclimationPercentage': 0,\n",
       "   'altitudeAcclimationLocalTimestamp': '2025-07-17T12:24:09.0'}}]"
      ]
     },
     "execution_count": 567,
     "metadata": {},
     "output_type": "execute_result"
    }
   ],
   "source": [
    "garmin.get_max_metrics(yesterday)"
   ]
  },
  {
   "cell_type": "code",
   "execution_count": 568,
   "metadata": {},
   "outputs": [
    {
     "data": {
      "text/plain": [
       "{'userId': 27447418,\n",
       " 'calendarDate': '2025-07-17',\n",
       " 'valueInML': 0.0,\n",
       " 'goalInML': 2449.0,\n",
       " 'dailyAverageinML': None,\n",
       " 'lastEntryTimestampLocal': '2025-07-17T11:50:16.0',\n",
       " 'sweatLossInML': 349.0,\n",
       " 'activityIntakeInML': 0.0}"
      ]
     },
     "execution_count": 568,
     "metadata": {},
     "output_type": "execute_result"
    }
   ],
   "source": [
    "garmin.get_hydration_data(yesterday)"
   ]
  },
  {
   "cell_type": "code",
   "execution_count": 569,
   "metadata": {},
   "outputs": [
    {
     "data": {
      "text/plain": [
       "dict_keys(['userProfilePK', 'calendarDate', 'startTimestampGMT', 'endTimestampGMT', 'startTimestampLocal', 'endTimestampLocal', 'sleepStartTimestampGMT', 'sleepEndTimestampGMT', 'sleepStartTimestampLocal', 'sleepEndTimestampLocal', 'tomorrowSleepStartTimestampGMT', 'tomorrowSleepEndTimestampGMT', 'tomorrowSleepStartTimestampLocal', 'tomorrowSleepEndTimestampLocal', 'lowestRespirationValue', 'highestRespirationValue', 'avgWakingRespirationValue', 'avgSleepRespirationValue', 'avgTomorrowSleepRespirationValue', 'respirationValueDescriptorsDTOList', 'respirationValuesArray', 'respirationAveragesValueDescriptorDTOList', 'respirationAveragesValuesArray', 'respirationVersion'])"
      ]
     },
     "execution_count": 569,
     "metadata": {},
     "output_type": "execute_result"
    }
   ],
   "source": [
    "garmin.get_respiration_data(yesterday).keys()"
   ]
  },
  {
   "cell_type": "code",
   "execution_count": 570,
   "metadata": {},
   "outputs": [
    {
     "data": {
      "text/plain": [
       "dict_keys(['userProfilePK', 'calendarDate', 'startTimestampGMT', 'endTimestampGMT', 'startTimestampLocal', 'endTimestampLocal', 'sleepStartTimestampGMT', 'sleepEndTimestampGMT', 'sleepStartTimestampLocal', 'sleepEndTimestampLocal', 'tomorrowSleepStartTimestampGMT', 'tomorrowSleepEndTimestampGMT', 'tomorrowSleepStartTimestampLocal', 'tomorrowSleepEndTimestampLocal', 'averageSpO2', 'lowestSpO2', 'lastSevenDaysAvgSpO2', 'latestSpO2', 'latestSpO2TimestampGMT', 'latestSpO2TimestampLocal', 'avgSleepSpO2', 'avgTomorrowSleepSpO2', 'spO2ValueDescriptorsDTOList', 'spO2SingleValues', 'continuousReadingDTOList', 'spO2HourlyAverages'])"
      ]
     },
     "execution_count": 570,
     "metadata": {},
     "output_type": "execute_result"
    }
   ],
   "source": [
    "garmin.get_spo2_data(yesterday).keys()"
   ]
  },
  {
   "cell_type": "code",
   "execution_count": 574,
   "metadata": {},
   "outputs": [],
   "source": [
    "records = garmin.get_personal_record()"
   ]
  },
  {
   "cell_type": "code",
   "execution_count": 587,
   "metadata": {},
   "outputs": [],
   "source": [
    "longest_run = [record for record in records if record['activityType'] == 'running' and record['typeId'] == 7]"
   ]
  },
  {
   "cell_type": "code",
   "execution_count": 590,
   "metadata": {},
   "outputs": [],
   "source": [
    "# typeId 1 - 1km record\n",
    "# typeID 7 - longest run\n",
    "# run_records[1], type ID 3, activity 2527638163\n",
    "# run_records[3], type ID 7 - my longest run!"
   ]
  },
  {
   "cell_type": "code",
   "execution_count": 600,
   "metadata": {},
   "outputs": [],
   "source": [
    "# length of longest run\n",
    "max_len = longest_run[0]['value']/1000"
   ]
  },
  {
   "cell_type": "code",
   "execution_count": 592,
   "metadata": {},
   "outputs": [],
   "source": [
    "# get a specific activity by its ID\n",
    "#garmin.get_activity(2527638163)"
   ]
  },
  {
   "cell_type": "markdown",
   "metadata": {},
   "source": [
    "## Get data of this year"
   ]
  },
  {
   "cell_type": "code",
   "execution_count": 6,
   "metadata": {},
   "outputs": [],
   "source": [
    "# get all my activities ever\n",
    "import datetime as dt\n",
    "today = date.today()\n",
    "year_start = dt.date(2015,1,1)\n",
    "activities = garmin.get_activities_by_date(year_start.isoformat(), today.isoformat())"
   ]
  },
  {
   "cell_type": "code",
   "execution_count": 7,
   "metadata": {},
   "outputs": [
    {
     "data": {
      "text/plain": [
       "919"
      ]
     },
     "execution_count": 7,
     "metadata": {},
     "output_type": "execute_result"
    }
   ],
   "source": [
    "len(activities)"
   ]
  },
  {
   "cell_type": "code",
   "execution_count": 129,
   "metadata": {},
   "outputs": [],
   "source": [
    "# activity from today\n",
    "todays_run = garmin.get_activities_by_date(today.isoformat(), today.isoformat())"
   ]
  },
  {
   "cell_type": "code",
   "execution_count": 131,
   "metadata": {},
   "outputs": [],
   "source": [
    "activities = activities + todays_run"
   ]
  },
  {
   "cell_type": "code",
   "execution_count": 73,
   "metadata": {},
   "outputs": [],
   "source": [
    "import json"
   ]
  },
  {
   "cell_type": "code",
   "execution_count": 9,
   "metadata": {},
   "outputs": [],
   "source": [
    "import datetime as dt\n",
    "import numpy as np\n",
    "import pandas as pd\n",
    "import spacy\n",
    "from pydantic import BaseModel, Field"
   ]
  },
  {
   "cell_type": "code",
   "execution_count": 132,
   "metadata": {},
   "outputs": [],
   "source": [
    "with open(\"garmin_data.json\", \"w\") as f:\n",
    "    json.dump(activities, f, indent=2)  # indent=2 → pretty print"
   ]
  },
  {
   "cell_type": "code",
   "execution_count": 133,
   "metadata": {},
   "outputs": [],
   "source": [
    "with open(\"garmin_data.json\", \"r\") as f:\n",
    "    activities = json.load(f)"
   ]
  },
  {
   "cell_type": "code",
   "execution_count": 134,
   "metadata": {},
   "outputs": [],
   "source": [
    "class ActivityType(BaseModel):\n",
    "     type_id: int = Field(alias=\"typeId\")\n",
    "     type_key: str = Field(alias=\"typeKey\")\n",
    "\n",
    "class GarminActivity(BaseModel):\n",
    "    activity_id: int = Field(alias=\"activityId\")\n",
    "    start_time: dt.datetime = Field(alias=\"startTimeLocal\")\n",
    "    duration: float\n",
    "    distance: float\n",
    "    activity_type: ActivityType = Field(alias=\"activityType\")\n",
    "    activity_name: str = Field(alias=\"activityName\", default = None) # sometimes the field is missing in the response\n",
    "    \n",
    "    class Config:\n",
    "        validate_by_name = True\n",
    "\n",
    "    @property\n",
    "    def distance_km(self) -> float:\n",
    "        return self.distance/1000.0\n",
    "\n",
    "    @property\n",
    "    def duration_min(self) -> float:\n",
    "        return self.duration/60.0\n",
    "\n",
    "    @property\n",
    "    def date(self) -> dt.date:\n",
    "        return self.start_time.date()\n",
    "\n",
    "    @property\n",
    "    def place(self) -> str:\n",
    "         places = {'berlin', 'cisternino', 'sarstedt', 'wittenberg', 'toulouse'}\n",
    "         words = self.activity_name.lower().replace(',','').split() # simple tokenization\n",
    "         match = list(set(words) & places)\n",
    "         return match[0].capitalize() if match else ''\n",
    "\n",
    "    def export(self) -> dict:\n",
    "        return {'id': self.activity_id,\n",
    "                'place': self.place,\n",
    "                'date': self.date,\n",
    "                'distance_km': self.distance_km,\n",
    "                'duration_min': self.duration_min}\n",
    "        "
   ]
  },
  {
   "cell_type": "code",
   "execution_count": 135,
   "metadata": {},
   "outputs": [],
   "source": [
    "all_activities = [GarminActivity(**activity) for activity in activities] "
   ]
  },
  {
   "cell_type": "code",
   "execution_count": 136,
   "metadata": {},
   "outputs": [],
   "source": [
    "all_runs = [x for x in all_activities if x.activity_type.type_key ==\"running\"]"
   ]
  },
  {
   "cell_type": "code",
   "execution_count": 137,
   "metadata": {},
   "outputs": [],
   "source": [
    "data = pd.DataFrame([GarminActivity.export(run) for run in all_runs])"
   ]
  },
  {
   "cell_type": "code",
   "execution_count": 138,
   "metadata": {},
   "outputs": [],
   "source": [
    "# next: aggregate the data per day! (sum up multiple runs per day)\n",
    "data = data.groupby('date').agg({'distance_km': 'sum', 'duration_min': 'sum', 'place': 'first'}).reset_index().copy()"
   ]
  },
  {
   "cell_type": "code",
   "execution_count": 139,
   "metadata": {},
   "outputs": [],
   "source": [
    "# ok, now we have all pieces for extracting the data that we want\n",
    "# we could also build an incremental pipeline (pull data from dates >= the max date in the table that we store)\n",
    "# in this case a txt file would suffice (ok, add that later!)"
   ]
  },
  {
   "cell_type": "code",
   "execution_count": 140,
   "metadata": {},
   "outputs": [],
   "source": [
    "# actually we need more! we have to fill in data from the whole year(s), indicating a zero value \n",
    "# for days without a run!\n",
    "import colorsys\n",
    "\n",
    "def date_range(date_from: dt.date, date_to: dt.date) -> list[dt.date]:\n",
    "    \"\"\"\n",
    "    Create list of dates from [date_from] to [date_to] including the\n",
    "    from and to dates.\n",
    "    \"\"\"\n",
    "    return [\n",
    "        date_from + dt.timedelta(days=i)\n",
    "        for i in range((date_to - date_from).days + 1)\n",
    "    ]\n",
    "def github_weekday(date: dt.date) -> int:\n",
    "    \"\"\"\n",
    "    return 0 for Sunday, 1 for Monday etc\n",
    "    \"\"\"\n",
    "    return date.isoweekday() % 7\n",
    "\n",
    "def week_of_year(date: dt.date, year: int) -> int:\n",
    "    \"\"\"\n",
    "    to do it right, we need to know what day the year in question starts with)\n",
    "    \"\"\"\n",
    "    # tm_yday provides the number of the day in the year\n",
    "    return (date.timetuple().tm_yday + github_weekday(dt.date(year,1,1)) - 1) // 7\n",
    "\n",
    "def hsl_to_hex(h, s, l):\n",
    "    \"\"\"Convert HSL (0-1) to HEX\"\"\"\n",
    "    r, g, b = colorsys.hls_to_rgb(h, l, s)  # NOTE: HLS order in Python!\n",
    "    return '#%02x%02x%02x' % (int(r*255), int(g*255), int(b*255))\n",
    "\n",
    "def custom_color_scale(num_colors: int, hue: int, saturation: float = 0.7) -> list:\n",
    "    # green = 120\n",
    "    hue = hue/360  \n",
    "\n",
    "    # Choose [num_colorss] lightness values evenly spaced\n",
    "    lightness_values = list(np.linspace(0.85, 0.15, num_colors))\n",
    "\n",
    "    color_scale = [hsl_to_hex(hue, saturation, l) for l in lightness_values]\n",
    "    return ['#f0f0f0'] + color_scale # including light gray as baseline color"
   ]
  },
  {
   "cell_type": "code",
   "execution_count": 141,
   "metadata": {},
   "outputs": [],
   "source": [
    "base = pd.DataFrame({'date': date_range(dt.date(2025,1,1), dt.date(2025,12,31))})"
   ]
  },
  {
   "cell_type": "code",
   "execution_count": 142,
   "metadata": {},
   "outputs": [],
   "source": [
    "data = pd.merge(base, data, on='date', how='left').fillna(0)"
   ]
  },
  {
   "cell_type": "code",
   "execution_count": 143,
   "metadata": {},
   "outputs": [
    {
     "data": {
      "text/html": [
       "<div>\n",
       "<style scoped>\n",
       "    .dataframe tbody tr th:only-of-type {\n",
       "        vertical-align: middle;\n",
       "    }\n",
       "\n",
       "    .dataframe tbody tr th {\n",
       "        vertical-align: top;\n",
       "    }\n",
       "\n",
       "    .dataframe thead th {\n",
       "        text-align: right;\n",
       "    }\n",
       "</style>\n",
       "<table border=\"1\" class=\"dataframe\">\n",
       "  <thead>\n",
       "    <tr style=\"text-align: right;\">\n",
       "      <th></th>\n",
       "      <th>date</th>\n",
       "      <th>distance_km</th>\n",
       "      <th>duration_min</th>\n",
       "      <th>place</th>\n",
       "    </tr>\n",
       "  </thead>\n",
       "  <tbody>\n",
       "    <tr>\n",
       "      <th>0</th>\n",
       "      <td>2025-01-01</td>\n",
       "      <td>0.00000</td>\n",
       "      <td>0.000000</td>\n",
       "      <td>0</td>\n",
       "    </tr>\n",
       "    <tr>\n",
       "      <th>1</th>\n",
       "      <td>2025-01-02</td>\n",
       "      <td>0.00000</td>\n",
       "      <td>0.000000</td>\n",
       "      <td>0</td>\n",
       "    </tr>\n",
       "    <tr>\n",
       "      <th>2</th>\n",
       "      <td>2025-01-03</td>\n",
       "      <td>0.00000</td>\n",
       "      <td>0.000000</td>\n",
       "      <td>0</td>\n",
       "    </tr>\n",
       "    <tr>\n",
       "      <th>3</th>\n",
       "      <td>2025-01-04</td>\n",
       "      <td>4.01524</td>\n",
       "      <td>29.859916</td>\n",
       "      <td>Berlin</td>\n",
       "    </tr>\n",
       "    <tr>\n",
       "      <th>4</th>\n",
       "      <td>2025-01-05</td>\n",
       "      <td>0.00000</td>\n",
       "      <td>0.000000</td>\n",
       "      <td>0</td>\n",
       "    </tr>\n",
       "    <tr>\n",
       "      <th>...</th>\n",
       "      <td>...</td>\n",
       "      <td>...</td>\n",
       "      <td>...</td>\n",
       "      <td>...</td>\n",
       "    </tr>\n",
       "    <tr>\n",
       "      <th>360</th>\n",
       "      <td>2025-12-27</td>\n",
       "      <td>0.00000</td>\n",
       "      <td>0.000000</td>\n",
       "      <td>0</td>\n",
       "    </tr>\n",
       "    <tr>\n",
       "      <th>361</th>\n",
       "      <td>2025-12-28</td>\n",
       "      <td>0.00000</td>\n",
       "      <td>0.000000</td>\n",
       "      <td>0</td>\n",
       "    </tr>\n",
       "    <tr>\n",
       "      <th>362</th>\n",
       "      <td>2025-12-29</td>\n",
       "      <td>0.00000</td>\n",
       "      <td>0.000000</td>\n",
       "      <td>0</td>\n",
       "    </tr>\n",
       "    <tr>\n",
       "      <th>363</th>\n",
       "      <td>2025-12-30</td>\n",
       "      <td>0.00000</td>\n",
       "      <td>0.000000</td>\n",
       "      <td>0</td>\n",
       "    </tr>\n",
       "    <tr>\n",
       "      <th>364</th>\n",
       "      <td>2025-12-31</td>\n",
       "      <td>0.00000</td>\n",
       "      <td>0.000000</td>\n",
       "      <td>0</td>\n",
       "    </tr>\n",
       "  </tbody>\n",
       "</table>\n",
       "<p>365 rows × 4 columns</p>\n",
       "</div>"
      ],
      "text/plain": [
       "           date  distance_km  duration_min   place\n",
       "0    2025-01-01      0.00000      0.000000       0\n",
       "1    2025-01-02      0.00000      0.000000       0\n",
       "2    2025-01-03      0.00000      0.000000       0\n",
       "3    2025-01-04      4.01524     29.859916  Berlin\n",
       "4    2025-01-05      0.00000      0.000000       0\n",
       "..          ...          ...           ...     ...\n",
       "360  2025-12-27      0.00000      0.000000       0\n",
       "361  2025-12-28      0.00000      0.000000       0\n",
       "362  2025-12-29      0.00000      0.000000       0\n",
       "363  2025-12-30      0.00000      0.000000       0\n",
       "364  2025-12-31      0.00000      0.000000       0\n",
       "\n",
       "[365 rows x 4 columns]"
      ]
     },
     "execution_count": 143,
     "metadata": {},
     "output_type": "execute_result"
    }
   ],
   "source": [
    "data"
   ]
  },
  {
   "cell_type": "code",
   "execution_count": 144,
   "metadata": {},
   "outputs": [
    {
     "data": {
      "text/plain": [
       "[0, 1, 2, 3, 4]"
      ]
     },
     "execution_count": 144,
     "metadata": {},
     "output_type": "execute_result"
    }
   ],
   "source": [
    "list(range(5))"
   ]
  },
  {
   "cell_type": "code",
   "execution_count": 145,
   "metadata": {},
   "outputs": [],
   "source": [
    "# add weekday and week for plotting stuff correctly\n",
    "# note that we cannot use the iso week of the year, because the last days in the year already belong to week 1 of the next year, \n",
    "# which gives us non-unique identifiers down the line\n",
    "data['github_weekday'] = data.date.apply(lambda x: github_weekday(x))\n",
    "data['calendar_week'] = data.date.apply(lambda x: week_of_year(x, 2025))\n",
    "#data[\"day\"] = new.date.apply(lambda x: x.strftime(\"%Y-%m-%d\"))\n",
    "#data['month'] = data.date.apply(lambda x: x.strftime(\"%b\"))\n",
    "data['distance_bin'] = pd.cut(data.distance_km.round(), bins=[-1, 0, 3, 5, 8, 100], # [-1, 0, 3, 5, 7, 9, 100] # rename this to distance_bin\n",
    "                        labels=[0, 1, 2, 3, 4])\n",
    "data['hover_label'] = data.apply(lambda row: f\"{np.round(row['distance_km'],3)} km <br> {row['date']} {'in ' + row['place'] if row['place'] != 0 else ''}\", axis=1)"
   ]
  },
  {
   "cell_type": "code",
   "execution_count": 146,
   "metadata": {},
   "outputs": [
    {
     "data": {
      "text/html": [
       "<div>\n",
       "<style scoped>\n",
       "    .dataframe tbody tr th:only-of-type {\n",
       "        vertical-align: middle;\n",
       "    }\n",
       "\n",
       "    .dataframe tbody tr th {\n",
       "        vertical-align: top;\n",
       "    }\n",
       "\n",
       "    .dataframe thead th {\n",
       "        text-align: right;\n",
       "    }\n",
       "</style>\n",
       "<table border=\"1\" class=\"dataframe\">\n",
       "  <thead>\n",
       "    <tr style=\"text-align: right;\">\n",
       "      <th></th>\n",
       "      <th>date</th>\n",
       "      <th>distance_km</th>\n",
       "      <th>duration_min</th>\n",
       "      <th>place</th>\n",
       "      <th>github_weekday</th>\n",
       "      <th>calendar_week</th>\n",
       "      <th>distance_bin</th>\n",
       "      <th>hover_label</th>\n",
       "    </tr>\n",
       "  </thead>\n",
       "  <tbody>\n",
       "    <tr>\n",
       "      <th>0</th>\n",
       "      <td>2025-01-01</td>\n",
       "      <td>0.00000</td>\n",
       "      <td>0.000000</td>\n",
       "      <td>0</td>\n",
       "      <td>3</td>\n",
       "      <td>0</td>\n",
       "      <td>0</td>\n",
       "      <td>0.0 km &lt;br&gt; 2025-01-01</td>\n",
       "    </tr>\n",
       "    <tr>\n",
       "      <th>1</th>\n",
       "      <td>2025-01-02</td>\n",
       "      <td>0.00000</td>\n",
       "      <td>0.000000</td>\n",
       "      <td>0</td>\n",
       "      <td>4</td>\n",
       "      <td>0</td>\n",
       "      <td>0</td>\n",
       "      <td>0.0 km &lt;br&gt; 2025-01-02</td>\n",
       "    </tr>\n",
       "    <tr>\n",
       "      <th>2</th>\n",
       "      <td>2025-01-03</td>\n",
       "      <td>0.00000</td>\n",
       "      <td>0.000000</td>\n",
       "      <td>0</td>\n",
       "      <td>5</td>\n",
       "      <td>0</td>\n",
       "      <td>0</td>\n",
       "      <td>0.0 km &lt;br&gt; 2025-01-03</td>\n",
       "    </tr>\n",
       "    <tr>\n",
       "      <th>3</th>\n",
       "      <td>2025-01-04</td>\n",
       "      <td>4.01524</td>\n",
       "      <td>29.859916</td>\n",
       "      <td>Berlin</td>\n",
       "      <td>6</td>\n",
       "      <td>0</td>\n",
       "      <td>2</td>\n",
       "      <td>4.015 km &lt;br&gt; 2025-01-04 in Berlin</td>\n",
       "    </tr>\n",
       "    <tr>\n",
       "      <th>4</th>\n",
       "      <td>2025-01-05</td>\n",
       "      <td>0.00000</td>\n",
       "      <td>0.000000</td>\n",
       "      <td>0</td>\n",
       "      <td>0</td>\n",
       "      <td>1</td>\n",
       "      <td>0</td>\n",
       "      <td>0.0 km &lt;br&gt; 2025-01-05</td>\n",
       "    </tr>\n",
       "  </tbody>\n",
       "</table>\n",
       "</div>"
      ],
      "text/plain": [
       "         date  distance_km  duration_min   place  github_weekday  \\\n",
       "0  2025-01-01      0.00000      0.000000       0               3   \n",
       "1  2025-01-02      0.00000      0.000000       0               4   \n",
       "2  2025-01-03      0.00000      0.000000       0               5   \n",
       "3  2025-01-04      4.01524     29.859916  Berlin               6   \n",
       "4  2025-01-05      0.00000      0.000000       0               0   \n",
       "\n",
       "   calendar_week distance_bin                         hover_label  \n",
       "0              0            0             0.0 km <br> 2025-01-01   \n",
       "1              0            0             0.0 km <br> 2025-01-02   \n",
       "2              0            0             0.0 km <br> 2025-01-03   \n",
       "3              0            2  4.015 km <br> 2025-01-04 in Berlin  \n",
       "4              1            0             0.0 km <br> 2025-01-05   "
      ]
     },
     "execution_count": 146,
     "metadata": {},
     "output_type": "execute_result"
    }
   ],
   "source": [
    "data.head()"
   ]
  },
  {
   "cell_type": "code",
   "execution_count": 147,
   "metadata": {},
   "outputs": [],
   "source": [
    "import plotly.express as px\n",
    "import plotly.graph_objects as go"
   ]
  },
  {
   "cell_type": "code",
   "execution_count": 148,
   "metadata": {},
   "outputs": [],
   "source": [
    "def week_labels_x(year: int) -> list[str]:\n",
    "    \"\"\"\n",
    "    Return labels for the weeks of the year in github style.\n",
    "    Only the first week of each month is labeled with the corresponding month name.\n",
    "    Returns [0, 5, 9, 13, ...], [\"Jan\", \"Feb\", \"Mar\", \"Apr\", ...]\n",
    "\n",
    "    there must be an easier way to do this, but I don't know yet.\n",
    "    \"\"\"\n",
    "    # date range for the year\n",
    "    base = pd.DataFrame(\n",
    "        {\"date\": date_range(dt.date(year, 1, 1), dt.date(year, 12, 31))}\n",
    "    )\n",
    "    base[\"month\"] = base.date.apply(lambda x: x.strftime(\"%b\"))\n",
    "    base[\"calendar_week\"] = base.date.apply(lambda x: week_of_year(x, 2025))\n",
    "    # count the days in every month_week\n",
    "    days_per_month_week = (\n",
    "        base.groupby([\"calendar_week\", \"month\"])\n",
    "        .size()\n",
    "        .reset_index(name=\"count_days\")\n",
    "        .sort_values([\"calendar_week\", \"count_days\"])\n",
    "    )\n",
    "    # every calendar week gets assigned only one month (the one that covers more days of that week)\n",
    "    dedup = days_per_month_week.drop_duplicates(subset=[\"calendar_week\"], keep=\"last\")[\n",
    "        [\"calendar_week\", \"month\"]\n",
    "    ]\n",
    "    # only one calendarweek per month (the first one in the month)\n",
    "    label_frame = dedup.drop_duplicates(subset=[\"month\"], keep=\"first\")\n",
    "    # return tickvals, ticktext\n",
    "    return {'tickvals': label_frame.calendar_week.to_list(), 'ticktext': label_frame.month.to_list()}\n",
    "\n",
    "def weekday_labels_y() -> list[str]:\n",
    "    \"\"\"\n",
    "    Return labels for the days of the week in github style\n",
    "    \"\"\"\n",
    "    return {'tickvals': list(range(7)), 'ticktext' : [\n",
    "        \"\",\n",
    "        \"Mon  \",\n",
    "        \"\",\n",
    "        \"Wed  \",\n",
    "        \"\",\n",
    "        \"Fri  \",\n",
    "        \"\",\n",
    "    ]}  # whitespaces for vertical alignment\n",
    "\n",
    "def color_scale_labels(num_colors):\n",
    "    # return tickvals, ticktext\n",
    "    lc = [''] * (num_colors)\n",
    "    lc[0] = 'less'\n",
    "    lc[-1] = 'more'\n",
    "    return {'tickvals': list(range(num_colors)), 'ticktext': lc}"
   ]
  },
  {
   "cell_type": "markdown",
   "metadata": {},
   "source": [
    "## Approach with Heatmap"
   ]
  },
  {
   "cell_type": "code",
   "execution_count": 149,
   "metadata": {},
   "outputs": [
    {
     "data": {
      "application/vnd.plotly.v1+json": {
       "config": {
        "plotlyServerURL": "https://plot.ly"
       },
       "data": [
        {
         "colorbar": {
          "ticktext": [
           "less",
           "",
           "",
           "",
           "more"
          ],
          "tickvals": [
           0,
           1,
           2,
           3,
           4
          ],
          "title": {
           "text": "km"
          }
         },
         "colorscale": [
          [
           0,
           "#f0f0f0"
          ],
          [
           0.2,
           "#f3bdd3"
          ],
          [
           0.4,
           "#e672a0"
          ],
          [
           0.6,
           "#d8266d"
          ],
          [
           0.8,
           "#8c1847"
          ],
          [
           1,
           "#410b20"
          ]
         ],
         "hoverongaps": false,
         "hovertemplate": " %{text}<br><extra></extra>",
         "text": [
          [
           "nan",
           "0.0 km <br> 2025-01-05 ",
           "0.0 km <br> 2025-01-12 ",
           "5.507 km <br> 2025-01-19 in Berlin",
           "0.0 km <br> 2025-01-26 ",
           "0.0 km <br> 2025-02-02 ",
           "0.0 km <br> 2025-02-09 ",
           "0.0 km <br> 2025-02-16 ",
           "3.013 km <br> 2025-02-23 in Berlin",
           "5.009 km <br> 2025-03-02 in Berlin",
           "0.0 km <br> 2025-03-09 ",
           "0.0 km <br> 2025-03-16 ",
           "0.0 km <br> 2025-03-23 ",
           "0.0 km <br> 2025-03-30 ",
           "5.513 km <br> 2025-04-06 in Berlin",
           "0.0 km <br> 2025-04-13 ",
           "0.0 km <br> 2025-04-20 ",
           "0.0 km <br> 2025-04-27 ",
           "0.0 km <br> 2025-05-04 ",
           "0.0 km <br> 2025-05-11 ",
           "0.0 km <br> 2025-05-18 ",
           "0.0 km <br> 2025-05-25 ",
           "0.0 km <br> 2025-06-01 ",
           "0.0 km <br> 2025-06-08 ",
           "0.0 km <br> 2025-06-15 ",
           "0.0 km <br> 2025-06-22 ",
           "0.0 km <br> 2025-06-29 ",
           "5.176 km <br> 2025-07-06 in Berlin",
           "0.0 km <br> 2025-07-13 ",
           "3.029 km <br> 2025-07-20 in Berlin",
           "0.0 km <br> 2025-07-27 ",
           "0.0 km <br> 2025-08-03 ",
           "0.0 km <br> 2025-08-10 ",
           "0.0 km <br> 2025-08-17 ",
           "0.0 km <br> 2025-08-24 ",
           "0.0 km <br> 2025-08-31 ",
           "0.0 km <br> 2025-09-07 ",
           "0.0 km <br> 2025-09-14 ",
           "0.0 km <br> 2025-09-21 ",
           "0.0 km <br> 2025-09-28 ",
           "0.0 km <br> 2025-10-05 ",
           "0.0 km <br> 2025-10-12 ",
           "0.0 km <br> 2025-10-19 ",
           "0.0 km <br> 2025-10-26 ",
           "0.0 km <br> 2025-11-02 ",
           "0.0 km <br> 2025-11-09 ",
           "0.0 km <br> 2025-11-16 ",
           "0.0 km <br> 2025-11-23 ",
           "0.0 km <br> 2025-11-30 ",
           "0.0 km <br> 2025-12-07 ",
           "0.0 km <br> 2025-12-14 ",
           "0.0 km <br> 2025-12-21 ",
           "0.0 km <br> 2025-12-28 "
          ],
          [
           "nan",
           "0.0 km <br> 2025-01-06 ",
           "0.0 km <br> 2025-01-13 ",
           "0.0 km <br> 2025-01-20 ",
           "5.003 km <br> 2025-01-27 in Berlin",
           "0.0 km <br> 2025-02-03 ",
           "0.0 km <br> 2025-02-10 ",
           "0.0 km <br> 2025-02-17 ",
           "0.0 km <br> 2025-02-24 ",
           "0.0 km <br> 2025-03-03 ",
           "3.011 km <br> 2025-03-10 in Berlin",
           "0.0 km <br> 2025-03-17 ",
           "0.0 km <br> 2025-03-24 ",
           "0.0 km <br> 2025-03-31 ",
           "0.0 km <br> 2025-04-07 ",
           "5.309 km <br> 2025-04-14 in Berlin",
           "0.0 km <br> 2025-04-21 ",
           "0.0 km <br> 2025-04-28 ",
           "0.0 km <br> 2025-05-05 ",
           "0.0 km <br> 2025-05-12 ",
           "0.0 km <br> 2025-05-19 ",
           "0.0 km <br> 2025-05-26 ",
           "0.0 km <br> 2025-06-02 ",
           "3.083 km <br> 2025-06-09 in Berlin",
           "0.0 km <br> 2025-06-16 ",
           "2.942 km <br> 2025-06-23 in Berlin",
           "0.0 km <br> 2025-06-30 ",
           "0.0 km <br> 2025-07-07 ",
           "0.0 km <br> 2025-07-14 ",
           "0.0 km <br> 2025-07-21 ",
           "0.0 km <br> 2025-07-28 ",
           "0.0 km <br> 2025-08-04 ",
           "0.0 km <br> 2025-08-11 ",
           "0.0 km <br> 2025-08-18 ",
           "0.0 km <br> 2025-08-25 ",
           "0.0 km <br> 2025-09-01 ",
           "0.0 km <br> 2025-09-08 ",
           "0.0 km <br> 2025-09-15 ",
           "0.0 km <br> 2025-09-22 ",
           "0.0 km <br> 2025-09-29 ",
           "0.0 km <br> 2025-10-06 ",
           "0.0 km <br> 2025-10-13 ",
           "0.0 km <br> 2025-10-20 ",
           "0.0 km <br> 2025-10-27 ",
           "0.0 km <br> 2025-11-03 ",
           "0.0 km <br> 2025-11-10 ",
           "0.0 km <br> 2025-11-17 ",
           "0.0 km <br> 2025-11-24 ",
           "0.0 km <br> 2025-12-01 ",
           "0.0 km <br> 2025-12-08 ",
           "0.0 km <br> 2025-12-15 ",
           "0.0 km <br> 2025-12-22 ",
           "0.0 km <br> 2025-12-29 "
          ],
          [
           "nan",
           "0.0 km <br> 2025-01-07 ",
           "2.772 km <br> 2025-01-14 in Berlin",
           "0.0 km <br> 2025-01-21 ",
           "0.0 km <br> 2025-01-28 ",
           "3.036 km <br> 2025-02-04 in Berlin",
           "4.059 km <br> 2025-02-11 in Berlin",
           "0.0 km <br> 2025-02-18 ",
           "2.758 km <br> 2025-02-25 in Berlin",
           "0.0 km <br> 2025-03-04 ",
           "0.0 km <br> 2025-03-11 ",
           "0.0 km <br> 2025-03-18 ",
           "0.0 km <br> 2025-03-25 ",
           "3.044 km <br> 2025-04-01 in Berlin",
           "0.0 km <br> 2025-04-08 ",
           "0.0 km <br> 2025-04-15 ",
           "0.0 km <br> 2025-04-22 ",
           "0.0 km <br> 2025-04-29 ",
           "0.0 km <br> 2025-05-06 ",
           "0.0 km <br> 2025-05-13 ",
           "0.0 km <br> 2025-05-20 ",
           "0.0 km <br> 2025-05-27 ",
           "0.0 km <br> 2025-06-03 ",
           "0.0 km <br> 2025-06-10 ",
           "0.0 km <br> 2025-06-17 ",
           "0.0 km <br> 2025-06-24 ",
           "0.0 km <br> 2025-07-01 ",
           "0.0 km <br> 2025-07-08 ",
           "7.015 km <br> 2025-07-15 in Berlin",
           "0.0 km <br> 2025-07-22 ",
           "0.0 km <br> 2025-07-29 ",
           "0.0 km <br> 2025-08-05 ",
           "0.0 km <br> 2025-08-12 ",
           "0.0 km <br> 2025-08-19 ",
           "0.0 km <br> 2025-08-26 ",
           "0.0 km <br> 2025-09-02 ",
           "0.0 km <br> 2025-09-09 ",
           "0.0 km <br> 2025-09-16 ",
           "0.0 km <br> 2025-09-23 ",
           "0.0 km <br> 2025-09-30 ",
           "0.0 km <br> 2025-10-07 ",
           "0.0 km <br> 2025-10-14 ",
           "0.0 km <br> 2025-10-21 ",
           "0.0 km <br> 2025-10-28 ",
           "0.0 km <br> 2025-11-04 ",
           "0.0 km <br> 2025-11-11 ",
           "0.0 km <br> 2025-11-18 ",
           "0.0 km <br> 2025-11-25 ",
           "0.0 km <br> 2025-12-02 ",
           "0.0 km <br> 2025-12-09 ",
           "0.0 km <br> 2025-12-16 ",
           "0.0 km <br> 2025-12-23 ",
           "0.0 km <br> 2025-12-30 "
          ],
          [
           "0.0 km <br> 2025-01-01 ",
           "2.67 km <br> 2025-01-08 in Berlin",
           "4.104 km <br> 2025-01-15 in Berlin",
           "0.0 km <br> 2025-01-22 ",
           "0.0 km <br> 2025-01-29 ",
           "0.0 km <br> 2025-02-05 ",
           "0.0 km <br> 2025-02-12 ",
           "0.0 km <br> 2025-02-19 ",
           "0.0 km <br> 2025-02-26 ",
           "0.0 km <br> 2025-03-05 ",
           "0.0 km <br> 2025-03-12 ",
           "0.0 km <br> 2025-03-19 ",
           "0.0 km <br> 2025-03-26 ",
           "0.0 km <br> 2025-04-02 ",
           "3.007 km <br> 2025-04-09 in Berlin",
           "0.0 km <br> 2025-04-16 ",
           "0.0 km <br> 2025-04-23 ",
           "0.0 km <br> 2025-04-30 ",
           "0.0 km <br> 2025-05-07 ",
           "0.0 km <br> 2025-05-14 ",
           "0.0 km <br> 2025-05-21 ",
           "0.0 km <br> 2025-05-28 ",
           "0.0 km <br> 2025-06-04 ",
           "0.0 km <br> 2025-06-11 ",
           "0.0 km <br> 2025-06-18 ",
           "0.0 km <br> 2025-06-25 ",
           "0.0 km <br> 2025-07-02 ",
           "0.0 km <br> 2025-07-09 ",
           "0.0 km <br> 2025-07-16 ",
           "0.0 km <br> 2025-07-23 ",
           "0.0 km <br> 2025-07-30 ",
           "0.0 km <br> 2025-08-06 ",
           "0.0 km <br> 2025-08-13 ",
           "0.0 km <br> 2025-08-20 ",
           "0.0 km <br> 2025-08-27 ",
           "0.0 km <br> 2025-09-03 ",
           "0.0 km <br> 2025-09-10 ",
           "0.0 km <br> 2025-09-17 ",
           "0.0 km <br> 2025-09-24 ",
           "0.0 km <br> 2025-10-01 ",
           "0.0 km <br> 2025-10-08 ",
           "0.0 km <br> 2025-10-15 ",
           "0.0 km <br> 2025-10-22 ",
           "0.0 km <br> 2025-10-29 ",
           "0.0 km <br> 2025-11-05 ",
           "0.0 km <br> 2025-11-12 ",
           "0.0 km <br> 2025-11-19 ",
           "0.0 km <br> 2025-11-26 ",
           "0.0 km <br> 2025-12-03 ",
           "0.0 km <br> 2025-12-10 ",
           "0.0 km <br> 2025-12-17 ",
           "0.0 km <br> 2025-12-24 ",
           "0.0 km <br> 2025-12-31 "
          ],
          [
           "0.0 km <br> 2025-01-02 ",
           "0.0 km <br> 2025-01-09 ",
           "0.0 km <br> 2025-01-16 ",
           "0.0 km <br> 2025-01-23 ",
           "0.0 km <br> 2025-01-30 ",
           "0.0 km <br> 2025-02-06 ",
           "0.0 km <br> 2025-02-13 ",
           "0.0 km <br> 2025-02-20 ",
           "0.0 km <br> 2025-02-27 ",
           "0.0 km <br> 2025-03-06 ",
           "0.0 km <br> 2025-03-13 ",
           "0.0 km <br> 2025-03-20 ",
           "0.0 km <br> 2025-03-27 ",
           "4.023 km <br> 2025-04-03 in Berlin",
           "0.0 km <br> 2025-04-10 ",
           "6.501 km <br> 2025-04-17 in Berlin",
           "0.0 km <br> 2025-04-24 ",
           "0.0 km <br> 2025-05-01 ",
           "0.0 km <br> 2025-05-08 ",
           "0.0 km <br> 2025-05-15 ",
           "0.0 km <br> 2025-05-22 ",
           "0.0 km <br> 2025-05-29 ",
           "0.0 km <br> 2025-06-05 ",
           "4.01 km <br> 2025-06-12 in Wittenberg",
           "0.0 km <br> 2025-06-19 ",
           "0.0 km <br> 2025-06-26 ",
           "0.0 km <br> 2025-07-03 ",
           "0.0 km <br> 2025-07-10 ",
           "4.015 km <br> 2025-07-17 in Berlin",
           "0.0 km <br> 2025-07-24 ",
           "0.0 km <br> 2025-07-31 ",
           "0.0 km <br> 2025-08-07 ",
           "0.0 km <br> 2025-08-14 ",
           "0.0 km <br> 2025-08-21 ",
           "0.0 km <br> 2025-08-28 ",
           "0.0 km <br> 2025-09-04 ",
           "0.0 km <br> 2025-09-11 ",
           "0.0 km <br> 2025-09-18 ",
           "0.0 km <br> 2025-09-25 ",
           "0.0 km <br> 2025-10-02 ",
           "0.0 km <br> 2025-10-09 ",
           "0.0 km <br> 2025-10-16 ",
           "0.0 km <br> 2025-10-23 ",
           "0.0 km <br> 2025-10-30 ",
           "0.0 km <br> 2025-11-06 ",
           "0.0 km <br> 2025-11-13 ",
           "0.0 km <br> 2025-11-20 ",
           "0.0 km <br> 2025-11-27 ",
           "0.0 km <br> 2025-12-04 ",
           "0.0 km <br> 2025-12-11 ",
           "0.0 km <br> 2025-12-18 ",
           "0.0 km <br> 2025-12-25 ",
           "nan"
          ],
          [
           "0.0 km <br> 2025-01-03 ",
           "3.872 km <br> 2025-01-10 in Berlin",
           "0.0 km <br> 2025-01-17 ",
           "0.0 km <br> 2025-01-24 ",
           "7.008 km <br> 2025-01-31 in Berlin",
           "3.012 km <br> 2025-02-07 in Berlin",
           "0.0 km <br> 2025-02-14 ",
           "0.0 km <br> 2025-02-21 ",
           "0.0 km <br> 2025-02-28 ",
           "5.086 km <br> 2025-03-07 in Berlin",
           "0.0 km <br> 2025-03-14 ",
           "0.0 km <br> 2025-03-21 ",
           "0.0 km <br> 2025-03-28 ",
           "0.0 km <br> 2025-04-04 ",
           "0.0 km <br> 2025-04-11 ",
           "0.0 km <br> 2025-04-18 ",
           "0.0 km <br> 2025-04-25 ",
           "0.0 km <br> 2025-05-02 ",
           "0.0 km <br> 2025-05-09 ",
           "0.0 km <br> 2025-05-16 ",
           "3.023 km <br> 2025-05-23 in Toulouse",
           "0.0 km <br> 2025-05-30 ",
           "0.0 km <br> 2025-06-06 ",
           "0.0 km <br> 2025-06-13 ",
           "5.015 km <br> 2025-06-20 in Berlin",
           "4.009 km <br> 2025-06-27 in Berlin",
           "6.023 km <br> 2025-07-04 in Berlin",
           "3.012 km <br> 2025-07-11 in Berlin",
           "0.0 km <br> 2025-07-18 ",
           "0.0 km <br> 2025-07-25 ",
           "0.0 km <br> 2025-08-01 ",
           "0.0 km <br> 2025-08-08 ",
           "0.0 km <br> 2025-08-15 ",
           "0.0 km <br> 2025-08-22 ",
           "0.0 km <br> 2025-08-29 ",
           "0.0 km <br> 2025-09-05 ",
           "0.0 km <br> 2025-09-12 ",
           "0.0 km <br> 2025-09-19 ",
           "0.0 km <br> 2025-09-26 ",
           "0.0 km <br> 2025-10-03 ",
           "0.0 km <br> 2025-10-10 ",
           "0.0 km <br> 2025-10-17 ",
           "0.0 km <br> 2025-10-24 ",
           "0.0 km <br> 2025-10-31 ",
           "0.0 km <br> 2025-11-07 ",
           "0.0 km <br> 2025-11-14 ",
           "0.0 km <br> 2025-11-21 ",
           "0.0 km <br> 2025-11-28 ",
           "0.0 km <br> 2025-12-05 ",
           "0.0 km <br> 2025-12-12 ",
           "0.0 km <br> 2025-12-19 ",
           "0.0 km <br> 2025-12-26 ",
           "nan"
          ],
          [
           "4.015 km <br> 2025-01-04 in Berlin",
           "0.0 km <br> 2025-01-11 ",
           "0.0 km <br> 2025-01-18 ",
           "0.0 km <br> 2025-01-25 ",
           "0.0 km <br> 2025-02-01 ",
           "0.0 km <br> 2025-02-08 ",
           "0.0 km <br> 2025-02-15 ",
           "0.0 km <br> 2025-02-22 ",
           "0.0 km <br> 2025-03-01 ",
           "0.0 km <br> 2025-03-08 ",
           "0.0 km <br> 2025-03-15 ",
           "0.0 km <br> 2025-03-22 ",
           "0.0 km <br> 2025-03-29 ",
           "0.0 km <br> 2025-04-05 ",
           "0.0 km <br> 2025-04-12 ",
           "0.0 km <br> 2025-04-19 ",
           "0.0 km <br> 2025-04-26 ",
           "0.0 km <br> 2025-05-03 ",
           "0.0 km <br> 2025-05-10 ",
           "0.0 km <br> 2025-05-17 ",
           "0.0 km <br> 2025-05-24 ",
           "0.0 km <br> 2025-05-31 ",
           "0.0 km <br> 2025-06-07 ",
           "0.0 km <br> 2025-06-14 ",
           "0.0 km <br> 2025-06-21 ",
           "0.0 km <br> 2025-06-28 ",
           "0.0 km <br> 2025-07-05 ",
           "0.0 km <br> 2025-07-12 ",
           "0.0 km <br> 2025-07-19 ",
           "0.0 km <br> 2025-07-26 ",
           "0.0 km <br> 2025-08-02 ",
           "0.0 km <br> 2025-08-09 ",
           "0.0 km <br> 2025-08-16 ",
           "0.0 km <br> 2025-08-23 ",
           "0.0 km <br> 2025-08-30 ",
           "0.0 km <br> 2025-09-06 ",
           "0.0 km <br> 2025-09-13 ",
           "0.0 km <br> 2025-09-20 ",
           "0.0 km <br> 2025-09-27 ",
           "0.0 km <br> 2025-10-04 ",
           "0.0 km <br> 2025-10-11 ",
           "0.0 km <br> 2025-10-18 ",
           "0.0 km <br> 2025-10-25 ",
           "0.0 km <br> 2025-11-01 ",
           "0.0 km <br> 2025-11-08 ",
           "0.0 km <br> 2025-11-15 ",
           "0.0 km <br> 2025-11-22 ",
           "0.0 km <br> 2025-11-29 ",
           "0.0 km <br> 2025-12-06 ",
           "0.0 km <br> 2025-12-13 ",
           "0.0 km <br> 2025-12-20 ",
           "0.0 km <br> 2025-12-27 ",
           "nan"
          ]
         ],
         "type": "heatmap",
         "x": {
          "bdata": "AAECAwQFBgcICQoLDA0ODxAREhMUFRYXGBkaGxwdHh8gISIjJCUmJygpKissLS4vMDEyMzQ=",
          "dtype": "i1"
         },
         "xgap": 2,
         "y": {
          "bdata": "AAECAwQFBg==",
          "dtype": "i1"
         },
         "ygap": 2,
         "z": [
          [
           null,
           0,
           0,
           3,
           0,
           0,
           0,
           0,
           1,
           2,
           0,
           0,
           0,
           0,
           3,
           0,
           0,
           0,
           0,
           0,
           0,
           0,
           0,
           0,
           0,
           0,
           0,
           2,
           0,
           1,
           0,
           0,
           0,
           0,
           0,
           0,
           0,
           0,
           0,
           0,
           0,
           0,
           0,
           0,
           0,
           0,
           0,
           0,
           0,
           0,
           0,
           0,
           0
          ],
          [
           null,
           0,
           0,
           0,
           2,
           0,
           0,
           0,
           0,
           0,
           1,
           0,
           0,
           0,
           0,
           2,
           0,
           0,
           0,
           0,
           0,
           0,
           0,
           1,
           0,
           1,
           0,
           0,
           0,
           0,
           0,
           0,
           0,
           0,
           0,
           0,
           0,
           0,
           0,
           0,
           0,
           0,
           0,
           0,
           0,
           0,
           0,
           0,
           0,
           0,
           0,
           0,
           0
          ],
          [
           null,
           0,
           1,
           0,
           0,
           1,
           2,
           0,
           1,
           0,
           0,
           0,
           0,
           1,
           0,
           0,
           0,
           0,
           0,
           0,
           0,
           0,
           0,
           0,
           0,
           0,
           0,
           0,
           3,
           0,
           0,
           0,
           0,
           0,
           0,
           0,
           0,
           0,
           0,
           0,
           0,
           0,
           0,
           0,
           0,
           0,
           0,
           0,
           0,
           0,
           0,
           0,
           0
          ],
          [
           0,
           1,
           2,
           0,
           0,
           0,
           0,
           0,
           0,
           0,
           0,
           0,
           0,
           0,
           1,
           0,
           0,
           0,
           0,
           0,
           0,
           0,
           0,
           0,
           0,
           0,
           0,
           0,
           0,
           0,
           0,
           0,
           0,
           0,
           0,
           0,
           0,
           0,
           0,
           0,
           0,
           0,
           0,
           0,
           0,
           0,
           0,
           0,
           0,
           0,
           0,
           0,
           0
          ],
          [
           0,
           0,
           0,
           0,
           0,
           0,
           0,
           0,
           0,
           0,
           0,
           0,
           0,
           2,
           0,
           3,
           0,
           0,
           0,
           0,
           0,
           0,
           0,
           2,
           0,
           0,
           0,
           0,
           2,
           0,
           0,
           0,
           0,
           0,
           0,
           0,
           0,
           0,
           0,
           0,
           0,
           0,
           0,
           0,
           0,
           0,
           0,
           0,
           0,
           0,
           0,
           0,
           null
          ],
          [
           0,
           2,
           0,
           0,
           3,
           1,
           0,
           0,
           0,
           2,
           0,
           0,
           0,
           0,
           0,
           0,
           0,
           0,
           0,
           0,
           1,
           0,
           0,
           0,
           2,
           2,
           3,
           1,
           0,
           0,
           0,
           0,
           0,
           0,
           0,
           0,
           0,
           0,
           0,
           0,
           0,
           0,
           0,
           0,
           0,
           0,
           0,
           0,
           0,
           0,
           0,
           0,
           null
          ],
          [
           2,
           0,
           0,
           0,
           0,
           0,
           0,
           0,
           0,
           0,
           0,
           0,
           0,
           0,
           0,
           0,
           0,
           0,
           0,
           0,
           0,
           0,
           0,
           0,
           0,
           0,
           0,
           0,
           0,
           0,
           0,
           0,
           0,
           0,
           0,
           0,
           0,
           0,
           0,
           0,
           0,
           0,
           0,
           0,
           0,
           0,
           0,
           0,
           0,
           0,
           0,
           0,
           null
          ]
         ],
         "zmax": 5,
         "zmin": 0
        }
       ],
       "layout": {
        "height": 300,
        "plot_bgcolor": "white",
        "template": {
         "data": {
          "bar": [
           {
            "error_x": {
             "color": "#2a3f5f"
            },
            "error_y": {
             "color": "#2a3f5f"
            },
            "marker": {
             "line": {
              "color": "#E5ECF6",
              "width": 0.5
             },
             "pattern": {
              "fillmode": "overlay",
              "size": 10,
              "solidity": 0.2
             }
            },
            "type": "bar"
           }
          ],
          "barpolar": [
           {
            "marker": {
             "line": {
              "color": "#E5ECF6",
              "width": 0.5
             },
             "pattern": {
              "fillmode": "overlay",
              "size": 10,
              "solidity": 0.2
             }
            },
            "type": "barpolar"
           }
          ],
          "carpet": [
           {
            "aaxis": {
             "endlinecolor": "#2a3f5f",
             "gridcolor": "white",
             "linecolor": "white",
             "minorgridcolor": "white",
             "startlinecolor": "#2a3f5f"
            },
            "baxis": {
             "endlinecolor": "#2a3f5f",
             "gridcolor": "white",
             "linecolor": "white",
             "minorgridcolor": "white",
             "startlinecolor": "#2a3f5f"
            },
            "type": "carpet"
           }
          ],
          "choropleth": [
           {
            "colorbar": {
             "outlinewidth": 0,
             "ticks": ""
            },
            "type": "choropleth"
           }
          ],
          "contour": [
           {
            "colorbar": {
             "outlinewidth": 0,
             "ticks": ""
            },
            "colorscale": [
             [
              0,
              "#0d0887"
             ],
             [
              0.1111111111111111,
              "#46039f"
             ],
             [
              0.2222222222222222,
              "#7201a8"
             ],
             [
              0.3333333333333333,
              "#9c179e"
             ],
             [
              0.4444444444444444,
              "#bd3786"
             ],
             [
              0.5555555555555556,
              "#d8576b"
             ],
             [
              0.6666666666666666,
              "#ed7953"
             ],
             [
              0.7777777777777778,
              "#fb9f3a"
             ],
             [
              0.8888888888888888,
              "#fdca26"
             ],
             [
              1,
              "#f0f921"
             ]
            ],
            "type": "contour"
           }
          ],
          "contourcarpet": [
           {
            "colorbar": {
             "outlinewidth": 0,
             "ticks": ""
            },
            "type": "contourcarpet"
           }
          ],
          "heatmap": [
           {
            "colorbar": {
             "outlinewidth": 0,
             "ticks": ""
            },
            "colorscale": [
             [
              0,
              "#0d0887"
             ],
             [
              0.1111111111111111,
              "#46039f"
             ],
             [
              0.2222222222222222,
              "#7201a8"
             ],
             [
              0.3333333333333333,
              "#9c179e"
             ],
             [
              0.4444444444444444,
              "#bd3786"
             ],
             [
              0.5555555555555556,
              "#d8576b"
             ],
             [
              0.6666666666666666,
              "#ed7953"
             ],
             [
              0.7777777777777778,
              "#fb9f3a"
             ],
             [
              0.8888888888888888,
              "#fdca26"
             ],
             [
              1,
              "#f0f921"
             ]
            ],
            "type": "heatmap"
           }
          ],
          "histogram": [
           {
            "marker": {
             "pattern": {
              "fillmode": "overlay",
              "size": 10,
              "solidity": 0.2
             }
            },
            "type": "histogram"
           }
          ],
          "histogram2d": [
           {
            "colorbar": {
             "outlinewidth": 0,
             "ticks": ""
            },
            "colorscale": [
             [
              0,
              "#0d0887"
             ],
             [
              0.1111111111111111,
              "#46039f"
             ],
             [
              0.2222222222222222,
              "#7201a8"
             ],
             [
              0.3333333333333333,
              "#9c179e"
             ],
             [
              0.4444444444444444,
              "#bd3786"
             ],
             [
              0.5555555555555556,
              "#d8576b"
             ],
             [
              0.6666666666666666,
              "#ed7953"
             ],
             [
              0.7777777777777778,
              "#fb9f3a"
             ],
             [
              0.8888888888888888,
              "#fdca26"
             ],
             [
              1,
              "#f0f921"
             ]
            ],
            "type": "histogram2d"
           }
          ],
          "histogram2dcontour": [
           {
            "colorbar": {
             "outlinewidth": 0,
             "ticks": ""
            },
            "colorscale": [
             [
              0,
              "#0d0887"
             ],
             [
              0.1111111111111111,
              "#46039f"
             ],
             [
              0.2222222222222222,
              "#7201a8"
             ],
             [
              0.3333333333333333,
              "#9c179e"
             ],
             [
              0.4444444444444444,
              "#bd3786"
             ],
             [
              0.5555555555555556,
              "#d8576b"
             ],
             [
              0.6666666666666666,
              "#ed7953"
             ],
             [
              0.7777777777777778,
              "#fb9f3a"
             ],
             [
              0.8888888888888888,
              "#fdca26"
             ],
             [
              1,
              "#f0f921"
             ]
            ],
            "type": "histogram2dcontour"
           }
          ],
          "mesh3d": [
           {
            "colorbar": {
             "outlinewidth": 0,
             "ticks": ""
            },
            "type": "mesh3d"
           }
          ],
          "parcoords": [
           {
            "line": {
             "colorbar": {
              "outlinewidth": 0,
              "ticks": ""
             }
            },
            "type": "parcoords"
           }
          ],
          "pie": [
           {
            "automargin": true,
            "type": "pie"
           }
          ],
          "scatter": [
           {
            "fillpattern": {
             "fillmode": "overlay",
             "size": 10,
             "solidity": 0.2
            },
            "type": "scatter"
           }
          ],
          "scatter3d": [
           {
            "line": {
             "colorbar": {
              "outlinewidth": 0,
              "ticks": ""
             }
            },
            "marker": {
             "colorbar": {
              "outlinewidth": 0,
              "ticks": ""
             }
            },
            "type": "scatter3d"
           }
          ],
          "scattercarpet": [
           {
            "marker": {
             "colorbar": {
              "outlinewidth": 0,
              "ticks": ""
             }
            },
            "type": "scattercarpet"
           }
          ],
          "scattergeo": [
           {
            "marker": {
             "colorbar": {
              "outlinewidth": 0,
              "ticks": ""
             }
            },
            "type": "scattergeo"
           }
          ],
          "scattergl": [
           {
            "marker": {
             "colorbar": {
              "outlinewidth": 0,
              "ticks": ""
             }
            },
            "type": "scattergl"
           }
          ],
          "scattermap": [
           {
            "marker": {
             "colorbar": {
              "outlinewidth": 0,
              "ticks": ""
             }
            },
            "type": "scattermap"
           }
          ],
          "scattermapbox": [
           {
            "marker": {
             "colorbar": {
              "outlinewidth": 0,
              "ticks": ""
             }
            },
            "type": "scattermapbox"
           }
          ],
          "scatterpolar": [
           {
            "marker": {
             "colorbar": {
              "outlinewidth": 0,
              "ticks": ""
             }
            },
            "type": "scatterpolar"
           }
          ],
          "scatterpolargl": [
           {
            "marker": {
             "colorbar": {
              "outlinewidth": 0,
              "ticks": ""
             }
            },
            "type": "scatterpolargl"
           }
          ],
          "scatterternary": [
           {
            "marker": {
             "colorbar": {
              "outlinewidth": 0,
              "ticks": ""
             }
            },
            "type": "scatterternary"
           }
          ],
          "surface": [
           {
            "colorbar": {
             "outlinewidth": 0,
             "ticks": ""
            },
            "colorscale": [
             [
              0,
              "#0d0887"
             ],
             [
              0.1111111111111111,
              "#46039f"
             ],
             [
              0.2222222222222222,
              "#7201a8"
             ],
             [
              0.3333333333333333,
              "#9c179e"
             ],
             [
              0.4444444444444444,
              "#bd3786"
             ],
             [
              0.5555555555555556,
              "#d8576b"
             ],
             [
              0.6666666666666666,
              "#ed7953"
             ],
             [
              0.7777777777777778,
              "#fb9f3a"
             ],
             [
              0.8888888888888888,
              "#fdca26"
             ],
             [
              1,
              "#f0f921"
             ]
            ],
            "type": "surface"
           }
          ],
          "table": [
           {
            "cells": {
             "fill": {
              "color": "#EBF0F8"
             },
             "line": {
              "color": "white"
             }
            },
            "header": {
             "fill": {
              "color": "#C8D4E3"
             },
             "line": {
              "color": "white"
             }
            },
            "type": "table"
           }
          ]
         },
         "layout": {
          "annotationdefaults": {
           "arrowcolor": "#2a3f5f",
           "arrowhead": 0,
           "arrowwidth": 1
          },
          "autotypenumbers": "strict",
          "coloraxis": {
           "colorbar": {
            "outlinewidth": 0,
            "ticks": ""
           }
          },
          "colorscale": {
           "diverging": [
            [
             0,
             "#8e0152"
            ],
            [
             0.1,
             "#c51b7d"
            ],
            [
             0.2,
             "#de77ae"
            ],
            [
             0.3,
             "#f1b6da"
            ],
            [
             0.4,
             "#fde0ef"
            ],
            [
             0.5,
             "#f7f7f7"
            ],
            [
             0.6,
             "#e6f5d0"
            ],
            [
             0.7,
             "#b8e186"
            ],
            [
             0.8,
             "#7fbc41"
            ],
            [
             0.9,
             "#4d9221"
            ],
            [
             1,
             "#276419"
            ]
           ],
           "sequential": [
            [
             0,
             "#0d0887"
            ],
            [
             0.1111111111111111,
             "#46039f"
            ],
            [
             0.2222222222222222,
             "#7201a8"
            ],
            [
             0.3333333333333333,
             "#9c179e"
            ],
            [
             0.4444444444444444,
             "#bd3786"
            ],
            [
             0.5555555555555556,
             "#d8576b"
            ],
            [
             0.6666666666666666,
             "#ed7953"
            ],
            [
             0.7777777777777778,
             "#fb9f3a"
            ],
            [
             0.8888888888888888,
             "#fdca26"
            ],
            [
             1,
             "#f0f921"
            ]
           ],
           "sequentialminus": [
            [
             0,
             "#0d0887"
            ],
            [
             0.1111111111111111,
             "#46039f"
            ],
            [
             0.2222222222222222,
             "#7201a8"
            ],
            [
             0.3333333333333333,
             "#9c179e"
            ],
            [
             0.4444444444444444,
             "#bd3786"
            ],
            [
             0.5555555555555556,
             "#d8576b"
            ],
            [
             0.6666666666666666,
             "#ed7953"
            ],
            [
             0.7777777777777778,
             "#fb9f3a"
            ],
            [
             0.8888888888888888,
             "#fdca26"
            ],
            [
             1,
             "#f0f921"
            ]
           ]
          },
          "colorway": [
           "#636efa",
           "#EF553B",
           "#00cc96",
           "#ab63fa",
           "#FFA15A",
           "#19d3f3",
           "#FF6692",
           "#B6E880",
           "#FF97FF",
           "#FECB52"
          ],
          "font": {
           "color": "#2a3f5f"
          },
          "geo": {
           "bgcolor": "white",
           "lakecolor": "white",
           "landcolor": "#E5ECF6",
           "showlakes": true,
           "showland": true,
           "subunitcolor": "white"
          },
          "hoverlabel": {
           "align": "left"
          },
          "hovermode": "closest",
          "mapbox": {
           "style": "light"
          },
          "paper_bgcolor": "white",
          "plot_bgcolor": "#E5ECF6",
          "polar": {
           "angularaxis": {
            "gridcolor": "white",
            "linecolor": "white",
            "ticks": ""
           },
           "bgcolor": "#E5ECF6",
           "radialaxis": {
            "gridcolor": "white",
            "linecolor": "white",
            "ticks": ""
           }
          },
          "scene": {
           "xaxis": {
            "backgroundcolor": "#E5ECF6",
            "gridcolor": "white",
            "gridwidth": 2,
            "linecolor": "white",
            "showbackground": true,
            "ticks": "",
            "zerolinecolor": "white"
           },
           "yaxis": {
            "backgroundcolor": "#E5ECF6",
            "gridcolor": "white",
            "gridwidth": 2,
            "linecolor": "white",
            "showbackground": true,
            "ticks": "",
            "zerolinecolor": "white"
           },
           "zaxis": {
            "backgroundcolor": "#E5ECF6",
            "gridcolor": "white",
            "gridwidth": 2,
            "linecolor": "white",
            "showbackground": true,
            "ticks": "",
            "zerolinecolor": "white"
           }
          },
          "shapedefaults": {
           "line": {
            "color": "#2a3f5f"
           }
          },
          "ternary": {
           "aaxis": {
            "gridcolor": "white",
            "linecolor": "white",
            "ticks": ""
           },
           "baxis": {
            "gridcolor": "white",
            "linecolor": "white",
            "ticks": ""
           },
           "bgcolor": "#E5ECF6",
           "caxis": {
            "gridcolor": "white",
            "linecolor": "white",
            "ticks": ""
           }
          },
          "title": {
           "x": 0.05
          },
          "xaxis": {
           "automargin": true,
           "gridcolor": "white",
           "linecolor": "white",
           "ticks": "",
           "title": {
            "standoff": 15
           },
           "zerolinecolor": "white",
           "zerolinewidth": 2
          },
          "yaxis": {
           "automargin": true,
           "gridcolor": "white",
           "linecolor": "white",
           "ticks": "",
           "title": {
            "standoff": 15
           },
           "zerolinecolor": "white",
           "zerolinewidth": 2
          }
         }
        },
        "title": {
         "text": "Running 2025"
        },
        "width": 1000,
        "xaxis": {
         "ticktext": [
          "Jan",
          "Feb",
          "Mar",
          "Apr",
          "May",
          "Jun",
          "Jul",
          "Aug",
          "Sep",
          "Oct",
          "Nov",
          "Dec"
         ],
         "tickvals": [
          0,
          5,
          9,
          13,
          18,
          22,
          26,
          31,
          35,
          39,
          44,
          48
         ]
        },
        "yaxis": {
         "autorange": "reversed",
         "range": [
          -0.5,
          6.5
         ],
         "scaleanchor": "x",
         "tickmode": "array",
         "ticktext": [
          "",
          "Mon  ",
          "",
          "Wed  ",
          "",
          "Fri  ",
          ""
         ],
         "tickvals": [
          0,
          1,
          2,
          3,
          4,
          5,
          6
         ]
        }
       }
      },
      "image/png": "[encoded data removed]"
     },
     "metadata": {},
     "output_type": "display_data"
    }
   ],
   "source": [
    "# bins\n",
    "bins = [-1, 0, 3, 5, 8, 100]\n",
    "num_colors = len(bins) - 1\n",
    "# for the values we want to show\n",
    "z_matrix = data.pivot(index=\"github_weekday\", columns=\"calendar_week\", values=\"distance_bin\")\n",
    "# for the date that we need for the labels when hovering\n",
    "label_matrix = data.pivot(index=\"github_weekday\", columns=\"calendar_week\", values=\"hover_label\")\n",
    "label_matrix_str = label_matrix.astype(str).values \n",
    "\n",
    "# number of green tones\n",
    "custom_colorscale = custom_color_scale(num_colors=num_colors, hue=336, saturation=0.7) # rosered :-) \n",
    "# labels for colorscale\n",
    "lc = color_scale_labels(num_colors)\n",
    "\n",
    "fig = go.Figure(go.Heatmap(\n",
    "    z=z_matrix.values,                   # 2D data matrix\n",
    "    x=z_matrix.columns,                  # weeks on x-axis\n",
    "    y=z_matrix.index,    \n",
    "    zmax = num_colors,\n",
    "    zmin = 0,\n",
    "    colorscale=custom_colorscale,\n",
    "    xgap=2, ygap=2,                      # add spacing between cells\n",
    "    colorbar = dict(\n",
    "        title= \"km\",           # ✅ Title of the legend\n",
    "        **color_scale_labels(num_colors)\n",
    "    ),\n",
    "    hoverongaps=False,\n",
    "    text=label_matrix_str,    \n",
    "    hovertemplate=(\" %{text}<br>\" +          # use the date string here\n",
    "                   \"<extra></extra>\"  # hides trace name box\n",
    ")))\n",
    "\n",
    "# Make cells square\n",
    "fig.update_yaxes(\n",
    "    scaleanchor=\"x\",     # enforce square aspect ratio\n",
    "    autorange='reversed', # reverse to match GitHub style\n",
    "    tickmode=\"array\",\n",
    "    range=[-0.5, 6.5],                    \n",
    "    **weekday_labels_y()\n",
    ")\n",
    "\n",
    "fig.update_xaxes(\n",
    "    **week_labels_x(2025)\n",
    ")\n",
    "\n",
    "fig.update_layout(\n",
    "    plot_bgcolor='white',  \n",
    "    width = 1000,\n",
    "    height = 300,\n",
    "    title = \"Running 2025\"\n",
    ")\n",
    "\n",
    "fig.show()"
   ]
  },
  {
   "cell_type": "markdown",
   "metadata": {},
   "source": [
    "## Lets work on a good binning for our color scale!\n"
   ]
  },
  {
   "cell_type": "code",
   "execution_count": 605,
   "metadata": {},
   "outputs": [
    {
     "data": {
      "text/html": [
       "<div>\n",
       "<style scoped>\n",
       "    .dataframe tbody tr th:only-of-type {\n",
       "        vertical-align: middle;\n",
       "    }\n",
       "\n",
       "    .dataframe tbody tr th {\n",
       "        vertical-align: top;\n",
       "    }\n",
       "\n",
       "    .dataframe thead th {\n",
       "        text-align: right;\n",
       "    }\n",
       "</style>\n",
       "<table border=\"1\" class=\"dataframe\">\n",
       "  <thead>\n",
       "    <tr style=\"text-align: right;\">\n",
       "      <th></th>\n",
       "      <th>date</th>\n",
       "      <th>distance_km</th>\n",
       "      <th>duration_min</th>\n",
       "    </tr>\n",
       "  </thead>\n",
       "  <tbody>\n",
       "    <tr>\n",
       "      <th>0</th>\n",
       "      <td>2025-01-04</td>\n",
       "      <td>4.01524</td>\n",
       "      <td>29.859916</td>\n",
       "    </tr>\n",
       "    <tr>\n",
       "      <th>1</th>\n",
       "      <td>2025-01-08</td>\n",
       "      <td>2.66962</td>\n",
       "      <td>20.064484</td>\n",
       "    </tr>\n",
       "    <tr>\n",
       "      <th>2</th>\n",
       "      <td>2025-01-10</td>\n",
       "      <td>3.87244</td>\n",
       "      <td>30.039583</td>\n",
       "    </tr>\n",
       "    <tr>\n",
       "      <th>3</th>\n",
       "      <td>2025-01-14</td>\n",
       "      <td>2.77210</td>\n",
       "      <td>21.297249</td>\n",
       "    </tr>\n",
       "    <tr>\n",
       "      <th>4</th>\n",
       "      <td>2025-01-15</td>\n",
       "      <td>4.10387</td>\n",
       "      <td>30.036932</td>\n",
       "    </tr>\n",
       "  </tbody>\n",
       "</table>\n",
       "</div>"
      ],
      "text/plain": [
       "         date  distance_km  duration_min\n",
       "0  2025-01-04      4.01524     29.859916\n",
       "1  2025-01-08      2.66962     20.064484\n",
       "2  2025-01-10      3.87244     30.039583\n",
       "3  2025-01-14      2.77210     21.297249\n",
       "4  2025-01-15      4.10387     30.036932"
      ]
     },
     "execution_count": 605,
     "metadata": {},
     "output_type": "execute_result"
    }
   ],
   "source": [
    "run_df.head()"
   ]
  },
  {
   "cell_type": "code",
   "execution_count": 609,
   "metadata": {},
   "outputs": [],
   "source": [
    "import seaborn as sns\n",
    "import matplotlib.pyplot as plt"
   ]
  },
  {
   "cell_type": "code",
   "execution_count": 632,
   "metadata": {},
   "outputs": [
    {
     "data": {
      "image/png": "[encoded data removed]",
      "text/plain": [
       "<Figure size 640x480 with 1 Axes>"
      ]
     },
     "metadata": {},
     "output_type": "display_data"
    }
   ],
   "source": [
    "sns.histplot(run_df, x='distance_km', bins=20, kde=True, color=\"skyblue\")\n",
    "plt.show()"
   ]
  },
  {
   "cell_type": "code",
   "execution_count": 635,
   "metadata": {},
   "outputs": [
    {
     "data": {
      "text/plain": [
       "distance_km\n",
       "2.0     315\n",
       "3.0     200\n",
       "4.0      96\n",
       "5.0      50\n",
       "6.0      29\n",
       "7.0      15\n",
       "1.0      14\n",
       "8.0       8\n",
       "10.0      8\n",
       "9.0       3\n",
       "0.0       2\n",
       "12.0      2\n",
       "Name: count, dtype: int64"
      ]
     },
     "execution_count": 635,
     "metadata": {},
     "output_type": "execute_result"
    }
   ],
   "source": [
    "run_df.distance_km.round().value_counts()"
   ]
  },
  {
   "cell_type": "code",
   "execution_count": 636,
   "metadata": {},
   "outputs": [],
   "source": [
    "# 5 bins auswaehlen\n",
    "# bin 1: bis 3k (gerundet natuerlich)\n",
    "# bin 2: bis 5k\n",
    "# bin 3: bis 7k\n",
    "# bin 4: bis 9k\n",
    "# bin 5: ab 10k"
   ]
  },
  {
   "cell_type": "code",
   "execution_count": 284,
   "metadata": {},
   "outputs": [],
   "source": [
    "# do we want a way to filter for a particular year?"
   ]
  },
  {
   "cell_type": "markdown",
   "metadata": {},
   "source": [
    "# start simple: just publish the chart \n",
    "- simply create an html file and then show it on github pages\n",
    "- code design: what do we want to do?\n",
    "  1. pull the data from Garmin (all data or incremental?) - mock this for now\n",
    "  2. process the data into correct format for plotting\n",
    "  3. plot and create html - DONE "
   ]
  },
  {
   "cell_type": "code",
   "execution_count": null,
   "metadata": {},
   "outputs": [],
   "source": []
  }
 ],
 "metadata": {
  "kernelspec": {
   "display_name": "Python 3 (ipykernel)",
   "language": "python",
   "name": "python3"
  },
  "language_info": {
   "codemirror_mode": {
    "name": "ipython",
    "version": 3
   },
   "file_extension": ".py",
   "mimetype": "text/x-python",
   "name": "python",
   "nbconvert_exporter": "python",
   "pygments_lexer": "ipython3",
   "version": "3.12.11"
  }
 },
 "nbformat": 4,
 "nbformat_minor": 4
}
