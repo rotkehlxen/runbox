{
 "cells": [
  {
   "cell_type": "markdown",
   "metadata": {},
   "source": [
    "# Garth Migration"
   ]
  },
  {
   "cell_type": "code",
   "execution_count": 6,
   "metadata": {},
   "outputs": [],
   "source": [
    "import garminconnect"
   ]
  },
  {
   "cell_type": "markdown",
   "metadata": {},
   "source": [
    "## Login"
   ]
  },
  {
   "cell_type": "markdown",
   "metadata": {},
   "source": [
    "Request email and password.  If MFA is enabled, Garth will request it."
   ]
  },
  {
   "cell_type": "code",
   "execution_count": 8,
   "metadata": {},
   "outputs": [
    {
     "name": "stdin",
     "output_type": "stream",
     "text": [
      "Enter email address:  franziska.witzel@gmail.com\n",
      "Enter password:  ········\n"
     ]
    },
    {
     "data": {
      "text/plain": [
       "'franzlaeuft'"
      ]
     },
     "execution_count": 8,
     "metadata": {},
     "output_type": "execute_result"
    }
   ],
   "source": [
    "from getpass import getpass\n",
    "\n",
    "email = input(\"Enter email address: \")\n",
    "password = getpass(\"Enter password: \")\n",
    "\n",
    "garmin = garminconnect.Garmin(email, password)\n",
    "garmin.login()\n",
    "\n",
    "garmin.display_name"
   ]
  },
  {
   "cell_type": "markdown",
   "metadata": {},
   "source": [
    "Save session"
   ]
  },
  {
   "cell_type": "code",
   "execution_count": 9,
   "metadata": {},
   "outputs": [],
   "source": [
    "import os\n",
    "\n",
    "GARTH_HOME = os.getenv(\"GARTH_HOME\", \"~/.garth\")\n",
    "garmin.garth.dump(GARTH_HOME)\n",
    "\n",
    "# after running this cell, I have a folder .garth in my home directory and it \n",
    "# contains two authentication tokens (their content is quite different also), one of the files contains expiration \n",
    "# timestamps and such (and a refresh token as well)"
   ]
  },
  {
   "cell_type": "markdown",
   "metadata": {},
   "source": [
    "## Get Connect stats"
   ]
  },
  {
   "cell_type": "code",
   "execution_count": 10,
   "metadata": {},
   "outputs": [
    {
     "data": {
      "text/plain": [
       "'2025-07-17'"
      ]
     },
     "execution_count": 10,
     "metadata": {},
     "output_type": "execute_result"
    }
   ],
   "source": [
    "from datetime import date, timedelta\n",
    "\n",
    "yesterday = date.today() - timedelta(days=1)\n",
    "yesterday = yesterday.isoformat()\n",
    "yesterday"
   ]
  },
  {
   "cell_type": "code",
   "execution_count": 11,
   "metadata": {},
   "outputs": [
    {
     "data": {
      "text/plain": [
       "dict_keys(['userProfileId', 'totalKilocalories', 'activeKilocalories', 'bmrKilocalories', 'wellnessKilocalories', 'burnedKilocalories', 'consumedKilocalories', 'remainingKilocalories', 'totalSteps', 'netCalorieGoal', 'totalDistanceMeters', 'wellnessDistanceMeters', 'wellnessActiveKilocalories', 'netRemainingKilocalories', 'userDailySummaryId', 'calendarDate', 'rule', 'uuid', 'dailyStepGoal', 'wellnessStartTimeGmt', 'wellnessStartTimeLocal', 'wellnessEndTimeGmt', 'wellnessEndTimeLocal', 'durationInMilliseconds', 'wellnessDescription', 'highlyActiveSeconds', 'activeSeconds', 'sedentarySeconds', 'sleepingSeconds', 'includesWellnessData', 'includesActivityData', 'includesCalorieConsumedData', 'privacyProtected', 'moderateIntensityMinutes', 'vigorousIntensityMinutes', 'floorsAscendedInMeters', 'floorsDescendedInMeters', 'floorsAscended', 'floorsDescended', 'intensityMinutesGoal', 'userFloorsAscendedGoal', 'minHeartRate', 'maxHeartRate', 'restingHeartRate', 'lastSevenDaysAvgRestingHeartRate', 'source', 'averageStressLevel', 'maxStressLevel', 'stressDuration', 'restStressDuration', 'activityStressDuration', 'uncategorizedStressDuration', 'totalStressDuration', 'lowStressDuration', 'mediumStressDuration', 'highStressDuration', 'stressPercentage', 'restStressPercentage', 'activityStressPercentage', 'uncategorizedStressPercentage', 'lowStressPercentage', 'mediumStressPercentage', 'highStressPercentage', 'stressQualifier', 'measurableAwakeDuration', 'measurableAsleepDuration', 'lastSyncTimestampGMT', 'minAvgHeartRate', 'maxAvgHeartRate', 'bodyBatteryChargedValue', 'bodyBatteryDrainedValue', 'bodyBatteryHighestValue', 'bodyBatteryLowestValue', 'bodyBatteryMostRecentValue', 'bodyBatteryDuringSleep', 'bodyBatteryAtWakeTime', 'bodyBatteryVersion', 'abnormalHeartRateAlertsCount', 'averageSpo2', 'lowestSpo2', 'latestSpo2', 'latestSpo2ReadingTimeGmt', 'latestSpo2ReadingTimeLocal', 'averageMonitoringEnvironmentAltitude', 'restingCaloriesFromActivity', 'bodyBatteryDynamicFeedbackEvent', 'bodyBatteryActivityEventList', 'avgWakingRespirationValue', 'highestRespirationValue', 'lowestRespirationValue', 'latestRespirationValue', 'latestRespirationTimeGMT', 'respirationAlgorithmVersion'])"
      ]
     },
     "execution_count": 11,
     "metadata": {},
     "output_type": "execute_result"
    }
   ],
   "source": [
    "garmin.get_stats(yesterday).keys()"
   ]
  },
  {
   "cell_type": "code",
   "execution_count": 558,
   "metadata": {},
   "outputs": [
    {
     "data": {
      "text/plain": [
       "dict_keys(['userProfileId', 'totalKilocalories', 'activeKilocalories', 'bmrKilocalories', 'wellnessKilocalories', 'burnedKilocalories', 'consumedKilocalories', 'remainingKilocalories', 'totalSteps', 'netCalorieGoal', 'totalDistanceMeters', 'wellnessDistanceMeters', 'wellnessActiveKilocalories', 'netRemainingKilocalories', 'userDailySummaryId', 'calendarDate', 'rule', 'uuid', 'dailyStepGoal', 'wellnessStartTimeGmt', 'wellnessStartTimeLocal', 'wellnessEndTimeGmt', 'wellnessEndTimeLocal', 'durationInMilliseconds', 'wellnessDescription', 'highlyActiveSeconds', 'activeSeconds', 'sedentarySeconds', 'sleepingSeconds', 'includesWellnessData', 'includesActivityData', 'includesCalorieConsumedData', 'privacyProtected', 'moderateIntensityMinutes', 'vigorousIntensityMinutes', 'floorsAscendedInMeters', 'floorsDescendedInMeters', 'floorsAscended', 'floorsDescended', 'intensityMinutesGoal', 'userFloorsAscendedGoal', 'minHeartRate', 'maxHeartRate', 'restingHeartRate', 'lastSevenDaysAvgRestingHeartRate', 'source', 'averageStressLevel', 'maxStressLevel', 'stressDuration', 'restStressDuration', 'activityStressDuration', 'uncategorizedStressDuration', 'totalStressDuration', 'lowStressDuration', 'mediumStressDuration', 'highStressDuration', 'stressPercentage', 'restStressPercentage', 'activityStressPercentage', 'uncategorizedStressPercentage', 'lowStressPercentage', 'mediumStressPercentage', 'highStressPercentage', 'stressQualifier', 'measurableAwakeDuration', 'measurableAsleepDuration', 'lastSyncTimestampGMT', 'minAvgHeartRate', 'maxAvgHeartRate', 'bodyBatteryChargedValue', 'bodyBatteryDrainedValue', 'bodyBatteryHighestValue', 'bodyBatteryLowestValue', 'bodyBatteryMostRecentValue', 'bodyBatteryDuringSleep', 'bodyBatteryAtWakeTime', 'bodyBatteryVersion', 'abnormalHeartRateAlertsCount', 'averageSpo2', 'lowestSpo2', 'latestSpo2', 'latestSpo2ReadingTimeGmt', 'latestSpo2ReadingTimeLocal', 'averageMonitoringEnvironmentAltitude', 'restingCaloriesFromActivity', 'bodyBatteryDynamicFeedbackEvent', 'bodyBatteryActivityEventList', 'avgWakingRespirationValue', 'highestRespirationValue', 'lowestRespirationValue', 'latestRespirationValue', 'latestRespirationTimeGMT', 'respirationAlgorithmVersion'])"
      ]
     },
     "execution_count": 558,
     "metadata": {},
     "output_type": "execute_result"
    }
   ],
   "source": [
    "garmin.get_user_summary(yesterday).keys()"
   ]
  },
  {
   "cell_type": "code",
   "execution_count": 559,
   "metadata": {},
   "outputs": [
    {
     "data": {
      "text/plain": [
       "[{'startGMT': '2025-07-16T22:00:00.0',\n",
       "  'endGMT': '2025-07-16T22:15:00.0',\n",
       "  'steps': 0,\n",
       "  'pushes': 0,\n",
       "  'primaryActivityLevel': 'sedentary',\n",
       "  'activityLevelConstant': True},\n",
       " {'startGMT': '2025-07-16T22:15:00.0',\n",
       "  'endGMT': '2025-07-16T22:30:00.0',\n",
       "  'steps': 0,\n",
       "  'pushes': 0,\n",
       "  'primaryActivityLevel': 'sedentary',\n",
       "  'activityLevelConstant': True}]"
      ]
     },
     "execution_count": 559,
     "metadata": {},
     "output_type": "execute_result"
    }
   ],
   "source": [
    "garmin.get_steps_data(yesterday)[:2]"
   ]
  },
  {
   "cell_type": "code",
   "execution_count": 560,
   "metadata": {},
   "outputs": [
    {
     "data": {
      "text/plain": [
       "dict_keys(['startTimestampGMT', 'endTimestampGMT', 'startTimestampLocal', 'endTimestampLocal', 'floorsValueDescriptorDTOList', 'floorValuesArray'])"
      ]
     },
     "execution_count": 560,
     "metadata": {},
     "output_type": "execute_result"
    }
   ],
   "source": [
    "garmin.get_floors(yesterday).keys()"
   ]
  },
  {
   "cell_type": "code",
   "execution_count": 561,
   "metadata": {},
   "outputs": [
    {
     "data": {
      "text/plain": [
       "[{'calendarDate': '2025-07-17',\n",
       "  'totalSteps': 5536,\n",
       "  'totalDistance': 4505,\n",
       "  'stepGoal': 6600}]"
      ]
     },
     "execution_count": 561,
     "metadata": {},
     "output_type": "execute_result"
    }
   ],
   "source": [
    "garmin.get_daily_steps(yesterday, yesterday)"
   ]
  },
  {
   "cell_type": "code",
   "execution_count": 562,
   "metadata": {},
   "outputs": [
    {
     "data": {
      "text/plain": [
       "dict_keys(['userProfilePK', 'calendarDate', 'startTimestampGMT', 'endTimestampGMT', 'startTimestampLocal', 'endTimestampLocal', 'maxHeartRate', 'minHeartRate', 'restingHeartRate', 'lastSevenDaysAvgRestingHeartRate', 'heartRateValueDescriptors', 'heartRateValues'])"
      ]
     },
     "execution_count": 562,
     "metadata": {},
     "output_type": "execute_result"
    }
   ],
   "source": [
    "garmin.get_heart_rates(yesterday).keys()"
   ]
  },
  {
   "cell_type": "code",
   "execution_count": 563,
   "metadata": {},
   "outputs": [
    {
     "data": {
      "text/plain": [
       "dict_keys(['userProfileId', 'totalKilocalories', 'activeKilocalories', 'bmrKilocalories', 'wellnessKilocalories', 'burnedKilocalories', 'consumedKilocalories', 'remainingKilocalories', 'totalSteps', 'netCalorieGoal', 'totalDistanceMeters', 'wellnessDistanceMeters', 'wellnessActiveKilocalories', 'netRemainingKilocalories', 'userDailySummaryId', 'calendarDate', 'rule', 'uuid', 'dailyStepGoal', 'wellnessStartTimeGmt', 'wellnessStartTimeLocal', 'wellnessEndTimeGmt', 'wellnessEndTimeLocal', 'durationInMilliseconds', 'wellnessDescription', 'highlyActiveSeconds', 'activeSeconds', 'sedentarySeconds', 'sleepingSeconds', 'includesWellnessData', 'includesActivityData', 'includesCalorieConsumedData', 'privacyProtected', 'moderateIntensityMinutes', 'vigorousIntensityMinutes', 'floorsAscendedInMeters', 'floorsDescendedInMeters', 'floorsAscended', 'floorsDescended', 'intensityMinutesGoal', 'userFloorsAscendedGoal', 'minHeartRate', 'maxHeartRate', 'restingHeartRate', 'lastSevenDaysAvgRestingHeartRate', 'source', 'averageStressLevel', 'maxStressLevel', 'stressDuration', 'restStressDuration', 'activityStressDuration', 'uncategorizedStressDuration', 'totalStressDuration', 'lowStressDuration', 'mediumStressDuration', 'highStressDuration', 'stressPercentage', 'restStressPercentage', 'activityStressPercentage', 'uncategorizedStressPercentage', 'lowStressPercentage', 'mediumStressPercentage', 'highStressPercentage', 'stressQualifier', 'measurableAwakeDuration', 'measurableAsleepDuration', 'lastSyncTimestampGMT', 'minAvgHeartRate', 'maxAvgHeartRate', 'bodyBatteryChargedValue', 'bodyBatteryDrainedValue', 'bodyBatteryHighestValue', 'bodyBatteryLowestValue', 'bodyBatteryMostRecentValue', 'bodyBatteryDuringSleep', 'bodyBatteryAtWakeTime', 'bodyBatteryVersion', 'abnormalHeartRateAlertsCount', 'averageSpo2', 'lowestSpo2', 'latestSpo2', 'latestSpo2ReadingTimeGmt', 'latestSpo2ReadingTimeLocal', 'averageMonitoringEnvironmentAltitude', 'restingCaloriesFromActivity', 'bodyBatteryDynamicFeedbackEvent', 'bodyBatteryActivityEventList', 'avgWakingRespirationValue', 'highestRespirationValue', 'lowestRespirationValue', 'latestRespirationValue', 'latestRespirationTimeGMT', 'respirationAlgorithmVersion', 'from', 'until', 'weight', 'bmi', 'bodyFat', 'bodyWater', 'boneMass', 'muscleMass', 'physiqueRating', 'visceralFat', 'metabolicAge'])"
      ]
     },
     "execution_count": 563,
     "metadata": {},
     "output_type": "execute_result"
    }
   ],
   "source": [
    "garmin.get_stats_and_body(yesterday).keys()"
   ]
  },
  {
   "cell_type": "code",
   "execution_count": 564,
   "metadata": {},
   "outputs": [
    {
     "data": {
      "text/plain": [
       "{'startDate': '2025-07-17',\n",
       " 'endDate': '2025-07-17',\n",
       " 'dateWeightList': [],\n",
       " 'totalAverage': {'from': 1752710400000,\n",
       "  'until': 1752796799999,\n",
       "  'weight': None,\n",
       "  'bmi': None,\n",
       "  'bodyFat': None,\n",
       "  'bodyWater': None,\n",
       "  'boneMass': None,\n",
       "  'muscleMass': None,\n",
       "  'physiqueRating': None,\n",
       "  'visceralFat': None,\n",
       "  'metabolicAge': None}}"
      ]
     },
     "execution_count": 564,
     "metadata": {},
     "output_type": "execute_result"
    }
   ],
   "source": [
    "garmin.get_body_composition(yesterday)"
   ]
  },
  {
   "cell_type": "code",
   "execution_count": 565,
   "metadata": {},
   "outputs": [
    {
     "data": {
      "text/plain": [
       "dict_keys(['date', 'charged', 'drained', 'startTimestampGMT', 'endTimestampGMT', 'startTimestampLocal', 'endTimestampLocal', 'bodyBatteryValuesArray', 'bodyBatteryValueDescriptorDTOList', 'bodyBatteryDynamicFeedbackEvent', 'bodyBatteryActivityEvent'])"
      ]
     },
     "execution_count": 565,
     "metadata": {},
     "output_type": "execute_result"
    }
   ],
   "source": [
    "garmin.get_body_battery(yesterday)[0].keys()"
   ]
  },
  {
   "cell_type": "code",
   "execution_count": 566,
   "metadata": {},
   "outputs": [
    {
     "data": {
      "text/plain": [
       "{'from': '2025-07-17',\n",
       " 'until': '2025-07-17',\n",
       " 'measurementSummaries': [],\n",
       " 'categoryStats': None}"
      ]
     },
     "execution_count": 566,
     "metadata": {},
     "output_type": "execute_result"
    }
   ],
   "source": [
    "garmin.get_blood_pressure(yesterday)"
   ]
  },
  {
   "cell_type": "code",
   "execution_count": 567,
   "metadata": {},
   "outputs": [
    {
     "data": {
      "text/plain": [
       "[{'userId': 27447418,\n",
       "  'generic': {'calendarDate': '2025-07-17',\n",
       "   'vo2MaxPreciseValue': 40.5,\n",
       "   'vo2MaxValue': 41.0,\n",
       "   'fitnessAge': None,\n",
       "   'fitnessAgeDescription': None,\n",
       "   'maxMetCategory': 0},\n",
       "  'cycling': None,\n",
       "  'heatAltitudeAcclimation': {'calendarDate': '2025-07-17',\n",
       "   'altitudeAcclimationDate': '2025-07-17',\n",
       "   'previousAltitudeAcclimationDate': '2025-07-17',\n",
       "   'heatAcclimationDate': '2025-07-17',\n",
       "   'previousHeatAcclimationDate': '2025-07-17',\n",
       "   'altitudeAcclimation': 0,\n",
       "   'previousAltitudeAcclimation': 0,\n",
       "   'heatAcclimationPercentage': 0,\n",
       "   'previousHeatAcclimationPercentage': 0,\n",
       "   'heatTrend': None,\n",
       "   'altitudeTrend': None,\n",
       "   'currentAltitude': 0,\n",
       "   'previousAltitude': 0,\n",
       "   'acclimationPercentage': 0,\n",
       "   'previousAcclimationPercentage': 0,\n",
       "   'altitudeAcclimationLocalTimestamp': '2025-07-17T12:24:09.0'}}]"
      ]
     },
     "execution_count": 567,
     "metadata": {},
     "output_type": "execute_result"
    }
   ],
   "source": [
    "garmin.get_max_metrics(yesterday)"
   ]
  },
  {
   "cell_type": "code",
   "execution_count": 568,
   "metadata": {},
   "outputs": [
    {
     "data": {
      "text/plain": [
       "{'userId': 27447418,\n",
       " 'calendarDate': '2025-07-17',\n",
       " 'valueInML': 0.0,\n",
       " 'goalInML': 2449.0,\n",
       " 'dailyAverageinML': None,\n",
       " 'lastEntryTimestampLocal': '2025-07-17T11:50:16.0',\n",
       " 'sweatLossInML': 349.0,\n",
       " 'activityIntakeInML': 0.0}"
      ]
     },
     "execution_count": 568,
     "metadata": {},
     "output_type": "execute_result"
    }
   ],
   "source": [
    "garmin.get_hydration_data(yesterday)"
   ]
  },
  {
   "cell_type": "code",
   "execution_count": 569,
   "metadata": {},
   "outputs": [
    {
     "data": {
      "text/plain": [
       "dict_keys(['userProfilePK', 'calendarDate', 'startTimestampGMT', 'endTimestampGMT', 'startTimestampLocal', 'endTimestampLocal', 'sleepStartTimestampGMT', 'sleepEndTimestampGMT', 'sleepStartTimestampLocal', 'sleepEndTimestampLocal', 'tomorrowSleepStartTimestampGMT', 'tomorrowSleepEndTimestampGMT', 'tomorrowSleepStartTimestampLocal', 'tomorrowSleepEndTimestampLocal', 'lowestRespirationValue', 'highestRespirationValue', 'avgWakingRespirationValue', 'avgSleepRespirationValue', 'avgTomorrowSleepRespirationValue', 'respirationValueDescriptorsDTOList', 'respirationValuesArray', 'respirationAveragesValueDescriptorDTOList', 'respirationAveragesValuesArray', 'respirationVersion'])"
      ]
     },
     "execution_count": 569,
     "metadata": {},
     "output_type": "execute_result"
    }
   ],
   "source": [
    "garmin.get_respiration_data(yesterday).keys()"
   ]
  },
  {
   "cell_type": "code",
   "execution_count": 570,
   "metadata": {},
   "outputs": [
    {
     "data": {
      "text/plain": [
       "dict_keys(['userProfilePK', 'calendarDate', 'startTimestampGMT', 'endTimestampGMT', 'startTimestampLocal', 'endTimestampLocal', 'sleepStartTimestampGMT', 'sleepEndTimestampGMT', 'sleepStartTimestampLocal', 'sleepEndTimestampLocal', 'tomorrowSleepStartTimestampGMT', 'tomorrowSleepEndTimestampGMT', 'tomorrowSleepStartTimestampLocal', 'tomorrowSleepEndTimestampLocal', 'averageSpO2', 'lowestSpO2', 'lastSevenDaysAvgSpO2', 'latestSpO2', 'latestSpO2TimestampGMT', 'latestSpO2TimestampLocal', 'avgSleepSpO2', 'avgTomorrowSleepSpO2', 'spO2ValueDescriptorsDTOList', 'spO2SingleValues', 'continuousReadingDTOList', 'spO2HourlyAverages'])"
      ]
     },
     "execution_count": 570,
     "metadata": {},
     "output_type": "execute_result"
    }
   ],
   "source": [
    "garmin.get_spo2_data(yesterday).keys()"
   ]
  },
  {
   "cell_type": "code",
   "execution_count": 574,
   "metadata": {},
   "outputs": [],
   "source": [
    "records = garmin.get_personal_record()"
   ]
  },
  {
   "cell_type": "code",
   "execution_count": 587,
   "metadata": {},
   "outputs": [],
   "source": [
    "longest_run = [record for record in records if record['activityType'] == 'running' and record['typeId'] == 7]"
   ]
  },
  {
   "cell_type": "code",
   "execution_count": 590,
   "metadata": {},
   "outputs": [],
   "source": [
    "# typeId 1 - 1km record\n",
    "# typeID 7 - longest run\n",
    "# run_records[1], type ID 3, activity 2527638163\n",
    "# run_records[3], type ID 7 - my longest run!"
   ]
  },
  {
   "cell_type": "code",
   "execution_count": 600,
   "metadata": {},
   "outputs": [],
   "source": [
    "# length of longest run\n",
    "max_len = longest_run[0]['value']/1000"
   ]
  },
  {
   "cell_type": "code",
   "execution_count": 592,
   "metadata": {},
   "outputs": [],
   "source": [
    "# get a specific activity by its ID\n",
    "#garmin.get_activity(2527638163)"
   ]
  },
  {
   "cell_type": "markdown",
   "metadata": {},
   "source": [
    "## Get data of this year"
   ]
  },
  {
   "cell_type": "code",
   "execution_count": 12,
   "metadata": {},
   "outputs": [],
   "source": [
    "# get all my activities ever\n",
    "today = date.today()\n",
    "year_start = dt.date(2015,1,1)\n",
    "activities = garmin.get_activities_by_date(year_start.isoformat(), today.isoformat())"
   ]
  },
  {
   "cell_type": "code",
   "execution_count": 13,
   "metadata": {},
   "outputs": [
    {
     "data": {
      "text/plain": [
       "919"
      ]
     },
     "execution_count": 13,
     "metadata": {},
     "output_type": "execute_result"
    }
   ],
   "source": [
    "len(activities)"
   ]
  },
  {
   "cell_type": "code",
   "execution_count": 14,
   "metadata": {},
   "outputs": [],
   "source": [
    "# filter for running activities\n",
    "runs = [activity for activity in activities if activity['activityType']['typeKey'] == 'running']"
   ]
  },
  {
   "cell_type": "code",
   "execution_count": 15,
   "metadata": {},
   "outputs": [
    {
     "data": {
      "text/plain": [
       "742"
      ]
     },
     "execution_count": 15,
     "metadata": {},
     "output_type": "execute_result"
    }
   ],
   "source": [
    "len(runs)"
   ]
  },
  {
   "cell_type": "code",
   "execution_count": 16,
   "metadata": {},
   "outputs": [],
   "source": [
    "import datetime as dt\n",
    "import numpy as np\n",
    "import pandas as pd\n",
    "import spacy"
   ]
  },
  {
   "cell_type": "code",
   "execution_count": 172,
   "metadata": {},
   "outputs": [],
   "source": [
    "# filter out the stats that I want\n",
    "tformat = '%Y-%m-%d %H:%M:%S'\n",
    "run_stats = [{'id': run['activityId'],\n",
    "  'distance_km': run['distance']/1000, \n",
    "  'date': dt.datetime.strptime(run['startTimeLocal'], tformat).date(),\n",
    "  'duration_min': run['duration']/60,\n",
    "  'run_name': run.get('activityName')} for run in runs]"
   ]
  },
  {
   "cell_type": "code",
   "execution_count": 173,
   "metadata": {},
   "outputs": [
    {
     "data": {
      "text/html": [
       "<div>\n",
       "<style scoped>\n",
       "    .dataframe tbody tr th:only-of-type {\n",
       "        vertical-align: middle;\n",
       "    }\n",
       "\n",
       "    .dataframe tbody tr th {\n",
       "        vertical-align: top;\n",
       "    }\n",
       "\n",
       "    .dataframe thead th {\n",
       "        text-align: right;\n",
       "    }\n",
       "</style>\n",
       "<table border=\"1\" class=\"dataframe\">\n",
       "  <thead>\n",
       "    <tr style=\"text-align: right;\">\n",
       "      <th></th>\n",
       "      <th>id</th>\n",
       "      <th>distance_km</th>\n",
       "      <th>date</th>\n",
       "      <th>duration_min</th>\n",
       "      <th>run_name</th>\n",
       "    </tr>\n",
       "  </thead>\n",
       "  <tbody>\n",
       "    <tr>\n",
       "      <th>0</th>\n",
       "      <td>19760082314</td>\n",
       "      <td>4.01514</td>\n",
       "      <td>2025-07-17</td>\n",
       "      <td>31.901400</td>\n",
       "      <td>Berlin - easy run 30 min</td>\n",
       "    </tr>\n",
       "    <tr>\n",
       "      <th>1</th>\n",
       "      <td>19741265821</td>\n",
       "      <td>7.01528</td>\n",
       "      <td>2025-07-15</td>\n",
       "      <td>59.148067</td>\n",
       "      <td>Berlin - Zone 2 Long run</td>\n",
       "    </tr>\n",
       "    <tr>\n",
       "      <th>2</th>\n",
       "      <td>19700187285</td>\n",
       "      <td>3.01154</td>\n",
       "      <td>2025-07-11</td>\n",
       "      <td>23.872717</td>\n",
       "      <td>Berlin - Easy run 20min</td>\n",
       "    </tr>\n",
       "    <tr>\n",
       "      <th>3</th>\n",
       "      <td>19652278029</td>\n",
       "      <td>5.17642</td>\n",
       "      <td>2025-07-06</td>\n",
       "      <td>40.743481</td>\n",
       "      <td>Berlin - easy run 30 min</td>\n",
       "    </tr>\n",
       "    <tr>\n",
       "      <th>4</th>\n",
       "      <td>19628009496</td>\n",
       "      <td>6.02301</td>\n",
       "      <td>2025-07-04</td>\n",
       "      <td>47.267200</td>\n",
       "      <td>Berlin - easy run 30 min</td>\n",
       "    </tr>\n",
       "  </tbody>\n",
       "</table>\n",
       "</div>"
      ],
      "text/plain": [
       "            id  distance_km        date  duration_min  \\\n",
       "0  19760082314      4.01514  2025-07-17     31.901400   \n",
       "1  19741265821      7.01528  2025-07-15     59.148067   \n",
       "2  19700187285      3.01154  2025-07-11     23.872717   \n",
       "3  19652278029      5.17642  2025-07-06     40.743481   \n",
       "4  19628009496      6.02301  2025-07-04     47.267200   \n",
       "\n",
       "                   run_name  \n",
       "0  Berlin - easy run 30 min  \n",
       "1  Berlin - Zone 2 Long run  \n",
       "2   Berlin - Easy run 20min  \n",
       "3  Berlin - easy run 30 min  \n",
       "4  Berlin - easy run 30 min  "
      ]
     },
     "execution_count": 173,
     "metadata": {},
     "output_type": "execute_result"
    }
   ],
   "source": [
    "run_df = pd.DataFrame(run_stats)"
   ]
  },
  {
   "cell_type": "code",
   "execution_count": 174,
   "metadata": {},
   "outputs": [],
   "source": [
    "# NER with spacy\n",
    "nlp = spacy.load(\"en_core_web_lg\")"
   ]
  },
  {
   "cell_type": "code",
   "execution_count": 175,
   "metadata": {},
   "outputs": [],
   "source": [
    "# in case we have multiple runs per day, sum up distance and duration - get rid of id id column!\n",
    "# that is really necessary! I have instances where I stopped and restarted a new workout because of technical\n",
    "# issues (connectivity of heart rate sensor mainly)"
   ]
  },
  {
   "cell_type": "code",
   "execution_count": 177,
   "metadata": {},
   "outputs": [],
   "source": [
    "run_df_agg = run_df.groupby([\"date\"])[[\"distance_km\", \"duration_min\"]].sum().reset_index().copy()"
   ]
  },
  {
   "cell_type": "code",
   "execution_count": 178,
   "metadata": {},
   "outputs": [
    {
     "data": {
      "text/html": [
       "<div>\n",
       "<style scoped>\n",
       "    .dataframe tbody tr th:only-of-type {\n",
       "        vertical-align: middle;\n",
       "    }\n",
       "\n",
       "    .dataframe tbody tr th {\n",
       "        vertical-align: top;\n",
       "    }\n",
       "\n",
       "    .dataframe thead th {\n",
       "        text-align: right;\n",
       "    }\n",
       "</style>\n",
       "<table border=\"1\" class=\"dataframe\">\n",
       "  <thead>\n",
       "    <tr style=\"text-align: right;\">\n",
       "      <th></th>\n",
       "      <th>date</th>\n",
       "      <th>distance_km</th>\n",
       "      <th>duration_min</th>\n",
       "    </tr>\n",
       "  </thead>\n",
       "  <tbody>\n",
       "    <tr>\n",
       "      <th>0</th>\n",
       "      <td>2016-04-05</td>\n",
       "      <td>3.94532</td>\n",
       "      <td>27.264767</td>\n",
       "    </tr>\n",
       "    <tr>\n",
       "      <th>1</th>\n",
       "      <td>2016-04-09</td>\n",
       "      <td>4.00987</td>\n",
       "      <td>29.637283</td>\n",
       "    </tr>\n",
       "    <tr>\n",
       "      <th>2</th>\n",
       "      <td>2016-04-17</td>\n",
       "      <td>6.02017</td>\n",
       "      <td>41.886967</td>\n",
       "    </tr>\n",
       "    <tr>\n",
       "      <th>3</th>\n",
       "      <td>2016-04-19</td>\n",
       "      <td>6.03105</td>\n",
       "      <td>44.148850</td>\n",
       "    </tr>\n",
       "    <tr>\n",
       "      <th>4</th>\n",
       "      <td>2016-04-23</td>\n",
       "      <td>7.03646</td>\n",
       "      <td>50.501933</td>\n",
       "    </tr>\n",
       "    <tr>\n",
       "      <th>...</th>\n",
       "      <td>...</td>\n",
       "      <td>...</td>\n",
       "      <td>...</td>\n",
       "    </tr>\n",
       "    <tr>\n",
       "      <th>732</th>\n",
       "      <td>2025-07-04</td>\n",
       "      <td>6.02301</td>\n",
       "      <td>47.267200</td>\n",
       "    </tr>\n",
       "    <tr>\n",
       "      <th>733</th>\n",
       "      <td>2025-07-06</td>\n",
       "      <td>5.17642</td>\n",
       "      <td>40.743481</td>\n",
       "    </tr>\n",
       "    <tr>\n",
       "      <th>734</th>\n",
       "      <td>2025-07-11</td>\n",
       "      <td>3.01154</td>\n",
       "      <td>23.872717</td>\n",
       "    </tr>\n",
       "    <tr>\n",
       "      <th>735</th>\n",
       "      <td>2025-07-15</td>\n",
       "      <td>7.01528</td>\n",
       "      <td>59.148067</td>\n",
       "    </tr>\n",
       "    <tr>\n",
       "      <th>736</th>\n",
       "      <td>2025-07-17</td>\n",
       "      <td>4.01514</td>\n",
       "      <td>31.901400</td>\n",
       "    </tr>\n",
       "  </tbody>\n",
       "</table>\n",
       "<p>737 rows × 3 columns</p>\n",
       "</div>"
      ],
      "text/plain": [
       "           date  distance_km  duration_min\n",
       "0    2016-04-05      3.94532     27.264767\n",
       "1    2016-04-09      4.00987     29.637283\n",
       "2    2016-04-17      6.02017     41.886967\n",
       "3    2016-04-19      6.03105     44.148850\n",
       "4    2016-04-23      7.03646     50.501933\n",
       "..          ...          ...           ...\n",
       "732  2025-07-04      6.02301     47.267200\n",
       "733  2025-07-06      5.17642     40.743481\n",
       "734  2025-07-11      3.01154     23.872717\n",
       "735  2025-07-15      7.01528     59.148067\n",
       "736  2025-07-17      4.01514     31.901400\n",
       "\n",
       "[737 rows x 3 columns]"
      ]
     },
     "execution_count": 178,
     "metadata": {},
     "output_type": "execute_result"
    }
   ],
   "source": [
    "run_df_agg"
   ]
  },
  {
   "cell_type": "code",
   "execution_count": 179,
   "metadata": {},
   "outputs": [],
   "source": [
    "# get back the run_names: pick the first name per day!\n",
    "run_names = run_df[['date','run_name']].drop_duplicates(subset=['date'], keep='last')"
   ]
  },
  {
   "cell_type": "code",
   "execution_count": 180,
   "metadata": {},
   "outputs": [],
   "source": [
    "# join back the names\n",
    "run_df = run_df_agg.merge(run_names, on='date', how='left')"
   ]
  },
  {
   "cell_type": "code",
   "execution_count": 267,
   "metadata": {},
   "outputs": [],
   "source": [
    "def find_places_in_name(sentence):\n",
    "    places = {'Berlin', 'Cisternino', 'Sarstedt', 'Wittenberg', 'Toulouse'}\n",
    "    words = sentence.replace(',','').split() # simple tokenization\n",
    "    match = list(set(words) & places)\n",
    "    return match[0] if match else ''"
   ]
  },
  {
   "cell_type": "code",
   "execution_count": 268,
   "metadata": {},
   "outputs": [
    {
     "data": {
      "text/plain": [
       "'Wittenberg'"
      ]
     },
     "execution_count": 268,
     "metadata": {},
     "output_type": "execute_result"
    }
   ],
   "source": [
    "find_places_in_name('Wittenberg, Lutherstadt - Easy run 20min')"
   ]
  },
  {
   "cell_type": "code",
   "execution_count": 269,
   "metadata": {},
   "outputs": [],
   "source": [
    "run_df['location'] = run_df.run_name.apply(find_places_in_name)"
   ]
  },
  {
   "cell_type": "code",
   "execution_count": 270,
   "metadata": {},
   "outputs": [
    {
     "data": {
      "text/html": [
       "<div>\n",
       "<style scoped>\n",
       "    .dataframe tbody tr th:only-of-type {\n",
       "        vertical-align: middle;\n",
       "    }\n",
       "\n",
       "    .dataframe tbody tr th {\n",
       "        vertical-align: top;\n",
       "    }\n",
       "\n",
       "    .dataframe thead th {\n",
       "        text-align: right;\n",
       "    }\n",
       "</style>\n",
       "<table border=\"1\" class=\"dataframe\">\n",
       "  <thead>\n",
       "    <tr style=\"text-align: right;\">\n",
       "      <th></th>\n",
       "      <th>date</th>\n",
       "      <th>distance_km</th>\n",
       "      <th>duration_min</th>\n",
       "      <th>run_name</th>\n",
       "      <th>location</th>\n",
       "    </tr>\n",
       "  </thead>\n",
       "  <tbody>\n",
       "    <tr>\n",
       "      <th>0</th>\n",
       "      <td>2016-04-05</td>\n",
       "      <td>3.94532</td>\n",
       "      <td>27.264767</td>\n",
       "      <td>Berlin Running</td>\n",
       "      <td>Berlin</td>\n",
       "    </tr>\n",
       "    <tr>\n",
       "      <th>1</th>\n",
       "      <td>2016-04-09</td>\n",
       "      <td>4.00987</td>\n",
       "      <td>29.637283</td>\n",
       "      <td>Berlin Running</td>\n",
       "      <td>Berlin</td>\n",
       "    </tr>\n",
       "    <tr>\n",
       "      <th>2</th>\n",
       "      <td>2016-04-17</td>\n",
       "      <td>6.02017</td>\n",
       "      <td>41.886967</td>\n",
       "      <td>Berlin Running</td>\n",
       "      <td>Berlin</td>\n",
       "    </tr>\n",
       "    <tr>\n",
       "      <th>3</th>\n",
       "      <td>2016-04-19</td>\n",
       "      <td>6.03105</td>\n",
       "      <td>44.148850</td>\n",
       "      <td>Berlin Running</td>\n",
       "      <td>Berlin</td>\n",
       "    </tr>\n",
       "    <tr>\n",
       "      <th>4</th>\n",
       "      <td>2016-04-23</td>\n",
       "      <td>7.03646</td>\n",
       "      <td>50.501933</td>\n",
       "      <td>Berlin Running</td>\n",
       "      <td>Berlin</td>\n",
       "    </tr>\n",
       "    <tr>\n",
       "      <th>...</th>\n",
       "      <td>...</td>\n",
       "      <td>...</td>\n",
       "      <td>...</td>\n",
       "      <td>...</td>\n",
       "      <td>...</td>\n",
       "    </tr>\n",
       "    <tr>\n",
       "      <th>732</th>\n",
       "      <td>2025-07-04</td>\n",
       "      <td>6.02301</td>\n",
       "      <td>47.267200</td>\n",
       "      <td>Berlin - easy run 30 min</td>\n",
       "      <td>Berlin</td>\n",
       "    </tr>\n",
       "    <tr>\n",
       "      <th>733</th>\n",
       "      <td>2025-07-06</td>\n",
       "      <td>5.17642</td>\n",
       "      <td>40.743481</td>\n",
       "      <td>Berlin - easy run 30 min</td>\n",
       "      <td>Berlin</td>\n",
       "    </tr>\n",
       "    <tr>\n",
       "      <th>734</th>\n",
       "      <td>2025-07-11</td>\n",
       "      <td>3.01154</td>\n",
       "      <td>23.872717</td>\n",
       "      <td>Berlin - Easy run 20min</td>\n",
       "      <td>Berlin</td>\n",
       "    </tr>\n",
       "    <tr>\n",
       "      <th>735</th>\n",
       "      <td>2025-07-15</td>\n",
       "      <td>7.01528</td>\n",
       "      <td>59.148067</td>\n",
       "      <td>Berlin - Zone 2 Long run</td>\n",
       "      <td>Berlin</td>\n",
       "    </tr>\n",
       "    <tr>\n",
       "      <th>736</th>\n",
       "      <td>2025-07-17</td>\n",
       "      <td>4.01514</td>\n",
       "      <td>31.901400</td>\n",
       "      <td>Berlin - easy run 30 min</td>\n",
       "      <td>Berlin</td>\n",
       "    </tr>\n",
       "  </tbody>\n",
       "</table>\n",
       "<p>737 rows × 5 columns</p>\n",
       "</div>"
      ],
      "text/plain": [
       "           date  distance_km  duration_min                  run_name location\n",
       "0    2016-04-05      3.94532     27.264767            Berlin Running   Berlin\n",
       "1    2016-04-09      4.00987     29.637283            Berlin Running   Berlin\n",
       "2    2016-04-17      6.02017     41.886967            Berlin Running   Berlin\n",
       "3    2016-04-19      6.03105     44.148850            Berlin Running   Berlin\n",
       "4    2016-04-23      7.03646     50.501933            Berlin Running   Berlin\n",
       "..          ...          ...           ...                       ...      ...\n",
       "732  2025-07-04      6.02301     47.267200  Berlin - easy run 30 min   Berlin\n",
       "733  2025-07-06      5.17642     40.743481  Berlin - easy run 30 min   Berlin\n",
       "734  2025-07-11      3.01154     23.872717   Berlin - Easy run 20min   Berlin\n",
       "735  2025-07-15      7.01528     59.148067  Berlin - Zone 2 Long run   Berlin\n",
       "736  2025-07-17      4.01514     31.901400  Berlin - easy run 30 min   Berlin\n",
       "\n",
       "[737 rows x 5 columns]"
      ]
     },
     "execution_count": 270,
     "metadata": {},
     "output_type": "execute_result"
    }
   ],
   "source": [
    "run_df"
   ]
  },
  {
   "cell_type": "code",
   "execution_count": 109,
   "metadata": {},
   "outputs": [],
   "source": [
    "# ok, now we have all pieces for extracting the data that we want\n",
    "# we could also build an incremental pipeline (pull data from dates >= the max date in the table that we store)\n",
    "# in this case a txt file would suffice (ok, add that later!)"
   ]
  },
  {
   "cell_type": "code",
   "execution_count": 188,
   "metadata": {},
   "outputs": [],
   "source": [
    "# actually we need more! we have to fill in data from the whole year(s), indicating a zero value \n",
    "# for days without a run!\n",
    "import colorsys\n",
    "\n",
    "def date_range(date_from: dt.date, date_to: dt.date) -> list[dt.date]:\n",
    "    \"\"\"\n",
    "    Create list of dates from [date_from] to [date_to] including the\n",
    "    from and to dates.\n",
    "    \"\"\"\n",
    "    return [\n",
    "        date_from + dt.timedelta(days=i)\n",
    "        for i in range((date_to - date_from).days + 1)\n",
    "    ]\n",
    "def github_weekday(date: dt.date) -> int:\n",
    "    \"\"\"\n",
    "    return 0 for Sunday, 1 for Monday etc\n",
    "    \"\"\"\n",
    "    return date.isoweekday() % 7\n",
    "\n",
    "def week_of_year(date: dt.date, year: int) -> int:\n",
    "    \"\"\"\n",
    "    to do it right, we need to know what day the year in question starts with)\n",
    "    \"\"\"\n",
    "    # tm_yday provides the number of the day in the year\n",
    "    return (date.timetuple().tm_yday + github_weekday(dt.date(year,1,1)) - 1) // 7\n",
    "\n",
    "def hsl_to_hex(h, s, l):\n",
    "    \"\"\"Convert HSL (0-1) to HEX\"\"\"\n",
    "    r, g, b = colorsys.hls_to_rgb(h, l, s)  # NOTE: HLS order in Python!\n",
    "    return '#%02x%02x%02x' % (int(r*255), int(g*255), int(b*255))\n",
    "\n",
    "def custom_green_scale(num_greens: int) -> list:\n",
    "    # Fixed hue for green (120° = 1/3 in [0,1] scale)\n",
    "    hue = 120/360  \n",
    "\n",
    "    # Choose [num_greens] lightness values evenly spaced\n",
    "    lightness_values = list(np.linspace(0.85, 0.15, num_greens))\n",
    "\n",
    "    # Saturation ~0.7 for vivid green\n",
    "    saturation = 0.7\n",
    "\n",
    "    green_scale = [hsl_to_hex(hue, saturation, l) for l in lightness_values]\n",
    "    return ['#f0f0f0'] + green_scale # including light gray as baseline color\n",
    "\n",
    "def extract_places(text):\n",
    "    # pre-process\n",
    "    text = text.replace(\"Running\", \"\")\n",
    "    doc = nlp(text)\n",
    "    # Extract entities recognized as GPE (Geo-Political Entity)\n",
    "    return [ent.text for ent in doc.ents if ent.label_ in [\"GPE\", \"LOC\"]]"
   ]
  },
  {
   "cell_type": "code",
   "execution_count": 271,
   "metadata": {},
   "outputs": [],
   "source": [
    "base = pd.DataFrame({'date': date_range(dt.date(2025,1,1), dt.date(2025,12,31))})"
   ]
  },
  {
   "cell_type": "code",
   "execution_count": 272,
   "metadata": {},
   "outputs": [],
   "source": [
    "new = pd.merge(base, run_df, on='date', how='left').fillna(0)"
   ]
  },
  {
   "cell_type": "code",
   "execution_count": 273,
   "metadata": {},
   "outputs": [],
   "source": [
    "new.run_name = new.run_name.astype('str')"
   ]
  },
  {
   "cell_type": "code",
   "execution_count": 274,
   "metadata": {},
   "outputs": [
    {
     "data": {
      "text/plain": [
       "date             object\n",
       "distance_km     float64\n",
       "duration_min    float64\n",
       "run_name         object\n",
       "location         object\n",
       "dtype: object"
      ]
     },
     "execution_count": 274,
     "metadata": {},
     "output_type": "execute_result"
    }
   ],
   "source": [
    "new.dtypes"
   ]
  },
  {
   "cell_type": "code",
   "execution_count": 275,
   "metadata": {},
   "outputs": [],
   "source": [
    "# add weekday and week for plotting stuff correctly\n",
    "# note that we cannot use the iso week of the year, because the last days in the year already belong to week 1 of the next year, \n",
    "# which gives us non-unique identifiers down the line\n",
    "new['github_weekday'] = new.date.apply(lambda x: github_weekday(x))\n",
    "new['calendar_week'] = new.date.apply(lambda x: week_of_year(x, 2025))\n",
    "new[\"day\"] = new.date.apply(lambda x: x.strftime(\"%Y-%m-%d\"))\n",
    "new['month'] = new.date.apply(lambda x: x.strftime(\"%b\"))\n",
    "new['distance_label'] = pd.cut(new.distance_km.round(), bins=[-1, 0, 3, 5, 8, 100], # [-1, 0, 3, 5, 7, 9, 100]\n",
    "                        labels=[0, 1, 2, 3, 4])\n",
    "new['hover_label'] = new.apply(lambda row: f\"{np.round(row['distance_km'],3)} km <br> {row['date']} {'in ' + row['location'] if row['location'] != 0 else ''}\", axis=1)"
   ]
  },
  {
   "cell_type": "code",
   "execution_count": 276,
   "metadata": {},
   "outputs": [
    {
     "data": {
      "text/html": [
       "<div>\n",
       "<style scoped>\n",
       "    .dataframe tbody tr th:only-of-type {\n",
       "        vertical-align: middle;\n",
       "    }\n",
       "\n",
       "    .dataframe tbody tr th {\n",
       "        vertical-align: top;\n",
       "    }\n",
       "\n",
       "    .dataframe thead th {\n",
       "        text-align: right;\n",
       "    }\n",
       "</style>\n",
       "<table border=\"1\" class=\"dataframe\">\n",
       "  <thead>\n",
       "    <tr style=\"text-align: right;\">\n",
       "      <th></th>\n",
       "      <th>date</th>\n",
       "      <th>distance_km</th>\n",
       "      <th>duration_min</th>\n",
       "      <th>run_name</th>\n",
       "      <th>location</th>\n",
       "      <th>github_weekday</th>\n",
       "      <th>calendar_week</th>\n",
       "      <th>day</th>\n",
       "      <th>month</th>\n",
       "      <th>distance_label</th>\n",
       "      <th>hover_label</th>\n",
       "    </tr>\n",
       "  </thead>\n",
       "  <tbody>\n",
       "    <tr>\n",
       "      <th>0</th>\n",
       "      <td>2025-01-01</td>\n",
       "      <td>0.00000</td>\n",
       "      <td>0.000000</td>\n",
       "      <td>0</td>\n",
       "      <td>0</td>\n",
       "      <td>3</td>\n",
       "      <td>0</td>\n",
       "      <td>2025-01-01</td>\n",
       "      <td>Jan</td>\n",
       "      <td>0</td>\n",
       "      <td>0.0 km &lt;br&gt; 2025-01-01</td>\n",
       "    </tr>\n",
       "    <tr>\n",
       "      <th>1</th>\n",
       "      <td>2025-01-02</td>\n",
       "      <td>0.00000</td>\n",
       "      <td>0.000000</td>\n",
       "      <td>0</td>\n",
       "      <td>0</td>\n",
       "      <td>4</td>\n",
       "      <td>0</td>\n",
       "      <td>2025-01-02</td>\n",
       "      <td>Jan</td>\n",
       "      <td>0</td>\n",
       "      <td>0.0 km &lt;br&gt; 2025-01-02</td>\n",
       "    </tr>\n",
       "    <tr>\n",
       "      <th>2</th>\n",
       "      <td>2025-01-03</td>\n",
       "      <td>0.00000</td>\n",
       "      <td>0.000000</td>\n",
       "      <td>0</td>\n",
       "      <td>0</td>\n",
       "      <td>5</td>\n",
       "      <td>0</td>\n",
       "      <td>2025-01-03</td>\n",
       "      <td>Jan</td>\n",
       "      <td>0</td>\n",
       "      <td>0.0 km &lt;br&gt; 2025-01-03</td>\n",
       "    </tr>\n",
       "    <tr>\n",
       "      <th>3</th>\n",
       "      <td>2025-01-04</td>\n",
       "      <td>4.01524</td>\n",
       "      <td>29.859916</td>\n",
       "      <td>Berlin Running</td>\n",
       "      <td>Berlin</td>\n",
       "      <td>6</td>\n",
       "      <td>0</td>\n",
       "      <td>2025-01-04</td>\n",
       "      <td>Jan</td>\n",
       "      <td>2</td>\n",
       "      <td>4.015 km &lt;br&gt; 2025-01-04 in Berlin</td>\n",
       "    </tr>\n",
       "    <tr>\n",
       "      <th>4</th>\n",
       "      <td>2025-01-05</td>\n",
       "      <td>0.00000</td>\n",
       "      <td>0.000000</td>\n",
       "      <td>0</td>\n",
       "      <td>0</td>\n",
       "      <td>0</td>\n",
       "      <td>1</td>\n",
       "      <td>2025-01-05</td>\n",
       "      <td>Jan</td>\n",
       "      <td>0</td>\n",
       "      <td>0.0 km &lt;br&gt; 2025-01-05</td>\n",
       "    </tr>\n",
       "  </tbody>\n",
       "</table>\n",
       "</div>"
      ],
      "text/plain": [
       "         date  distance_km  duration_min        run_name location  \\\n",
       "0  2025-01-01      0.00000      0.000000               0        0   \n",
       "1  2025-01-02      0.00000      0.000000               0        0   \n",
       "2  2025-01-03      0.00000      0.000000               0        0   \n",
       "3  2025-01-04      4.01524     29.859916  Berlin Running   Berlin   \n",
       "4  2025-01-05      0.00000      0.000000               0        0   \n",
       "\n",
       "   github_weekday  calendar_week         day month distance_label  \\\n",
       "0               3              0  2025-01-01   Jan              0   \n",
       "1               4              0  2025-01-02   Jan              0   \n",
       "2               5              0  2025-01-03   Jan              0   \n",
       "3               6              0  2025-01-04   Jan              2   \n",
       "4               0              1  2025-01-05   Jan              0   \n",
       "\n",
       "                          hover_label  \n",
       "0             0.0 km <br> 2025-01-01   \n",
       "1             0.0 km <br> 2025-01-02   \n",
       "2             0.0 km <br> 2025-01-03   \n",
       "3  4.015 km <br> 2025-01-04 in Berlin  \n",
       "4             0.0 km <br> 2025-01-05   "
      ]
     },
     "execution_count": 276,
     "metadata": {},
     "output_type": "execute_result"
    }
   ],
   "source": [
    "new.head()"
   ]
  },
  {
   "cell_type": "code",
   "execution_count": 277,
   "metadata": {},
   "outputs": [
    {
     "data": {
      "text/html": [
       "<div>\n",
       "<style scoped>\n",
       "    .dataframe tbody tr th:only-of-type {\n",
       "        vertical-align: middle;\n",
       "    }\n",
       "\n",
       "    .dataframe tbody tr th {\n",
       "        vertical-align: top;\n",
       "    }\n",
       "\n",
       "    .dataframe thead th {\n",
       "        text-align: right;\n",
       "    }\n",
       "</style>\n",
       "<table border=\"1\" class=\"dataframe\">\n",
       "  <thead>\n",
       "    <tr style=\"text-align: right;\">\n",
       "      <th></th>\n",
       "      <th>date</th>\n",
       "      <th>distance_km</th>\n",
       "      <th>duration_min</th>\n",
       "      <th>run_name</th>\n",
       "      <th>location</th>\n",
       "      <th>github_weekday</th>\n",
       "      <th>calendar_week</th>\n",
       "      <th>day</th>\n",
       "      <th>month</th>\n",
       "      <th>distance_label</th>\n",
       "      <th>hover_label</th>\n",
       "    </tr>\n",
       "  </thead>\n",
       "  <tbody>\n",
       "    <tr>\n",
       "      <th>162</th>\n",
       "      <td>2025-06-12</td>\n",
       "      <td>4.00987</td>\n",
       "      <td>29.694649</td>\n",
       "      <td>Wittenberg, Lutherstadt - Easy run 20min</td>\n",
       "      <td>Wittenberg</td>\n",
       "      <td>4</td>\n",
       "      <td>23</td>\n",
       "      <td>2025-06-12</td>\n",
       "      <td>Jun</td>\n",
       "      <td>2</td>\n",
       "      <td>4.01 km &lt;br&gt; 2025-06-12 in Wittenberg</td>\n",
       "    </tr>\n",
       "  </tbody>\n",
       "</table>\n",
       "</div>"
      ],
      "text/plain": [
       "           date  distance_km  duration_min  \\\n",
       "162  2025-06-12      4.00987     29.694649   \n",
       "\n",
       "                                     run_name    location  github_weekday  \\\n",
       "162  Wittenberg, Lutherstadt - Easy run 20min  Wittenberg               4   \n",
       "\n",
       "     calendar_week         day month distance_label  \\\n",
       "162             23  2025-06-12   Jun              2   \n",
       "\n",
       "                               hover_label  \n",
       "162  4.01 km <br> 2025-06-12 in Wittenberg  "
      ]
     },
     "execution_count": 277,
     "metadata": {},
     "output_type": "execute_result"
    }
   ],
   "source": [
    "new[new.date == dt.date(2025,6,12)]"
   ]
  },
  {
   "cell_type": "code",
   "execution_count": 278,
   "metadata": {},
   "outputs": [
    {
     "data": {
      "text/plain": [
       "location\n",
       "0             332\n",
       "Berlin         30\n",
       "                1\n",
       "Toulouse        1\n",
       "Wittenberg      1\n",
       "Name: count, dtype: int64"
      ]
     },
     "execution_count": 278,
     "metadata": {},
     "output_type": "execute_result"
    }
   ],
   "source": [
    "new.location.value_counts()"
   ]
  },
  {
   "cell_type": "code",
   "execution_count": 254,
   "metadata": {},
   "outputs": [],
   "source": [
    "import plotly.express as px\n",
    "import plotly.graph_objects as go"
   ]
  },
  {
   "cell_type": "code",
   "execution_count": 255,
   "metadata": {},
   "outputs": [],
   "source": [
    "days_per_month_week = new.groupby(['calendar_week', 'month']).size().reset_index(name='count_days').\\\n",
    "    sort_values(['calendar_week','count_days'])\n",
    "dedup = days_per_month_week.drop_duplicates(subset=['calendar_week'], keep='last')[['calendar_week','month']]\n",
    "labels = dedup.drop_duplicates(subset=['month'], keep='first')"
   ]
  },
  {
   "cell_type": "markdown",
   "metadata": {},
   "source": [
    "## Approach with Heatmap"
   ]
  },
  {
   "cell_type": "code",
   "execution_count": 279,
   "metadata": {},
   "outputs": [
    {
     "data": {
      "application/vnd.plotly.v1+json": {
       "config": {
        "plotlyServerURL": "https://plot.ly"
       },
       "data": [
        {
         "colorbar": {
          "ticktext": [
           "less",
           "",
           "",
           "",
           "more"
          ],
          "tickvals": [
           0,
           1,
           2,
           3,
           4
          ],
          "title": {
           "text": "km"
          }
         },
         "colorscale": [
          [
           0,
           "#f0f0f0"
          ],
          [
           0.25,
           "#bdf3bd"
          ],
          [
           0.5,
           "#58e158"
          ],
          [
           0.75,
           "#1da61d"
          ],
          [
           1,
           "#0b410b"
          ]
         ],
         "hoverongaps": false,
         "hovertemplate": " %{text}<br><extra></extra>",
         "text": [
          [
           "nan",
           "0.0 km <br> 2025-01-05 ",
           "0.0 km <br> 2025-01-12 ",
           "5.507 km <br> 2025-01-19 in Berlin",
           "0.0 km <br> 2025-01-26 ",
           "0.0 km <br> 2025-02-02 ",
           "0.0 km <br> 2025-02-09 ",
           "0.0 km <br> 2025-02-16 ",
           "3.013 km <br> 2025-02-23 in Berlin",
           "5.009 km <br> 2025-03-02 in ",
           "0.0 km <br> 2025-03-09 ",
           "0.0 km <br> 2025-03-16 ",
           "0.0 km <br> 2025-03-23 ",
           "0.0 km <br> 2025-03-30 ",
           "5.513 km <br> 2025-04-06 in Berlin",
           "0.0 km <br> 2025-04-13 ",
           "0.0 km <br> 2025-04-20 ",
           "0.0 km <br> 2025-04-27 ",
           "0.0 km <br> 2025-05-04 ",
           "0.0 km <br> 2025-05-11 ",
           "0.0 km <br> 2025-05-18 ",
           "0.0 km <br> 2025-05-25 ",
           "0.0 km <br> 2025-06-01 ",
           "0.0 km <br> 2025-06-08 ",
           "0.0 km <br> 2025-06-15 ",
           "0.0 km <br> 2025-06-22 ",
           "0.0 km <br> 2025-06-29 ",
           "5.176 km <br> 2025-07-06 in Berlin",
           "0.0 km <br> 2025-07-13 ",
           "0.0 km <br> 2025-07-20 ",
           "0.0 km <br> 2025-07-27 ",
           "0.0 km <br> 2025-08-03 ",
           "0.0 km <br> 2025-08-10 ",
           "0.0 km <br> 2025-08-17 ",
           "0.0 km <br> 2025-08-24 ",
           "0.0 km <br> 2025-08-31 ",
           "0.0 km <br> 2025-09-07 ",
           "0.0 km <br> 2025-09-14 ",
           "0.0 km <br> 2025-09-21 ",
           "0.0 km <br> 2025-09-28 ",
           "0.0 km <br> 2025-10-05 ",
           "0.0 km <br> 2025-10-12 ",
           "0.0 km <br> 2025-10-19 ",
           "0.0 km <br> 2025-10-26 ",
           "0.0 km <br> 2025-11-02 ",
           "0.0 km <br> 2025-11-09 ",
           "0.0 km <br> 2025-11-16 ",
           "0.0 km <br> 2025-11-23 ",
           "0.0 km <br> 2025-11-30 ",
           "0.0 km <br> 2025-12-07 ",
           "0.0 km <br> 2025-12-14 ",
           "0.0 km <br> 2025-12-21 ",
           "0.0 km <br> 2025-12-28 "
          ],
          [
           "nan",
           "0.0 km <br> 2025-01-06 ",
           "0.0 km <br> 2025-01-13 ",
           "0.0 km <br> 2025-01-20 ",
           "5.003 km <br> 2025-01-27 in Berlin",
           "0.0 km <br> 2025-02-03 ",
           "0.0 km <br> 2025-02-10 ",
           "0.0 km <br> 2025-02-17 ",
           "0.0 km <br> 2025-02-24 ",
           "0.0 km <br> 2025-03-03 ",
           "3.011 km <br> 2025-03-10 in Berlin",
           "0.0 km <br> 2025-03-17 ",
           "0.0 km <br> 2025-03-24 ",
           "0.0 km <br> 2025-03-31 ",
           "0.0 km <br> 2025-04-07 ",
           "5.309 km <br> 2025-04-14 in Berlin",
           "0.0 km <br> 2025-04-21 ",
           "0.0 km <br> 2025-04-28 ",
           "0.0 km <br> 2025-05-05 ",
           "0.0 km <br> 2025-05-12 ",
           "0.0 km <br> 2025-05-19 ",
           "0.0 km <br> 2025-05-26 ",
           "0.0 km <br> 2025-06-02 ",
           "3.083 km <br> 2025-06-09 in Berlin",
           "0.0 km <br> 2025-06-16 ",
           "2.942 km <br> 2025-06-23 in Berlin",
           "0.0 km <br> 2025-06-30 ",
           "0.0 km <br> 2025-07-07 ",
           "0.0 km <br> 2025-07-14 ",
           "0.0 km <br> 2025-07-21 ",
           "0.0 km <br> 2025-07-28 ",
           "0.0 km <br> 2025-08-04 ",
           "0.0 km <br> 2025-08-11 ",
           "0.0 km <br> 2025-08-18 ",
           "0.0 km <br> 2025-08-25 ",
           "0.0 km <br> 2025-09-01 ",
           "0.0 km <br> 2025-09-08 ",
           "0.0 km <br> 2025-09-15 ",
           "0.0 km <br> 2025-09-22 ",
           "0.0 km <br> 2025-09-29 ",
           "0.0 km <br> 2025-10-06 ",
           "0.0 km <br> 2025-10-13 ",
           "0.0 km <br> 2025-10-20 ",
           "0.0 km <br> 2025-10-27 ",
           "0.0 km <br> 2025-11-03 ",
           "0.0 km <br> 2025-11-10 ",
           "0.0 km <br> 2025-11-17 ",
           "0.0 km <br> 2025-11-24 ",
           "0.0 km <br> 2025-12-01 ",
           "0.0 km <br> 2025-12-08 ",
           "0.0 km <br> 2025-12-15 ",
           "0.0 km <br> 2025-12-22 ",
           "0.0 km <br> 2025-12-29 "
          ],
          [
           "nan",
           "0.0 km <br> 2025-01-07 ",
           "2.772 km <br> 2025-01-14 in Berlin",
           "0.0 km <br> 2025-01-21 ",
           "0.0 km <br> 2025-01-28 ",
           "3.036 km <br> 2025-02-04 in Berlin",
           "4.059 km <br> 2025-02-11 in Berlin",
           "0.0 km <br> 2025-02-18 ",
           "2.758 km <br> 2025-02-25 in Berlin",
           "0.0 km <br> 2025-03-04 ",
           "0.0 km <br> 2025-03-11 ",
           "0.0 km <br> 2025-03-18 ",
           "0.0 km <br> 2025-03-25 ",
           "3.044 km <br> 2025-04-01 in Berlin",
           "0.0 km <br> 2025-04-08 ",
           "0.0 km <br> 2025-04-15 ",
           "0.0 km <br> 2025-04-22 ",
           "0.0 km <br> 2025-04-29 ",
           "0.0 km <br> 2025-05-06 ",
           "0.0 km <br> 2025-05-13 ",
           "0.0 km <br> 2025-05-20 ",
           "0.0 km <br> 2025-05-27 ",
           "0.0 km <br> 2025-06-03 ",
           "0.0 km <br> 2025-06-10 ",
           "0.0 km <br> 2025-06-17 ",
           "0.0 km <br> 2025-06-24 ",
           "0.0 km <br> 2025-07-01 ",
           "0.0 km <br> 2025-07-08 ",
           "7.015 km <br> 2025-07-15 in Berlin",
           "0.0 km <br> 2025-07-22 ",
           "0.0 km <br> 2025-07-29 ",
           "0.0 km <br> 2025-08-05 ",
           "0.0 km <br> 2025-08-12 ",
           "0.0 km <br> 2025-08-19 ",
           "0.0 km <br> 2025-08-26 ",
           "0.0 km <br> 2025-09-02 ",
           "0.0 km <br> 2025-09-09 ",
           "0.0 km <br> 2025-09-16 ",
           "0.0 km <br> 2025-09-23 ",
           "0.0 km <br> 2025-09-30 ",
           "0.0 km <br> 2025-10-07 ",
           "0.0 km <br> 2025-10-14 ",
           "0.0 km <br> 2025-10-21 ",
           "0.0 km <br> 2025-10-28 ",
           "0.0 km <br> 2025-11-04 ",
           "0.0 km <br> 2025-11-11 ",
           "0.0 km <br> 2025-11-18 ",
           "0.0 km <br> 2025-11-25 ",
           "0.0 km <br> 2025-12-02 ",
           "0.0 km <br> 2025-12-09 ",
           "0.0 km <br> 2025-12-16 ",
           "0.0 km <br> 2025-12-23 ",
           "0.0 km <br> 2025-12-30 "
          ],
          [
           "0.0 km <br> 2025-01-01 ",
           "2.67 km <br> 2025-01-08 in Berlin",
           "4.104 km <br> 2025-01-15 in Berlin",
           "0.0 km <br> 2025-01-22 ",
           "0.0 km <br> 2025-01-29 ",
           "0.0 km <br> 2025-02-05 ",
           "0.0 km <br> 2025-02-12 ",
           "0.0 km <br> 2025-02-19 ",
           "0.0 km <br> 2025-02-26 ",
           "0.0 km <br> 2025-03-05 ",
           "0.0 km <br> 2025-03-12 ",
           "0.0 km <br> 2025-03-19 ",
           "0.0 km <br> 2025-03-26 ",
           "0.0 km <br> 2025-04-02 ",
           "3.007 km <br> 2025-04-09 in Berlin",
           "0.0 km <br> 2025-04-16 ",
           "0.0 km <br> 2025-04-23 ",
           "0.0 km <br> 2025-04-30 ",
           "0.0 km <br> 2025-05-07 ",
           "0.0 km <br> 2025-05-14 ",
           "0.0 km <br> 2025-05-21 ",
           "0.0 km <br> 2025-05-28 ",
           "0.0 km <br> 2025-06-04 ",
           "0.0 km <br> 2025-06-11 ",
           "0.0 km <br> 2025-06-18 ",
           "0.0 km <br> 2025-06-25 ",
           "0.0 km <br> 2025-07-02 ",
           "0.0 km <br> 2025-07-09 ",
           "0.0 km <br> 2025-07-16 ",
           "0.0 km <br> 2025-07-23 ",
           "0.0 km <br> 2025-07-30 ",
           "0.0 km <br> 2025-08-06 ",
           "0.0 km <br> 2025-08-13 ",
           "0.0 km <br> 2025-08-20 ",
           "0.0 km <br> 2025-08-27 ",
           "0.0 km <br> 2025-09-03 ",
           "0.0 km <br> 2025-09-10 ",
           "0.0 km <br> 2025-09-17 ",
           "0.0 km <br> 2025-09-24 ",
           "0.0 km <br> 2025-10-01 ",
           "0.0 km <br> 2025-10-08 ",
           "0.0 km <br> 2025-10-15 ",
           "0.0 km <br> 2025-10-22 ",
           "0.0 km <br> 2025-10-29 ",
           "0.0 km <br> 2025-11-05 ",
           "0.0 km <br> 2025-11-12 ",
           "0.0 km <br> 2025-11-19 ",
           "0.0 km <br> 2025-11-26 ",
           "0.0 km <br> 2025-12-03 ",
           "0.0 km <br> 2025-12-10 ",
           "0.0 km <br> 2025-12-17 ",
           "0.0 km <br> 2025-12-24 ",
           "0.0 km <br> 2025-12-31 "
          ],
          [
           "0.0 km <br> 2025-01-02 ",
           "0.0 km <br> 2025-01-09 ",
           "0.0 km <br> 2025-01-16 ",
           "0.0 km <br> 2025-01-23 ",
           "0.0 km <br> 2025-01-30 ",
           "0.0 km <br> 2025-02-06 ",
           "0.0 km <br> 2025-02-13 ",
           "0.0 km <br> 2025-02-20 ",
           "0.0 km <br> 2025-02-27 ",
           "0.0 km <br> 2025-03-06 ",
           "0.0 km <br> 2025-03-13 ",
           "0.0 km <br> 2025-03-20 ",
           "0.0 km <br> 2025-03-27 ",
           "4.023 km <br> 2025-04-03 in Berlin",
           "0.0 km <br> 2025-04-10 ",
           "6.501 km <br> 2025-04-17 in Berlin",
           "0.0 km <br> 2025-04-24 ",
           "0.0 km <br> 2025-05-01 ",
           "0.0 km <br> 2025-05-08 ",
           "0.0 km <br> 2025-05-15 ",
           "0.0 km <br> 2025-05-22 ",
           "0.0 km <br> 2025-05-29 ",
           "0.0 km <br> 2025-06-05 ",
           "4.01 km <br> 2025-06-12 in Wittenberg",
           "0.0 km <br> 2025-06-19 ",
           "0.0 km <br> 2025-06-26 ",
           "0.0 km <br> 2025-07-03 ",
           "0.0 km <br> 2025-07-10 ",
           "4.015 km <br> 2025-07-17 in Berlin",
           "0.0 km <br> 2025-07-24 ",
           "0.0 km <br> 2025-07-31 ",
           "0.0 km <br> 2025-08-07 ",
           "0.0 km <br> 2025-08-14 ",
           "0.0 km <br> 2025-08-21 ",
           "0.0 km <br> 2025-08-28 ",
           "0.0 km <br> 2025-09-04 ",
           "0.0 km <br> 2025-09-11 ",
           "0.0 km <br> 2025-09-18 ",
           "0.0 km <br> 2025-09-25 ",
           "0.0 km <br> 2025-10-02 ",
           "0.0 km <br> 2025-10-09 ",
           "0.0 km <br> 2025-10-16 ",
           "0.0 km <br> 2025-10-23 ",
           "0.0 km <br> 2025-10-30 ",
           "0.0 km <br> 2025-11-06 ",
           "0.0 km <br> 2025-11-13 ",
           "0.0 km <br> 2025-11-20 ",
           "0.0 km <br> 2025-11-27 ",
           "0.0 km <br> 2025-12-04 ",
           "0.0 km <br> 2025-12-11 ",
           "0.0 km <br> 2025-12-18 ",
           "0.0 km <br> 2025-12-25 ",
           "nan"
          ],
          [
           "0.0 km <br> 2025-01-03 ",
           "3.872 km <br> 2025-01-10 in Berlin",
           "0.0 km <br> 2025-01-17 ",
           "0.0 km <br> 2025-01-24 ",
           "7.008 km <br> 2025-01-31 in Berlin",
           "3.012 km <br> 2025-02-07 in Berlin",
           "0.0 km <br> 2025-02-14 ",
           "0.0 km <br> 2025-02-21 ",
           "0.0 km <br> 2025-02-28 ",
           "5.086 km <br> 2025-03-07 in Berlin",
           "0.0 km <br> 2025-03-14 ",
           "0.0 km <br> 2025-03-21 ",
           "0.0 km <br> 2025-03-28 ",
           "0.0 km <br> 2025-04-04 ",
           "0.0 km <br> 2025-04-11 ",
           "0.0 km <br> 2025-04-18 ",
           "0.0 km <br> 2025-04-25 ",
           "0.0 km <br> 2025-05-02 ",
           "0.0 km <br> 2025-05-09 ",
           "0.0 km <br> 2025-05-16 ",
           "3.023 km <br> 2025-05-23 in Toulouse",
           "0.0 km <br> 2025-05-30 ",
           "0.0 km <br> 2025-06-06 ",
           "0.0 km <br> 2025-06-13 ",
           "5.015 km <br> 2025-06-20 in Berlin",
           "4.009 km <br> 2025-06-27 in Berlin",
           "6.023 km <br> 2025-07-04 in Berlin",
           "3.012 km <br> 2025-07-11 in Berlin",
           "0.0 km <br> 2025-07-18 ",
           "0.0 km <br> 2025-07-25 ",
           "0.0 km <br> 2025-08-01 ",
           "0.0 km <br> 2025-08-08 ",
           "0.0 km <br> 2025-08-15 ",
           "0.0 km <br> 2025-08-22 ",
           "0.0 km <br> 2025-08-29 ",
           "0.0 km <br> 2025-09-05 ",
           "0.0 km <br> 2025-09-12 ",
           "0.0 km <br> 2025-09-19 ",
           "0.0 km <br> 2025-09-26 ",
           "0.0 km <br> 2025-10-03 ",
           "0.0 km <br> 2025-10-10 ",
           "0.0 km <br> 2025-10-17 ",
           "0.0 km <br> 2025-10-24 ",
           "0.0 km <br> 2025-10-31 ",
           "0.0 km <br> 2025-11-07 ",
           "0.0 km <br> 2025-11-14 ",
           "0.0 km <br> 2025-11-21 ",
           "0.0 km <br> 2025-11-28 ",
           "0.0 km <br> 2025-12-05 ",
           "0.0 km <br> 2025-12-12 ",
           "0.0 km <br> 2025-12-19 ",
           "0.0 km <br> 2025-12-26 ",
           "nan"
          ],
          [
           "4.015 km <br> 2025-01-04 in Berlin",
           "0.0 km <br> 2025-01-11 ",
           "0.0 km <br> 2025-01-18 ",
           "0.0 km <br> 2025-01-25 ",
           "0.0 km <br> 2025-02-01 ",
           "0.0 km <br> 2025-02-08 ",
           "0.0 km <br> 2025-02-15 ",
           "0.0 km <br> 2025-02-22 ",
           "0.0 km <br> 2025-03-01 ",
           "0.0 km <br> 2025-03-08 ",
           "0.0 km <br> 2025-03-15 ",
           "0.0 km <br> 2025-03-22 ",
           "0.0 km <br> 2025-03-29 ",
           "0.0 km <br> 2025-04-05 ",
           "0.0 km <br> 2025-04-12 ",
           "0.0 km <br> 2025-04-19 ",
           "0.0 km <br> 2025-04-26 ",
           "0.0 km <br> 2025-05-03 ",
           "0.0 km <br> 2025-05-10 ",
           "0.0 km <br> 2025-05-17 ",
           "0.0 km <br> 2025-05-24 ",
           "0.0 km <br> 2025-05-31 ",
           "0.0 km <br> 2025-06-07 ",
           "0.0 km <br> 2025-06-14 ",
           "0.0 km <br> 2025-06-21 ",
           "0.0 km <br> 2025-06-28 ",
           "0.0 km <br> 2025-07-05 ",
           "0.0 km <br> 2025-07-12 ",
           "0.0 km <br> 2025-07-19 ",
           "0.0 km <br> 2025-07-26 ",
           "0.0 km <br> 2025-08-02 ",
           "0.0 km <br> 2025-08-09 ",
           "0.0 km <br> 2025-08-16 ",
           "0.0 km <br> 2025-08-23 ",
           "0.0 km <br> 2025-08-30 ",
           "0.0 km <br> 2025-09-06 ",
           "0.0 km <br> 2025-09-13 ",
           "0.0 km <br> 2025-09-20 ",
           "0.0 km <br> 2025-09-27 ",
           "0.0 km <br> 2025-10-04 ",
           "0.0 km <br> 2025-10-11 ",
           "0.0 km <br> 2025-10-18 ",
           "0.0 km <br> 2025-10-25 ",
           "0.0 km <br> 2025-11-01 ",
           "0.0 km <br> 2025-11-08 ",
           "0.0 km <br> 2025-11-15 ",
           "0.0 km <br> 2025-11-22 ",
           "0.0 km <br> 2025-11-29 ",
           "0.0 km <br> 2025-12-06 ",
           "0.0 km <br> 2025-12-13 ",
           "0.0 km <br> 2025-12-20 ",
           "0.0 km <br> 2025-12-27 ",
           "nan"
          ]
         ],
         "type": "heatmap",
         "x": {
          "bdata": "AAECAwQFBgcICQoLDA0ODxAREhMUFRYXGBkaGxwdHh8gISIjJCUmJygpKissLS4vMDEyMzQ=",
          "dtype": "i1"
         },
         "xgap": 2,
         "y": {
          "bdata": "AAECAwQFBg==",
          "dtype": "i1"
         },
         "ygap": 2,
         "z": [
          [
           null,
           0,
           0,
           3,
           0,
           0,
           0,
           0,
           1,
           2,
           0,
           0,
           0,
           0,
           3,
           0,
           0,
           0,
           0,
           0,
           0,
           0,
           0,
           0,
           0,
           0,
           0,
           2,
           0,
           0,
           0,
           0,
           0,
           0,
           0,
           0,
           0,
           0,
           0,
           0,
           0,
           0,
           0,
           0,
           0,
           0,
           0,
           0,
           0,
           0,
           0,
           0,
           0
          ],
          [
           null,
           0,
           0,
           0,
           2,
           0,
           0,
           0,
           0,
           0,
           1,
           0,
           0,
           0,
           0,
           2,
           0,
           0,
           0,
           0,
           0,
           0,
           0,
           1,
           0,
           1,
           0,
           0,
           0,
           0,
           0,
           0,
           0,
           0,
           0,
           0,
           0,
           0,
           0,
           0,
           0,
           0,
           0,
           0,
           0,
           0,
           0,
           0,
           0,
           0,
           0,
           0,
           0
          ],
          [
           null,
           0,
           1,
           0,
           0,
           1,
           2,
           0,
           1,
           0,
           0,
           0,
           0,
           1,
           0,
           0,
           0,
           0,
           0,
           0,
           0,
           0,
           0,
           0,
           0,
           0,
           0,
           0,
           3,
           0,
           0,
           0,
           0,
           0,
           0,
           0,
           0,
           0,
           0,
           0,
           0,
           0,
           0,
           0,
           0,
           0,
           0,
           0,
           0,
           0,
           0,
           0,
           0
          ],
          [
           0,
           1,
           2,
           0,
           0,
           0,
           0,
           0,
           0,
           0,
           0,
           0,
           0,
           0,
           1,
           0,
           0,
           0,
           0,
           0,
           0,
           0,
           0,
           0,
           0,
           0,
           0,
           0,
           0,
           0,
           0,
           0,
           0,
           0,
           0,
           0,
           0,
           0,
           0,
           0,
           0,
           0,
           0,
           0,
           0,
           0,
           0,
           0,
           0,
           0,
           0,
           0,
           0
          ],
          [
           0,
           0,
           0,
           0,
           0,
           0,
           0,
           0,
           0,
           0,
           0,
           0,
           0,
           2,
           0,
           3,
           0,
           0,
           0,
           0,
           0,
           0,
           0,
           2,
           0,
           0,
           0,
           0,
           2,
           0,
           0,
           0,
           0,
           0,
           0,
           0,
           0,
           0,
           0,
           0,
           0,
           0,
           0,
           0,
           0,
           0,
           0,
           0,
           0,
           0,
           0,
           0,
           null
          ],
          [
           0,
           2,
           0,
           0,
           3,
           1,
           0,
           0,
           0,
           2,
           0,
           0,
           0,
           0,
           0,
           0,
           0,
           0,
           0,
           0,
           1,
           0,
           0,
           0,
           2,
           2,
           3,
           1,
           0,
           0,
           0,
           0,
           0,
           0,
           0,
           0,
           0,
           0,
           0,
           0,
           0,
           0,
           0,
           0,
           0,
           0,
           0,
           0,
           0,
           0,
           0,
           0,
           null
          ],
          [
           2,
           0,
           0,
           0,
           0,
           0,
           0,
           0,
           0,
           0,
           0,
           0,
           0,
           0,
           0,
           0,
           0,
           0,
           0,
           0,
           0,
           0,
           0,
           0,
           0,
           0,
           0,
           0,
           0,
           0,
           0,
           0,
           0,
           0,
           0,
           0,
           0,
           0,
           0,
           0,
           0,
           0,
           0,
           0,
           0,
           0,
           0,
           0,
           0,
           0,
           0,
           0,
           null
          ]
         ],
         "zmax": 4,
         "zmin": 0
        }
       ],
       "layout": {
        "height": 300,
        "plot_bgcolor": "white",
        "template": {
         "data": {
          "bar": [
           {
            "error_x": {
             "color": "#2a3f5f"
            },
            "error_y": {
             "color": "#2a3f5f"
            },
            "marker": {
             "line": {
              "color": "#E5ECF6",
              "width": 0.5
             },
             "pattern": {
              "fillmode": "overlay",
              "size": 10,
              "solidity": 0.2
             }
            },
            "type": "bar"
           }
          ],
          "barpolar": [
           {
            "marker": {
             "line": {
              "color": "#E5ECF6",
              "width": 0.5
             },
             "pattern": {
              "fillmode": "overlay",
              "size": 10,
              "solidity": 0.2
             }
            },
            "type": "barpolar"
           }
          ],
          "carpet": [
           {
            "aaxis": {
             "endlinecolor": "#2a3f5f",
             "gridcolor": "white",
             "linecolor": "white",
             "minorgridcolor": "white",
             "startlinecolor": "#2a3f5f"
            },
            "baxis": {
             "endlinecolor": "#2a3f5f",
             "gridcolor": "white",
             "linecolor": "white",
             "minorgridcolor": "white",
             "startlinecolor": "#2a3f5f"
            },
            "type": "carpet"
           }
          ],
          "choropleth": [
           {
            "colorbar": {
             "outlinewidth": 0,
             "ticks": ""
            },
            "type": "choropleth"
           }
          ],
          "contour": [
           {
            "colorbar": {
             "outlinewidth": 0,
             "ticks": ""
            },
            "colorscale": [
             [
              0,
              "#0d0887"
             ],
             [
              0.1111111111111111,
              "#46039f"
             ],
             [
              0.2222222222222222,
              "#7201a8"
             ],
             [
              0.3333333333333333,
              "#9c179e"
             ],
             [
              0.4444444444444444,
              "#bd3786"
             ],
             [
              0.5555555555555556,
              "#d8576b"
             ],
             [
              0.6666666666666666,
              "#ed7953"
             ],
             [
              0.7777777777777778,
              "#fb9f3a"
             ],
             [
              0.8888888888888888,
              "#fdca26"
             ],
             [
              1,
              "#f0f921"
             ]
            ],
            "type": "contour"
           }
          ],
          "contourcarpet": [
           {
            "colorbar": {
             "outlinewidth": 0,
             "ticks": ""
            },
            "type": "contourcarpet"
           }
          ],
          "heatmap": [
           {
            "colorbar": {
             "outlinewidth": 0,
             "ticks": ""
            },
            "colorscale": [
             [
              0,
              "#0d0887"
             ],
             [
              0.1111111111111111,
              "#46039f"
             ],
             [
              0.2222222222222222,
              "#7201a8"
             ],
             [
              0.3333333333333333,
              "#9c179e"
             ],
             [
              0.4444444444444444,
              "#bd3786"
             ],
             [
              0.5555555555555556,
              "#d8576b"
             ],
             [
              0.6666666666666666,
              "#ed7953"
             ],
             [
              0.7777777777777778,
              "#fb9f3a"
             ],
             [
              0.8888888888888888,
              "#fdca26"
             ],
             [
              1,
              "#f0f921"
             ]
            ],
            "type": "heatmap"
           }
          ],
          "histogram": [
           {
            "marker": {
             "pattern": {
              "fillmode": "overlay",
              "size": 10,
              "solidity": 0.2
             }
            },
            "type": "histogram"
           }
          ],
          "histogram2d": [
           {
            "colorbar": {
             "outlinewidth": 0,
             "ticks": ""
            },
            "colorscale": [
             [
              0,
              "#0d0887"
             ],
             [
              0.1111111111111111,
              "#46039f"
             ],
             [
              0.2222222222222222,
              "#7201a8"
             ],
             [
              0.3333333333333333,
              "#9c179e"
             ],
             [
              0.4444444444444444,
              "#bd3786"
             ],
             [
              0.5555555555555556,
              "#d8576b"
             ],
             [
              0.6666666666666666,
              "#ed7953"
             ],
             [
              0.7777777777777778,
              "#fb9f3a"
             ],
             [
              0.8888888888888888,
              "#fdca26"
             ],
             [
              1,
              "#f0f921"
             ]
            ],
            "type": "histogram2d"
           }
          ],
          "histogram2dcontour": [
           {
            "colorbar": {
             "outlinewidth": 0,
             "ticks": ""
            },
            "colorscale": [
             [
              0,
              "#0d0887"
             ],
             [
              0.1111111111111111,
              "#46039f"
             ],
             [
              0.2222222222222222,
              "#7201a8"
             ],
             [
              0.3333333333333333,
              "#9c179e"
             ],
             [
              0.4444444444444444,
              "#bd3786"
             ],
             [
              0.5555555555555556,
              "#d8576b"
             ],
             [
              0.6666666666666666,
              "#ed7953"
             ],
             [
              0.7777777777777778,
              "#fb9f3a"
             ],
             [
              0.8888888888888888,
              "#fdca26"
             ],
             [
              1,
              "#f0f921"
             ]
            ],
            "type": "histogram2dcontour"
           }
          ],
          "mesh3d": [
           {
            "colorbar": {
             "outlinewidth": 0,
             "ticks": ""
            },
            "type": "mesh3d"
           }
          ],
          "parcoords": [
           {
            "line": {
             "colorbar": {
              "outlinewidth": 0,
              "ticks": ""
             }
            },
            "type": "parcoords"
           }
          ],
          "pie": [
           {
            "automargin": true,
            "type": "pie"
           }
          ],
          "scatter": [
           {
            "fillpattern": {
             "fillmode": "overlay",
             "size": 10,
             "solidity": 0.2
            },
            "type": "scatter"
           }
          ],
          "scatter3d": [
           {
            "line": {
             "colorbar": {
              "outlinewidth": 0,
              "ticks": ""
             }
            },
            "marker": {
             "colorbar": {
              "outlinewidth": 0,
              "ticks": ""
             }
            },
            "type": "scatter3d"
           }
          ],
          "scattercarpet": [
           {
            "marker": {
             "colorbar": {
              "outlinewidth": 0,
              "ticks": ""
             }
            },
            "type": "scattercarpet"
           }
          ],
          "scattergeo": [
           {
            "marker": {
             "colorbar": {
              "outlinewidth": 0,
              "ticks": ""
             }
            },
            "type": "scattergeo"
           }
          ],
          "scattergl": [
           {
            "marker": {
             "colorbar": {
              "outlinewidth": 0,
              "ticks": ""
             }
            },
            "type": "scattergl"
           }
          ],
          "scattermap": [
           {
            "marker": {
             "colorbar": {
              "outlinewidth": 0,
              "ticks": ""
             }
            },
            "type": "scattermap"
           }
          ],
          "scattermapbox": [
           {
            "marker": {
             "colorbar": {
              "outlinewidth": 0,
              "ticks": ""
             }
            },
            "type": "scattermapbox"
           }
          ],
          "scatterpolar": [
           {
            "marker": {
             "colorbar": {
              "outlinewidth": 0,
              "ticks": ""
             }
            },
            "type": "scatterpolar"
           }
          ],
          "scatterpolargl": [
           {
            "marker": {
             "colorbar": {
              "outlinewidth": 0,
              "ticks": ""
             }
            },
            "type": "scatterpolargl"
           }
          ],
          "scatterternary": [
           {
            "marker": {
             "colorbar": {
              "outlinewidth": 0,
              "ticks": ""
             }
            },
            "type": "scatterternary"
           }
          ],
          "surface": [
           {
            "colorbar": {
             "outlinewidth": 0,
             "ticks": ""
            },
            "colorscale": [
             [
              0,
              "#0d0887"
             ],
             [
              0.1111111111111111,
              "#46039f"
             ],
             [
              0.2222222222222222,
              "#7201a8"
             ],
             [
              0.3333333333333333,
              "#9c179e"
             ],
             [
              0.4444444444444444,
              "#bd3786"
             ],
             [
              0.5555555555555556,
              "#d8576b"
             ],
             [
              0.6666666666666666,
              "#ed7953"
             ],
             [
              0.7777777777777778,
              "#fb9f3a"
             ],
             [
              0.8888888888888888,
              "#fdca26"
             ],
             [
              1,
              "#f0f921"
             ]
            ],
            "type": "surface"
           }
          ],
          "table": [
           {
            "cells": {
             "fill": {
              "color": "#EBF0F8"
             },
             "line": {
              "color": "white"
             }
            },
            "header": {
             "fill": {
              "color": "#C8D4E3"
             },
             "line": {
              "color": "white"
             }
            },
            "type": "table"
           }
          ]
         },
         "layout": {
          "annotationdefaults": {
           "arrowcolor": "#2a3f5f",
           "arrowhead": 0,
           "arrowwidth": 1
          },
          "autotypenumbers": "strict",
          "coloraxis": {
           "colorbar": {
            "outlinewidth": 0,
            "ticks": ""
           }
          },
          "colorscale": {
           "diverging": [
            [
             0,
             "#8e0152"
            ],
            [
             0.1,
             "#c51b7d"
            ],
            [
             0.2,
             "#de77ae"
            ],
            [
             0.3,
             "#f1b6da"
            ],
            [
             0.4,
             "#fde0ef"
            ],
            [
             0.5,
             "#f7f7f7"
            ],
            [
             0.6,
             "#e6f5d0"
            ],
            [
             0.7,
             "#b8e186"
            ],
            [
             0.8,
             "#7fbc41"
            ],
            [
             0.9,
             "#4d9221"
            ],
            [
             1,
             "#276419"
            ]
           ],
           "sequential": [
            [
             0,
             "#0d0887"
            ],
            [
             0.1111111111111111,
             "#46039f"
            ],
            [
             0.2222222222222222,
             "#7201a8"
            ],
            [
             0.3333333333333333,
             "#9c179e"
            ],
            [
             0.4444444444444444,
             "#bd3786"
            ],
            [
             0.5555555555555556,
             "#d8576b"
            ],
            [
             0.6666666666666666,
             "#ed7953"
            ],
            [
             0.7777777777777778,
             "#fb9f3a"
            ],
            [
             0.8888888888888888,
             "#fdca26"
            ],
            [
             1,
             "#f0f921"
            ]
           ],
           "sequentialminus": [
            [
             0,
             "#0d0887"
            ],
            [
             0.1111111111111111,
             "#46039f"
            ],
            [
             0.2222222222222222,
             "#7201a8"
            ],
            [
             0.3333333333333333,
             "#9c179e"
            ],
            [
             0.4444444444444444,
             "#bd3786"
            ],
            [
             0.5555555555555556,
             "#d8576b"
            ],
            [
             0.6666666666666666,
             "#ed7953"
            ],
            [
             0.7777777777777778,
             "#fb9f3a"
            ],
            [
             0.8888888888888888,
             "#fdca26"
            ],
            [
             1,
             "#f0f921"
            ]
           ]
          },
          "colorway": [
           "#636efa",
           "#EF553B",
           "#00cc96",
           "#ab63fa",
           "#FFA15A",
           "#19d3f3",
           "#FF6692",
           "#B6E880",
           "#FF97FF",
           "#FECB52"
          ],
          "font": {
           "color": "#2a3f5f"
          },
          "geo": {
           "bgcolor": "white",
           "lakecolor": "white",
           "landcolor": "#E5ECF6",
           "showlakes": true,
           "showland": true,
           "subunitcolor": "white"
          },
          "hoverlabel": {
           "align": "left"
          },
          "hovermode": "closest",
          "mapbox": {
           "style": "light"
          },
          "paper_bgcolor": "white",
          "plot_bgcolor": "#E5ECF6",
          "polar": {
           "angularaxis": {
            "gridcolor": "white",
            "linecolor": "white",
            "ticks": ""
           },
           "bgcolor": "#E5ECF6",
           "radialaxis": {
            "gridcolor": "white",
            "linecolor": "white",
            "ticks": ""
           }
          },
          "scene": {
           "xaxis": {
            "backgroundcolor": "#E5ECF6",
            "gridcolor": "white",
            "gridwidth": 2,
            "linecolor": "white",
            "showbackground": true,
            "ticks": "",
            "zerolinecolor": "white"
           },
           "yaxis": {
            "backgroundcolor": "#E5ECF6",
            "gridcolor": "white",
            "gridwidth": 2,
            "linecolor": "white",
            "showbackground": true,
            "ticks": "",
            "zerolinecolor": "white"
           },
           "zaxis": {
            "backgroundcolor": "#E5ECF6",
            "gridcolor": "white",
            "gridwidth": 2,
            "linecolor": "white",
            "showbackground": true,
            "ticks": "",
            "zerolinecolor": "white"
           }
          },
          "shapedefaults": {
           "line": {
            "color": "#2a3f5f"
           }
          },
          "ternary": {
           "aaxis": {
            "gridcolor": "white",
            "linecolor": "white",
            "ticks": ""
           },
           "baxis": {
            "gridcolor": "white",
            "linecolor": "white",
            "ticks": ""
           },
           "bgcolor": "#E5ECF6",
           "caxis": {
            "gridcolor": "white",
            "linecolor": "white",
            "ticks": ""
           }
          },
          "title": {
           "x": 0.05
          },
          "xaxis": {
           "automargin": true,
           "gridcolor": "white",
           "linecolor": "white",
           "ticks": "",
           "title": {
            "standoff": 15
           },
           "zerolinecolor": "white",
           "zerolinewidth": 2
          },
          "yaxis": {
           "automargin": true,
           "gridcolor": "white",
           "linecolor": "white",
           "ticks": "",
           "title": {
            "standoff": 15
           },
           "zerolinecolor": "white",
           "zerolinewidth": 2
          }
         }
        },
        "width": 1000,
        "xaxis": {
         "ticktext": [
          "Jan",
          "Feb",
          "Mar",
          "Apr",
          "May",
          "Jun",
          "Jul",
          "Aug",
          "Sep",
          "Oct",
          "Nov",
          "Dec"
         ],
         "tickvals": [
          0,
          5,
          9,
          13,
          18,
          22,
          26,
          31,
          35,
          39,
          44,
          48
         ]
        },
        "yaxis": {
         "autorange": "reversed",
         "range": [
          -0.5,
          6.5
         ],
         "scaleanchor": "x",
         "tickmode": "array",
         "ticktext": [
          "",
          "Mon  ",
          "",
          "Wed  ",
          "",
          "Fri  ",
          ""
         ],
         "tickvals": [
          0,
          1,
          2,
          3,
          4,
          5,
          6
         ]
        }
       }
      },
      "image/png": "[encoded data removed]"
     },
     "metadata": {},
     "output_type": "display_data"
    }
   ],
   "source": [
    "# for the values we want to show\n",
    "z_matrix = new.pivot(index=\"github_weekday\", columns=\"calendar_week\", values=\"distance_label\")\n",
    "# for the date that we need for the labels when hovering\n",
    "label_matrix = new.pivot(index=\"github_weekday\", columns=\"calendar_week\", values=\"hover_label\")\n",
    "label_matrix_str = label_matrix.astype(str).values \n",
    "\n",
    "# Weekday labels\n",
    "weekday_labels = [\"\",\"Mon  \",\"\",\"Wed  \",\"\",\"Fri  \",\"\"] # add whitespacd\n",
    "\n",
    "# number of green tones\n",
    "num_green = 4\n",
    "custom_colorscale = custom_green_scale(num_green)\n",
    "# labels for colorscale\n",
    "lc = ['']* (num_green + 1)\n",
    "lc[0] = 'less'\n",
    "lc[-1] = 'more'\n",
    "\n",
    "fig = go.Figure(go.Heatmap(\n",
    "    z=z_matrix.values,                   # 2D data matrix\n",
    "    x=z_matrix.columns,                  # weeks on x-axis\n",
    "    y=z_matrix.index,    \n",
    "    zmax = num_green,\n",
    "    zmin = 0,\n",
    "    colorscale=custom_colorscale,\n",
    "    xgap=2, ygap=2,                      # add spacing between cells\n",
    "    colorbar = dict(\n",
    "        title= \"km\",           # ✅ Title of the legend\n",
    "        tickvals= list(range(num_green + 1)),  # ✅ Where to place ticks\n",
    "        ticktext= lc  # ✅ Custom labels\n",
    "    ),\n",
    "    hoverongaps=False,\n",
    "    text=label_matrix_str,    \n",
    "    hovertemplate=(\" %{text}<br>\" +          # use the date string here\n",
    "                   \"<extra></extra>\"  # hides trace name box\n",
    ")))\n",
    "\n",
    "# Make cells square\n",
    "fig.update_yaxes(\n",
    "    scaleanchor=\"x\",     # enforce square aspect ratio\n",
    "    autorange='reversed', # reverse to match GitHub style\n",
    "    tickmode=\"array\",\n",
    "    tickvals=list(range(7)),\n",
    "    range=[-0.5, 6.5],                      # always show 7 rows\n",
    "    ticktext=weekday_labels,\n",
    ")\n",
    "\n",
    "\n",
    "# Label only some weeks with months\n",
    "tickvals = list(labels.calendar_week)\n",
    "ticktext = list(labels.month)\n",
    "\n",
    "fig.update_xaxes(\n",
    "    tickvals=tickvals,\n",
    "    ticktext=ticktext\n",
    ")\n",
    "\n",
    "fig.update_layout(\n",
    "    plot_bgcolor='white',        # inside plot area\n",
    "    #paper_bgcolor='lightgray',\n",
    "    #margin=dict(l=60, r=20, t=40, b=10),\n",
    "    width = 1000,\n",
    "    height = 300\n",
    ")\n",
    "\n",
    "fig.show()"
   ]
  },
  {
   "cell_type": "markdown",
   "metadata": {},
   "source": [
    "## Lets work on a good binning for our color scale!\n"
   ]
  },
  {
   "cell_type": "code",
   "execution_count": 605,
   "metadata": {},
   "outputs": [
    {
     "data": {
      "text/html": [
       "<div>\n",
       "<style scoped>\n",
       "    .dataframe tbody tr th:only-of-type {\n",
       "        vertical-align: middle;\n",
       "    }\n",
       "\n",
       "    .dataframe tbody tr th {\n",
       "        vertical-align: top;\n",
       "    }\n",
       "\n",
       "    .dataframe thead th {\n",
       "        text-align: right;\n",
       "    }\n",
       "</style>\n",
       "<table border=\"1\" class=\"dataframe\">\n",
       "  <thead>\n",
       "    <tr style=\"text-align: right;\">\n",
       "      <th></th>\n",
       "      <th>date</th>\n",
       "      <th>distance_km</th>\n",
       "      <th>duration_min</th>\n",
       "    </tr>\n",
       "  </thead>\n",
       "  <tbody>\n",
       "    <tr>\n",
       "      <th>0</th>\n",
       "      <td>2025-01-04</td>\n",
       "      <td>4.01524</td>\n",
       "      <td>29.859916</td>\n",
       "    </tr>\n",
       "    <tr>\n",
       "      <th>1</th>\n",
       "      <td>2025-01-08</td>\n",
       "      <td>2.66962</td>\n",
       "      <td>20.064484</td>\n",
       "    </tr>\n",
       "    <tr>\n",
       "      <th>2</th>\n",
       "      <td>2025-01-10</td>\n",
       "      <td>3.87244</td>\n",
       "      <td>30.039583</td>\n",
       "    </tr>\n",
       "    <tr>\n",
       "      <th>3</th>\n",
       "      <td>2025-01-14</td>\n",
       "      <td>2.77210</td>\n",
       "      <td>21.297249</td>\n",
       "    </tr>\n",
       "    <tr>\n",
       "      <th>4</th>\n",
       "      <td>2025-01-15</td>\n",
       "      <td>4.10387</td>\n",
       "      <td>30.036932</td>\n",
       "    </tr>\n",
       "  </tbody>\n",
       "</table>\n",
       "</div>"
      ],
      "text/plain": [
       "         date  distance_km  duration_min\n",
       "0  2025-01-04      4.01524     29.859916\n",
       "1  2025-01-08      2.66962     20.064484\n",
       "2  2025-01-10      3.87244     30.039583\n",
       "3  2025-01-14      2.77210     21.297249\n",
       "4  2025-01-15      4.10387     30.036932"
      ]
     },
     "execution_count": 605,
     "metadata": {},
     "output_type": "execute_result"
    }
   ],
   "source": [
    "run_df.head()"
   ]
  },
  {
   "cell_type": "code",
   "execution_count": 609,
   "metadata": {},
   "outputs": [],
   "source": [
    "import seaborn as sns\n",
    "import matplotlib.pyplot as plt"
   ]
  },
  {
   "cell_type": "code",
   "execution_count": 632,
   "metadata": {},
   "outputs": [
    {
     "data": {
      "image/png": "[encoded data removed]",
      "text/plain": [
       "<Figure size 640x480 with 1 Axes>"
      ]
     },
     "metadata": {},
     "output_type": "display_data"
    }
   ],
   "source": [
    "sns.histplot(run_df, x='distance_km', bins=20, kde=True, color=\"skyblue\")\n",
    "plt.show()"
   ]
  },
  {
   "cell_type": "code",
   "execution_count": 635,
   "metadata": {},
   "outputs": [
    {
     "data": {
      "text/plain": [
       "distance_km\n",
       "2.0     315\n",
       "3.0     200\n",
       "4.0      96\n",
       "5.0      50\n",
       "6.0      29\n",
       "7.0      15\n",
       "1.0      14\n",
       "8.0       8\n",
       "10.0      8\n",
       "9.0       3\n",
       "0.0       2\n",
       "12.0      2\n",
       "Name: count, dtype: int64"
      ]
     },
     "execution_count": 635,
     "metadata": {},
     "output_type": "execute_result"
    }
   ],
   "source": [
    "run_df.distance_km.round().value_counts()"
   ]
  },
  {
   "cell_type": "code",
   "execution_count": 636,
   "metadata": {},
   "outputs": [],
   "source": [
    "# 5 bins auswaehlen\n",
    "# bin 1: bis 3k (gerundet natuerlich)\n",
    "# bin 2: bis 5k\n",
    "# bin 3: bis 7k\n",
    "# bin 4: bis 9k\n",
    "# bin 5: ab 10k"
   ]
  },
  {
   "cell_type": "code",
   "execution_count": null,
   "metadata": {},
   "outputs": [],
   "source": [
    "# do we want a way to filter for a particular year?"
   ]
  }
 ],
 "metadata": {
  "kernelspec": {
   "display_name": "Python 3 (ipykernel)",
   "language": "python",
   "name": "python3"
  },
  "language_info": {
   "codemirror_mode": {
    "name": "ipython",
    "version": 3
   },
   "file_extension": ".py",
   "mimetype": "text/x-python",
   "name": "python",
   "nbconvert_exporter": "python",
   "pygments_lexer": "ipython3",
   "version": "3.12.11"
  }
 },
 "nbformat": 4,
 "nbformat_minor": 4
}
